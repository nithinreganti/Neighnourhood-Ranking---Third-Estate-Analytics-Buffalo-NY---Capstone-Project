{
  "nbformat": 4,
  "nbformat_minor": 0,
  "metadata": {
    "kernelspec": {
      "display_name": "Python 3",
      "language": "python",
      "name": "python3"
    },
    "language_info": {
      "codemirror_mode": {
        "name": "ipython",
        "version": 3
      },
      "file_extension": ".py",
      "mimetype": "text/x-python",
      "name": "python",
      "nbconvert_exporter": "python",
      "pygments_lexer": "ipython3",
      "version": "3.7.3"
    },
    "colab": {
      "name": "Capstone.ipynb",
      "provenance": [],
      "include_colab_link": true
    }
  },
  "cells": [
    {
      "cell_type": "markdown",
      "metadata": {
        "id": "view-in-github",
        "colab_type": "text"
      },
      "source": [
        "<a href=\"https://colab.research.google.com/github/nithinreganti/Neighnourhood-Ranking---Third-Estate-Analytics-Buffalo-NY---Capstone-Project-AWS-EC2-/blob/master/Capstone.ipynb\" target=\"_parent\"><img src=\"https://colab.research.google.com/assets/colab-badge.svg\" alt=\"Open In Colab\"/></a>"
      ]
    },
    {
      "cell_type": "code",
      "metadata": {
        "id": "W_Lz2KSxmGfq",
        "colab_type": "code",
        "colab": {}
      },
      "source": [
        "import numpy as np\n",
        "import pandas as pd\n",
        "from sklearn.linear_model import LinearRegression, Lasso, Ridge\n",
        "from sklearn.model_selection import train_test_split \n",
        "from sklearn.metrics import mean_absolute_error"
      ],
      "execution_count": 0,
      "outputs": []
    },
    {
      "cell_type": "code",
      "metadata": {
        "id": "UPzu0rLAmsem",
        "colab_type": "code",
        "colab": {
          "base_uri": "https://localhost:8080/",
          "height": 34
        },
        "outputId": "8a64619b-58b7-4c48-b85e-431ff0eadc80"
      },
      "source": [
        "from google.colab import drive\n",
        "drive.mount('/content/drive')"
      ],
      "execution_count": 4,
      "outputs": [
        {
          "output_type": "stream",
          "text": [
            "Drive already mounted at /content/drive; to attempt to forcibly remount, call drive.mount(\"/content/drive\", force_remount=True).\n"
          ],
          "name": "stdout"
        }
      ]
    },
    {
      "cell_type": "code",
      "metadata": {
        "id": "jLOi9N69mGfu",
        "colab_type": "code",
        "colab": {}
      },
      "source": [
        "files = ['/content/drive/My Drive/Gentrification/Parking_Summonses .csv',\n",
        "         '/content/drive/My Drive/Gentrification/Housing_Court_Cases.csv',\n",
        "         '/content/drive/My Drive/Gentrification/Business_Licesnces_Updated_Description.xlsx',\n",
        "         '/content/drive/My Drive/Gentrification/Permits.csv',\n",
        "         '/content/drive/My Drive/Gentrification/311_Service_Requests.csv'\n",
        "        ]\n",
        "\n",
        "years = [2015, 2016, 2017, 2018]"
      ],
      "execution_count": 0,
      "outputs": []
    },
    {
      "cell_type": "code",
      "metadata": {
        "id": "BRo5m_NKmGfy",
        "colab_type": "code",
        "colab": {}
      },
      "source": [
        "def get_parking_df(year, parking):\n",
        "    parking = parking[['VIOLATION DESCRIPTION', 'CENSUS TRACT', 'SUMMONS DATE']]\n",
        "    parking = parking[parking['CENSUS TRACT'] != 'UNKNOWN']\n",
        "    parking['CENSUS TRACT'] = parking['CENSUS TRACT'].astype(float)\n",
        "    parking['SUMMONS DATE'] = pd.to_datetime(parking['SUMMONS DATE'])\n",
        "    parking = parking[parking['SUMMONS DATE'].dt.year == year]\n",
        "    parking = parking[['VIOLATION DESCRIPTION', 'CENSUS TRACT']]\n",
        "    parking = pd.get_dummies(parking)\n",
        "    parking.dropna(inplace=True)\n",
        "    print('PARKING ' +str(year)+ ' CT: ', parking['CENSUS TRACT'].nunique())\n",
        "    print('PARKING ' +str(year)+ ' Missing Values: ', parking.isnull().sum().sum())\n",
        "    return parking\n",
        "\n",
        "def get_court_df(year, court):\n",
        "    court = court[['CENSUS TRACT', 'RESOLUTION', 'LASTACTION']]\n",
        "    court = court[court['CENSUS TRACT'] != 'UNKNOWN']\n",
        "    court['CENSUS TRACT'] = court['CENSUS TRACT'].astype(float)\n",
        "    court['LASTACTION'] = court['LASTACTION'].apply(lambda x: x.split(' A')[0])\n",
        "    court['LASTACTION'] = pd.to_datetime(court['LASTACTION'])\n",
        "    court = court[court['LASTACTION'].dt.year == year]\n",
        "    court = court[['CENSUS TRACT', 'RESOLUTION']]\n",
        "    court = pd.get_dummies(court)\n",
        "    court.dropna(inplace=True)\n",
        "    print('COURT ' +str(year)+ ' CT: ', court['CENSUS TRACT'].nunique())\n",
        "    print('COURT ' +str(year)+ ' Missing Values: ', court.isnull().sum().sum())\n",
        "    return court\n",
        "    \n",
        "def get_license_df(year, license):\n",
        "    license = license[['CENSUS TRACT', 'DESCRIPT', 'STATUSDTTM']]\n",
        "    license = license[license['CENSUS TRACT'] != 'UNKNOWN']\n",
        "    license['CENSUS TRACT'] = license['CENSUS TRACT'].astype(float)\n",
        "    license['STATUSDTTM'] = pd.to_datetime(license['STATUSDTTM'])\n",
        "    license = license[license['STATUSDTTM'].dt.year == year]\n",
        "    license = license[['CENSUS TRACT', 'DESCRIPT']]\n",
        "    license = pd.get_dummies(license)\n",
        "    license.dropna(inplace=True)\n",
        "    print('LICENSE ' +str(year)+ ' CT: ', license['CENSUS TRACT'].nunique())\n",
        "    print('LICENSE ' +str(year)+ ' Missing Values: ', license.isnull().sum().sum())\n",
        "    return license\n",
        "\n",
        "def get_permit_df(year, permit):\n",
        "    permit = permit[['PERMIT TYPE', 'CENSUS TRACT', 'ISSUED']]\n",
        "    permit = permit[permit['CENSUS TRACT'] != 'UNKNOWN']\n",
        "    permit['ISSUED'] = pd.to_datetime(permit['ISSUED'])\n",
        "    permit['CENSUS TRACT'] = permit['CENSUS TRACT'].astype(float)\n",
        "    permit = permit[permit['ISSUED'].dt.year == year]\n",
        "    permit = permit[['PERMIT TYPE', 'CENSUS TRACT']]\n",
        "    permit = pd.get_dummies(permit)\n",
        "    permit.dropna(inplace=True)\n",
        "    permit = permit.sample(n=1000, random_state=14)\n",
        "    print('PERMIT ' +str(year)+ ' CT: ', permit['CENSUS TRACT'].nunique())\n",
        "    print('PERMIT ' +str(year)+ ' Missing Values: ', permit.isnull().sum().sum())\n",
        "    return permit\n",
        "\n",
        "def get_service_df(year, service):\n",
        "    service = service[['TYPE', 'CENSUS TRACT', 'CLOSED DATE']]\n",
        "    service = service[service['CENSUS TRACT'] != 'UNKNOWN']\n",
        "    service['CENSUS TRACT'] = service['CENSUS TRACT'].astype(float)\n",
        "    service['CLOSED DATE'] = pd.to_datetime(service['CLOSED DATE'])\n",
        "    service = service[service['CLOSED DATE'].dt.year == year]\n",
        "    service = service[['TYPE', 'CENSUS TRACT']]\n",
        "    service = pd.get_dummies(service)\n",
        "    service.dropna(inplace=True)\n",
        "    service = service.sample(n=1000, random_state=27)\n",
        "    print('SERVICE ' +str(year)+ ' CT: ', service['CENSUS TRACT'].nunique())\n",
        "    print('SERVICE ' +str(year)+ ' Missing Values: ', service.isnull().sum().sum())\n",
        "    return service\n",
        "    \n",
        "def merge_df(year, files):\n",
        "    parking = pd.read_csv(files[0])\n",
        "    print('Processing parking data for ' +str(year)+ '....')\n",
        "    parking_df = get_parking_df(year, parking)\n",
        "    del parking\n",
        "    \n",
        "    court = pd.read_csv(files[1])\n",
        "    print('Processing court data for ' +str(year)+ '....')\n",
        "    court_df = get_court_df(year, court)\n",
        "    del court\n",
        "    \n",
        "    license = pd.read_excel(files[2])\n",
        "    print('Processing license data for ' +str(year)+ '....')  \n",
        "    license_df = get_license_df(year, license)\n",
        "    del license\n",
        "    \n",
        "    permit = pd.read_csv(files[3])\n",
        "    print('Processing permit data for ' +str(year)+ '....')\n",
        "    permit_df = get_permit_df(year, permit)\n",
        "    del permit\n",
        "    \n",
        "    service = pd.read_csv(files[4])\n",
        "    print('Processing service data for ' +str(year)+ '....')\n",
        "    service_df = get_service_df(year, service)\n",
        "    del service\n",
        "    \n",
        "    df = pd.merge(parking_df, court_df, 'left', 'CENSUS TRACT')\n",
        "    df = pd.merge(df, license_df, 'left', 'CENSUS TRACT')\n",
        "    df = df.sample(n=100000)\n",
        "    df = pd.merge(df, service_df, 'left', 'CENSUS TRACT')\n",
        "    df = df.sample(n=100000)\n",
        "    df = pd.merge(df, permit_df, 'left', 'CENSUS TRACT')\n",
        "    \n",
        "    print('Merged 5 datasets.')\n",
        "    print('Shape: ', df.shape)\n",
        "    print('Total CTs: ', df['CENSUS TRACT'].nunique())\n",
        "    return df\n",
        "\n",
        "def build_model(df):\n",
        "    X = df.drop(columns = ['Rank', 'CENSUS TRACT'])\n",
        "    y = df[['Rank', 'CENSUS TRACT']]\n",
        "    del df\n",
        "    X_train, X_test, y_train, y_test = train_test_split(X, y, test_size=0.3)\n",
        "    rank_df = y_test\n",
        "    y_train = y_train['Rank']\n",
        "    y_test = y_test['Rank']\n",
        "    \n",
        "    ridge = Ridge()\n",
        "    ridge.fit(X_train, y_train)\n",
        "    \n",
        "    predictions = ridge.predict(X_test)\n",
        "    print('MAE: ', mean_absolute_error(y_test, predictions))\n",
        "    \n",
        "    cdf = pd.DataFrame({'Features': X_train.columns,\n",
        "                        'Coefficients': ridge.coef_\n",
        "                       }).sort_values(by='Coefficients', ascending=False)\n",
        "    \n",
        "    rank_df['PredictedRank'] = predictions\n",
        "    \n",
        "    return cdf, rank_df"
      ],
      "execution_count": 0,
      "outputs": []
    },
    {
      "cell_type": "code",
      "metadata": {
        "id": "XOy5awzK_irA",
        "colab_type": "code",
        "colab": {
          "base_uri": "https://localhost:8080/",
          "height": 700
        },
        "outputId": "e4aece37-ed2c-4163-e98c-d175677083c1"
      },
      "source": [
        "year = 2018\n",
        "df = merge_df(year, files)\n",
        "rank = pd.read_csv('/content/drive/My Drive/Gentrification/census_rank_Assessmentprice_2018.csv')\n",
        "rank = rank[rank['CENSUS TRACT'] != 'UNKNOWN']\n",
        "rank['CENSUS TRACT'] = rank['CENSUS TRACT'].astype(float)\n",
        "df = pd.merge(df, rank, 'left', 'CENSUS TRACT') \n",
        "df.fillna(value=0, inplace=True)\n",
        "df.drop(columns=['Price/sqft'], inplace=True)\n",
        "print('After applying rank to merged dataset.')\n",
        "print('Shape: ', df.shape)\n",
        "print('Total CTs: ', df['CENSUS TRACT'].nunique())\n",
        "print('Total Missing Values: ', df.isnull().sum().sum())\n",
        "cdf_2018, rank_2018 = build_model(df)\n",
        "#         cdf_2018.to_csv('F:/Capstone/Results/cdf2018.csv', index=False)\n",
        "#         rank_2018.to_csv('F:/Capstone/Results/rank2018.csv', index=False)\n",
        "print('\\n<------------------------------------------------->\\n')\n",
        "del df"
      ],
      "execution_count": 21,
      "outputs": [
        {
          "output_type": "stream",
          "text": [
            "/usr/local/lib/python3.6/dist-packages/IPython/core/interactiveshell.py:2822: DtypeWarning: Columns (0,15,16,17) have mixed types.Specify dtype option on import or set low_memory=False.\n",
            "  if self.run_code(code, result):\n"
          ],
          "name": "stderr"
        },
        {
          "output_type": "stream",
          "text": [
            "Processing parking data for 2018....\n",
            "PARKING 2018 CT:  79\n",
            "PARKING 2018 Missing Values:  0\n",
            "Processing court data for 2018....\n"
          ],
          "name": "stdout"
        },
        {
          "output_type": "stream",
          "text": [
            "/usr/local/lib/python3.6/dist-packages/pandas/core/ops/array_ops.py:253: FutureWarning: elementwise comparison failed; returning scalar instead, but in the future will perform elementwise comparison\n",
            "  res_values = method(rvalues)\n"
          ],
          "name": "stderr"
        },
        {
          "output_type": "stream",
          "text": [
            "COURT 2018 CT:  72\n",
            "COURT 2018 Missing Values:  0\n",
            "Processing license data for 2018....\n",
            "LICENSE 2018 CT:  62\n",
            "LICENSE 2018 Missing Values:  0\n"
          ],
          "name": "stdout"
        },
        {
          "output_type": "stream",
          "text": [
            "/usr/local/lib/python3.6/dist-packages/IPython/core/interactiveshell.py:2822: DtypeWarning: Columns (23,25) have mixed types.Specify dtype option on import or set low_memory=False.\n",
            "  if self.run_code(code, result):\n"
          ],
          "name": "stderr"
        },
        {
          "output_type": "stream",
          "text": [
            "Processing permit data for 2018....\n",
            "PERMIT 2018 CT:  78\n",
            "PERMIT 2018 Missing Values:  0\n"
          ],
          "name": "stdout"
        },
        {
          "output_type": "stream",
          "text": [
            "/usr/local/lib/python3.6/dist-packages/IPython/core/interactiveshell.py:2822: DtypeWarning: Columns (0,13,15,18,19,20,21,22) have mixed types.Specify dtype option on import or set low_memory=False.\n",
            "  if self.run_code(code, result):\n"
          ],
          "name": "stderr"
        },
        {
          "output_type": "stream",
          "text": [
            "Processing service data for 2018....\n",
            "SERVICE 2018 CT:  79\n",
            "SERVICE 2018 Missing Values:  0\n",
            "Merged 5 datasets.\n",
            "Shape:  (1978085, 238)\n",
            "Total CTs:  77\n",
            "After applying rank to merged dataset.\n",
            "Shape:  (1978085, 239)\n",
            "Total CTs:  77\n",
            "Total Missing Values:  0\n",
            "MAE:  8.999789089874136\n",
            "\n",
            "<------------------------------------------------->\n",
            "\n"
          ],
          "name": "stdout"
        },
        {
          "output_type": "stream",
          "text": [
            "/usr/local/lib/python3.6/dist-packages/ipykernel_launcher.py:126: SettingWithCopyWarning: \n",
            "A value is trying to be set on a copy of a slice from a DataFrame.\n",
            "Try using .loc[row_indexer,col_indexer] = value instead\n",
            "\n",
            "See the caveats in the documentation: https://pandas.pydata.org/pandas-docs/stable/user_guide/indexing.html#returning-a-view-versus-a-copy\n"
          ],
          "name": "stderr"
        }
      ]
    },
    {
      "cell_type": "code",
      "metadata": {
        "id": "hKhNKfBJAkbK",
        "colab_type": "code",
        "colab": {
          "base_uri": "https://localhost:8080/",
          "height": 700
        },
        "outputId": "3ff266d5-a96e-4c58-ea59-11ed9dc5a791"
      },
      "source": [
        "year == 2017\n",
        "df = merge_df(year, files)\n",
        "rank = pd.read_csv('/content/drive/My Drive/Gentrification/census_rank_Assessmentprice_2017.csv')\n",
        "rank = rank[rank['CENSUS TRACT'] != 'UNKNOWN']\n",
        "rank['CENSUS TRACT'] = rank['CENSUS TRACT'].astype(float)\n",
        "df = pd.merge(df, rank, 'left', 'CENSUS TRACT') \n",
        "df.fillna(value=0, inplace=True)\n",
        "df.drop(columns=['Price/sqft'], inplace=True)\n",
        "print('After applying rank to merged dataset.')\n",
        "print('Shape: ', df.shape)\n",
        "print('Total CTs: ', df['CENSUS TRACT'].nunique())\n",
        "print('Total Missing Values: ', df.isnull().sum().sum())\n",
        "cdf_2017, rank_2017 = build_model(df)\n",
        "#         cdf_2017.to_csv('F:/Capstone/Results/cdf2017.csv', index=False)\n",
        "#         rank_2017.to_csv('F:/Capstone/Results/rank2017.csv', index=False)\n",
        "print('\\n<------------------------------------------------->\\n')\n",
        "del df"
      ],
      "execution_count": 22,
      "outputs": [
        {
          "output_type": "stream",
          "text": [
            "/usr/local/lib/python3.6/dist-packages/IPython/core/interactiveshell.py:2822: DtypeWarning: Columns (0,15,16,17) have mixed types.Specify dtype option on import or set low_memory=False.\n",
            "  if self.run_code(code, result):\n"
          ],
          "name": "stderr"
        },
        {
          "output_type": "stream",
          "text": [
            "Processing parking data for 2018....\n",
            "PARKING 2018 CT:  79\n",
            "PARKING 2018 Missing Values:  0\n",
            "Processing court data for 2018....\n"
          ],
          "name": "stdout"
        },
        {
          "output_type": "stream",
          "text": [
            "/usr/local/lib/python3.6/dist-packages/pandas/core/ops/array_ops.py:253: FutureWarning: elementwise comparison failed; returning scalar instead, but in the future will perform elementwise comparison\n",
            "  res_values = method(rvalues)\n"
          ],
          "name": "stderr"
        },
        {
          "output_type": "stream",
          "text": [
            "COURT 2018 CT:  72\n",
            "COURT 2018 Missing Values:  0\n",
            "Processing license data for 2018....\n",
            "LICENSE 2018 CT:  62\n",
            "LICENSE 2018 Missing Values:  0\n"
          ],
          "name": "stdout"
        },
        {
          "output_type": "stream",
          "text": [
            "/usr/local/lib/python3.6/dist-packages/IPython/core/interactiveshell.py:2822: DtypeWarning: Columns (23,25) have mixed types.Specify dtype option on import or set low_memory=False.\n",
            "  if self.run_code(code, result):\n"
          ],
          "name": "stderr"
        },
        {
          "output_type": "stream",
          "text": [
            "Processing permit data for 2018....\n",
            "PERMIT 2018 CT:  78\n",
            "PERMIT 2018 Missing Values:  0\n"
          ],
          "name": "stdout"
        },
        {
          "output_type": "stream",
          "text": [
            "/usr/local/lib/python3.6/dist-packages/IPython/core/interactiveshell.py:2822: DtypeWarning: Columns (0,13,15,18,19,20,21,22) have mixed types.Specify dtype option on import or set low_memory=False.\n",
            "  if self.run_code(code, result):\n"
          ],
          "name": "stderr"
        },
        {
          "output_type": "stream",
          "text": [
            "Processing service data for 2018....\n",
            "SERVICE 2018 CT:  79\n",
            "SERVICE 2018 Missing Values:  0\n",
            "Merged 5 datasets.\n",
            "Shape:  (1973981, 238)\n",
            "Total CTs:  77\n",
            "After applying rank to merged dataset.\n",
            "Shape:  (1973981, 239)\n",
            "Total CTs:  77\n",
            "Total Missing Values:  0\n",
            "MAE:  8.587859685495332\n",
            "\n",
            "<------------------------------------------------->\n",
            "\n"
          ],
          "name": "stdout"
        },
        {
          "output_type": "stream",
          "text": [
            "/usr/local/lib/python3.6/dist-packages/ipykernel_launcher.py:126: SettingWithCopyWarning: \n",
            "A value is trying to be set on a copy of a slice from a DataFrame.\n",
            "Try using .loc[row_indexer,col_indexer] = value instead\n",
            "\n",
            "See the caveats in the documentation: https://pandas.pydata.org/pandas-docs/stable/user_guide/indexing.html#returning-a-view-versus-a-copy\n"
          ],
          "name": "stderr"
        }
      ]
    },
    {
      "cell_type": "code",
      "metadata": {
        "id": "D4Zq_CEVCVi6",
        "colab_type": "code",
        "colab": {
          "base_uri": "https://localhost:8080/",
          "height": 700
        },
        "outputId": "222a227d-6fe9-408b-93f4-60f450e1a05a"
      },
      "source": [
        "year == 2016\n",
        "df = merge_df(year, files)\n",
        "rank = pd.read_csv('/content/drive/My Drive/Gentrification/census_rank_Assessmentprice_2016.csv')\n",
        "rank = rank[rank['CENSUS TRACT'] != 'UNKNOWN']\n",
        "rank['CENSUS TRACT'] = rank['CENSUS TRACT'].astype(float)\n",
        "df = pd.merge(df, rank, 'left', 'CENSUS TRACT') \n",
        "df.fillna(value=0, inplace=True)\n",
        "df.drop(columns=['Price/sqft'], inplace=True)\n",
        "print('After applying rank to merged dataset.')\n",
        "print('Shape: ', df.shape)\n",
        "print('Total CTs: ', df['CENSUS TRACT'].nunique())\n",
        "print('Total Missing Values: ', df.isnull().sum().sum())\n",
        "cdf_2016, rank_2016 = build_model(df)\n",
        "#         cdf_2016.to_csv('F:/Capstone/Results/cdf2016.csv', index=False)\n",
        "#         rank_2016.to_csv('F:/Capstone/Results/rank2016.csv', index=False)\n",
        "print('\\n<------------------------------------------------->\\n')\n",
        "del df"
      ],
      "execution_count": 23,
      "outputs": [
        {
          "output_type": "stream",
          "text": [
            "/usr/local/lib/python3.6/dist-packages/IPython/core/interactiveshell.py:2822: DtypeWarning: Columns (0,15,16,17) have mixed types.Specify dtype option on import or set low_memory=False.\n",
            "  if self.run_code(code, result):\n"
          ],
          "name": "stderr"
        },
        {
          "output_type": "stream",
          "text": [
            "Processing parking data for 2018....\n",
            "PARKING 2018 CT:  79\n",
            "PARKING 2018 Missing Values:  0\n",
            "Processing court data for 2018....\n"
          ],
          "name": "stdout"
        },
        {
          "output_type": "stream",
          "text": [
            "/usr/local/lib/python3.6/dist-packages/pandas/core/ops/array_ops.py:253: FutureWarning: elementwise comparison failed; returning scalar instead, but in the future will perform elementwise comparison\n",
            "  res_values = method(rvalues)\n"
          ],
          "name": "stderr"
        },
        {
          "output_type": "stream",
          "text": [
            "COURT 2018 CT:  72\n",
            "COURT 2018 Missing Values:  0\n",
            "Processing license data for 2018....\n",
            "LICENSE 2018 CT:  62\n",
            "LICENSE 2018 Missing Values:  0\n"
          ],
          "name": "stdout"
        },
        {
          "output_type": "stream",
          "text": [
            "/usr/local/lib/python3.6/dist-packages/IPython/core/interactiveshell.py:2822: DtypeWarning: Columns (23,25) have mixed types.Specify dtype option on import or set low_memory=False.\n",
            "  if self.run_code(code, result):\n"
          ],
          "name": "stderr"
        },
        {
          "output_type": "stream",
          "text": [
            "Processing permit data for 2018....\n",
            "PERMIT 2018 CT:  78\n",
            "PERMIT 2018 Missing Values:  0\n"
          ],
          "name": "stdout"
        },
        {
          "output_type": "stream",
          "text": [
            "/usr/local/lib/python3.6/dist-packages/IPython/core/interactiveshell.py:2822: DtypeWarning: Columns (0,13,15,18,19,20,21,22) have mixed types.Specify dtype option on import or set low_memory=False.\n",
            "  if self.run_code(code, result):\n"
          ],
          "name": "stderr"
        },
        {
          "output_type": "stream",
          "text": [
            "Processing service data for 2018....\n",
            "SERVICE 2018 CT:  79\n",
            "SERVICE 2018 Missing Values:  0\n",
            "Merged 5 datasets.\n",
            "Shape:  (1979072, 238)\n",
            "Total CTs:  77\n",
            "After applying rank to merged dataset.\n",
            "Shape:  (1979072, 239)\n",
            "Total CTs:  77\n",
            "Total Missing Values:  0\n",
            "MAE:  8.608251723340253\n",
            "\n",
            "<------------------------------------------------->\n",
            "\n"
          ],
          "name": "stdout"
        },
        {
          "output_type": "stream",
          "text": [
            "/usr/local/lib/python3.6/dist-packages/ipykernel_launcher.py:126: SettingWithCopyWarning: \n",
            "A value is trying to be set on a copy of a slice from a DataFrame.\n",
            "Try using .loc[row_indexer,col_indexer] = value instead\n",
            "\n",
            "See the caveats in the documentation: https://pandas.pydata.org/pandas-docs/stable/user_guide/indexing.html#returning-a-view-versus-a-copy\n"
          ],
          "name": "stderr"
        }
      ]
    },
    {
      "cell_type": "code",
      "metadata": {
        "id": "r9bzF8oICe7f",
        "colab_type": "code",
        "colab": {
          "base_uri": "https://localhost:8080/",
          "height": 700
        },
        "outputId": "1d025c3f-7bdc-4b4b-8d1d-96243678899e"
      },
      "source": [
        "year == 2015\n",
        "df = merge_df(year, files)\n",
        "rank = pd.read_csv('/content/drive/My Drive/Gentrification/census_rank_Assessmentprice_2015.csv')\n",
        "rank = rank[rank['CENSUS TRACT'] != 'UNKNOWN']\n",
        "rank['CENSUS TRACT'] = rank['CENSUS TRACT'].astype(float)\n",
        "df = pd.merge(df, rank, 'left', 'CENSUS TRACT') \n",
        "df.fillna(value=0, inplace=True)\n",
        "df.drop(columns=['Price/sqft'], inplace=True)\n",
        "print('After applying rank to merged dataset.')\n",
        "print('Shape: ', df.shape)\n",
        "print('Total CTs: ', df['CENSUS TRACT'].nunique())\n",
        "print('Total Missing Values: ', df.isnull().sum().sum())\n",
        "cdf_2015, rank_2015 = build_model(df)\n",
        "#         cdf_2015.to_csv('F:/Capstone/Results/cdf2015.csv', index=False)\n",
        "#         rank_2015.to_csv('F:/Capstone/Results/rank2015.csv', index=False)\n",
        "print('\\n<------------------------------------------------->\\n')\n",
        "del df"
      ],
      "execution_count": 24,
      "outputs": [
        {
          "output_type": "stream",
          "text": [
            "/usr/local/lib/python3.6/dist-packages/IPython/core/interactiveshell.py:2822: DtypeWarning: Columns (0,15,16,17) have mixed types.Specify dtype option on import or set low_memory=False.\n",
            "  if self.run_code(code, result):\n"
          ],
          "name": "stderr"
        },
        {
          "output_type": "stream",
          "text": [
            "Processing parking data for 2018....\n",
            "PARKING 2018 CT:  79\n",
            "PARKING 2018 Missing Values:  0\n",
            "Processing court data for 2018....\n"
          ],
          "name": "stdout"
        },
        {
          "output_type": "stream",
          "text": [
            "/usr/local/lib/python3.6/dist-packages/pandas/core/ops/array_ops.py:253: FutureWarning: elementwise comparison failed; returning scalar instead, but in the future will perform elementwise comparison\n",
            "  res_values = method(rvalues)\n"
          ],
          "name": "stderr"
        },
        {
          "output_type": "stream",
          "text": [
            "COURT 2018 CT:  72\n",
            "COURT 2018 Missing Values:  0\n",
            "Processing license data for 2018....\n",
            "LICENSE 2018 CT:  62\n",
            "LICENSE 2018 Missing Values:  0\n"
          ],
          "name": "stdout"
        },
        {
          "output_type": "stream",
          "text": [
            "/usr/local/lib/python3.6/dist-packages/IPython/core/interactiveshell.py:2822: DtypeWarning: Columns (23,25) have mixed types.Specify dtype option on import or set low_memory=False.\n",
            "  if self.run_code(code, result):\n"
          ],
          "name": "stderr"
        },
        {
          "output_type": "stream",
          "text": [
            "Processing permit data for 2018....\n",
            "PERMIT 2018 CT:  78\n",
            "PERMIT 2018 Missing Values:  0\n"
          ],
          "name": "stdout"
        },
        {
          "output_type": "stream",
          "text": [
            "/usr/local/lib/python3.6/dist-packages/IPython/core/interactiveshell.py:2822: DtypeWarning: Columns (0,13,15,18,19,20,21,22) have mixed types.Specify dtype option on import or set low_memory=False.\n",
            "  if self.run_code(code, result):\n"
          ],
          "name": "stderr"
        },
        {
          "output_type": "stream",
          "text": [
            "Processing service data for 2018....\n",
            "SERVICE 2018 CT:  79\n",
            "SERVICE 2018 Missing Values:  0\n",
            "Merged 5 datasets.\n",
            "Shape:  (1977971, 238)\n",
            "Total CTs:  77\n",
            "After applying rank to merged dataset.\n",
            "Shape:  (1977971, 239)\n",
            "Total CTs:  77\n",
            "Total Missing Values:  0\n",
            "MAE:  9.211493549467946\n",
            "\n",
            "<------------------------------------------------->\n",
            "\n"
          ],
          "name": "stdout"
        },
        {
          "output_type": "stream",
          "text": [
            "/usr/local/lib/python3.6/dist-packages/ipykernel_launcher.py:126: SettingWithCopyWarning: \n",
            "A value is trying to be set on a copy of a slice from a DataFrame.\n",
            "Try using .loc[row_indexer,col_indexer] = value instead\n",
            "\n",
            "See the caveats in the documentation: https://pandas.pydata.org/pandas-docs/stable/user_guide/indexing.html#returning-a-view-versus-a-copy\n"
          ],
          "name": "stderr"
        }
      ]
    },
    {
      "cell_type": "code",
      "metadata": {
        "id": "9e3DEpW0mGf6",
        "colab_type": "code",
        "colab": {
          "base_uri": "https://localhost:8080/",
          "height": 204
        },
        "outputId": "fe8df6a2-ddc9-412d-ded6-ee89d99bf44b"
      },
      "source": [
        " cdf_2018.head()"
      ],
      "execution_count": 25,
      "outputs": [
        {
          "output_type": "execute_result",
          "data": {
            "text/html": [
              "<div>\n",
              "<style scoped>\n",
              "    .dataframe tbody tr th:only-of-type {\n",
              "        vertical-align: middle;\n",
              "    }\n",
              "\n",
              "    .dataframe tbody tr th {\n",
              "        vertical-align: top;\n",
              "    }\n",
              "\n",
              "    .dataframe thead th {\n",
              "        text-align: right;\n",
              "    }\n",
              "</style>\n",
              "<table border=\"1\" class=\"dataframe\">\n",
              "  <thead>\n",
              "    <tr style=\"text-align: right;\">\n",
              "      <th></th>\n",
              "      <th>Features</th>\n",
              "      <th>Coefficients</th>\n",
              "    </tr>\n",
              "  </thead>\n",
              "  <tbody>\n",
              "    <tr>\n",
              "      <th>44</th>\n",
              "      <td>DESCRIPT_Lodging House</td>\n",
              "      <td>37.586352</td>\n",
              "    </tr>\n",
              "    <tr>\n",
              "      <th>161</th>\n",
              "      <td>TYPE_Recycling Tote Abandon Pickup (Req_Serv)</td>\n",
              "      <td>33.944710</td>\n",
              "    </tr>\n",
              "    <tr>\n",
              "      <th>135</th>\n",
              "      <td>TYPE_PVB Single Meter (Req_Serv)</td>\n",
              "      <td>33.189995</td>\n",
              "    </tr>\n",
              "    <tr>\n",
              "      <th>57</th>\n",
              "      <td>DESCRIPT_Wholesale Junk</td>\n",
              "      <td>33.081078</td>\n",
              "    </tr>\n",
              "    <tr>\n",
              "      <th>175</th>\n",
              "      <td>TYPE_Signal Other Issue (Req_Serv)</td>\n",
              "      <td>32.966060</td>\n",
              "    </tr>\n",
              "  </tbody>\n",
              "</table>\n",
              "</div>"
            ],
            "text/plain": [
              "                                          Features  Coefficients\n",
              "44                          DESCRIPT_Lodging House     37.586352\n",
              "161  TYPE_Recycling Tote Abandon Pickup (Req_Serv)     33.944710\n",
              "135               TYPE_PVB Single Meter (Req_Serv)     33.189995\n",
              "57                         DESCRIPT_Wholesale Junk     33.081078\n",
              "175             TYPE_Signal Other Issue (Req_Serv)     32.966060"
            ]
          },
          "metadata": {
            "tags": []
          },
          "execution_count": 25
        }
      ]
    },
    {
      "cell_type": "code",
      "metadata": {
        "id": "kUgrCfhnmGf-",
        "colab_type": "code",
        "colab": {
          "base_uri": "https://localhost:8080/",
          "height": 204
        },
        "outputId": "2591c6bd-d99b-4915-b101-d41f6d8503a2"
      },
      "source": [
        " cdf_2018.tail()"
      ],
      "execution_count": 26,
      "outputs": [
        {
          "output_type": "execute_result",
          "data": {
            "text/html": [
              "<div>\n",
              "<style scoped>\n",
              "    .dataframe tbody tr th:only-of-type {\n",
              "        vertical-align: middle;\n",
              "    }\n",
              "\n",
              "    .dataframe tbody tr th {\n",
              "        vertical-align: top;\n",
              "    }\n",
              "\n",
              "    .dataframe thead th {\n",
              "        text-align: right;\n",
              "    }\n",
              "</style>\n",
              "<table border=\"1\" class=\"dataframe\">\n",
              "  <thead>\n",
              "    <tr style=\"text-align: right;\">\n",
              "      <th></th>\n",
              "      <th>Features</th>\n",
              "      <th>Coefficients</th>\n",
              "    </tr>\n",
              "  </thead>\n",
              "  <tbody>\n",
              "    <tr>\n",
              "      <th>232</th>\n",
              "      <td>PERMIT TYPE_SWIM POOL</td>\n",
              "      <td>-17.165109</td>\n",
              "    </tr>\n",
              "    <tr>\n",
              "      <th>85</th>\n",
              "      <td>TYPE_Damaged Street Light Pole (Req_Serv)</td>\n",
              "      <td>-20.296996</td>\n",
              "    </tr>\n",
              "    <tr>\n",
              "      <th>81</th>\n",
              "      <td>TYPE_Curb - Metal Protruding (Req_Serv)</td>\n",
              "      <td>-22.517122</td>\n",
              "    </tr>\n",
              "    <tr>\n",
              "      <th>109</th>\n",
              "      <td>TYPE_Graffiti Private Property (Req_Serv)</td>\n",
              "      <td>-24.544237</td>\n",
              "    </tr>\n",
              "    <tr>\n",
              "      <th>61</th>\n",
              "      <td>TYPE_Assessment Issue (Req_Serv)</td>\n",
              "      <td>-31.590799</td>\n",
              "    </tr>\n",
              "  </tbody>\n",
              "</table>\n",
              "</div>"
            ],
            "text/plain": [
              "                                      Features  Coefficients\n",
              "232                      PERMIT TYPE_SWIM POOL    -17.165109\n",
              "85   TYPE_Damaged Street Light Pole (Req_Serv)    -20.296996\n",
              "81     TYPE_Curb - Metal Protruding (Req_Serv)    -22.517122\n",
              "109  TYPE_Graffiti Private Property (Req_Serv)    -24.544237\n",
              "61            TYPE_Assessment Issue (Req_Serv)    -31.590799"
            ]
          },
          "metadata": {
            "tags": []
          },
          "execution_count": 26
        }
      ]
    },
    {
      "cell_type": "code",
      "metadata": {
        "id": "wad4O8X2mGgG",
        "colab_type": "code",
        "colab": {
          "base_uri": "https://localhost:8080/",
          "height": 204
        },
        "outputId": "9aa75090-1fb2-40e7-8321-915f49e6076c"
      },
      "source": [
        " cdf_2018[cdf_2018['Features'].str.contains('DESCRIPT')].head()"
      ],
      "execution_count": 27,
      "outputs": [
        {
          "output_type": "execute_result",
          "data": {
            "text/html": [
              "<div>\n",
              "<style scoped>\n",
              "    .dataframe tbody tr th:only-of-type {\n",
              "        vertical-align: middle;\n",
              "    }\n",
              "\n",
              "    .dataframe tbody tr th {\n",
              "        vertical-align: top;\n",
              "    }\n",
              "\n",
              "    .dataframe thead th {\n",
              "        text-align: right;\n",
              "    }\n",
              "</style>\n",
              "<table border=\"1\" class=\"dataframe\">\n",
              "  <thead>\n",
              "    <tr style=\"text-align: right;\">\n",
              "      <th></th>\n",
              "      <th>Features</th>\n",
              "      <th>Coefficients</th>\n",
              "    </tr>\n",
              "  </thead>\n",
              "  <tbody>\n",
              "    <tr>\n",
              "      <th>44</th>\n",
              "      <td>DESCRIPT_Lodging House</td>\n",
              "      <td>37.586352</td>\n",
              "    </tr>\n",
              "    <tr>\n",
              "      <th>57</th>\n",
              "      <td>DESCRIPT_Wholesale Junk</td>\n",
              "      <td>33.081078</td>\n",
              "    </tr>\n",
              "    <tr>\n",
              "      <th>18</th>\n",
              "      <td>VIOLATION DESCRIPTION_NO VIOLATION</td>\n",
              "      <td>30.694348</td>\n",
              "    </tr>\n",
              "    <tr>\n",
              "      <th>54</th>\n",
              "      <td>DESCRIPT_Stationary Peddler</td>\n",
              "      <td>25.529779</td>\n",
              "    </tr>\n",
              "    <tr>\n",
              "      <th>55</th>\n",
              "      <td>DESCRIPT_Tire Handler</td>\n",
              "      <td>16.608212</td>\n",
              "    </tr>\n",
              "  </tbody>\n",
              "</table>\n",
              "</div>"
            ],
            "text/plain": [
              "                              Features  Coefficients\n",
              "44              DESCRIPT_Lodging House     37.586352\n",
              "57             DESCRIPT_Wholesale Junk     33.081078\n",
              "18  VIOLATION DESCRIPTION_NO VIOLATION     30.694348\n",
              "54         DESCRIPT_Stationary Peddler     25.529779\n",
              "55               DESCRIPT_Tire Handler     16.608212"
            ]
          },
          "metadata": {
            "tags": []
          },
          "execution_count": 27
        }
      ]
    },
    {
      "cell_type": "code",
      "metadata": {
        "id": "HTPrPSY8mGgM",
        "colab_type": "code",
        "colab": {
          "base_uri": "https://localhost:8080/",
          "height": 204
        },
        "outputId": "fabb14f3-901b-4f12-fb24-0709608caa54"
      },
      "source": [
        " cdf_2018[cdf_2018['Features'].str.contains('DESCRIPT')].tail()"
      ],
      "execution_count": 28,
      "outputs": [
        {
          "output_type": "execute_result",
          "data": {
            "text/html": [
              "<div>\n",
              "<style scoped>\n",
              "    .dataframe tbody tr th:only-of-type {\n",
              "        vertical-align: middle;\n",
              "    }\n",
              "\n",
              "    .dataframe tbody tr th {\n",
              "        vertical-align: top;\n",
              "    }\n",
              "\n",
              "    .dataframe thead th {\n",
              "        text-align: right;\n",
              "    }\n",
              "</style>\n",
              "<table border=\"1\" class=\"dataframe\">\n",
              "  <thead>\n",
              "    <tr style=\"text-align: right;\">\n",
              "      <th></th>\n",
              "      <th>Features</th>\n",
              "      <th>Coefficients</th>\n",
              "    </tr>\n",
              "  </thead>\n",
              "  <tbody>\n",
              "    <tr>\n",
              "      <th>48</th>\n",
              "      <td>DESCRIPT_Restaurant</td>\n",
              "      <td>-11.262424</td>\n",
              "    </tr>\n",
              "    <tr>\n",
              "      <th>43</th>\n",
              "      <td>DESCRIPT_Live Music / No Dancing</td>\n",
              "      <td>-11.732416</td>\n",
              "    </tr>\n",
              "    <tr>\n",
              "      <th>41</th>\n",
              "      <td>DESCRIPT_Bowling Alley</td>\n",
              "      <td>-12.974906</td>\n",
              "    </tr>\n",
              "    <tr>\n",
              "      <th>47</th>\n",
              "      <td>DESCRIPT_Parking Lot</td>\n",
              "      <td>-15.542035</td>\n",
              "    </tr>\n",
              "    <tr>\n",
              "      <th>53</th>\n",
              "      <td>DESCRIPT_Sidewalk Cafe</td>\n",
              "      <td>-16.847349</td>\n",
              "    </tr>\n",
              "  </tbody>\n",
              "</table>\n",
              "</div>"
            ],
            "text/plain": [
              "                            Features  Coefficients\n",
              "48               DESCRIPT_Restaurant    -11.262424\n",
              "43  DESCRIPT_Live Music / No Dancing    -11.732416\n",
              "41            DESCRIPT_Bowling Alley    -12.974906\n",
              "47              DESCRIPT_Parking Lot    -15.542035\n",
              "53            DESCRIPT_Sidewalk Cafe    -16.847349"
            ]
          },
          "metadata": {
            "tags": []
          },
          "execution_count": 28
        }
      ]
    },
    {
      "cell_type": "code",
      "metadata": {
        "id": "SZdaRZg7mGgQ",
        "colab_type": "code",
        "colab": {
          "base_uri": "https://localhost:8080/",
          "height": 669
        },
        "outputId": "cb813172-209a-4c68-a784-6fe97c6cffb1"
      },
      "source": [
        " rank_2018.sample(20)"
      ],
      "execution_count": 29,
      "outputs": [
        {
          "output_type": "execute_result",
          "data": {
            "text/html": [
              "<div>\n",
              "<style scoped>\n",
              "    .dataframe tbody tr th:only-of-type {\n",
              "        vertical-align: middle;\n",
              "    }\n",
              "\n",
              "    .dataframe tbody tr th {\n",
              "        vertical-align: top;\n",
              "    }\n",
              "\n",
              "    .dataframe thead th {\n",
              "        text-align: right;\n",
              "    }\n",
              "</style>\n",
              "<table border=\"1\" class=\"dataframe\">\n",
              "  <thead>\n",
              "    <tr style=\"text-align: right;\">\n",
              "      <th></th>\n",
              "      <th>Rank</th>\n",
              "      <th>CENSUS TRACT</th>\n",
              "      <th>PredictedRank</th>\n",
              "    </tr>\n",
              "  </thead>\n",
              "  <tbody>\n",
              "    <tr>\n",
              "      <th>303077</th>\n",
              "      <td>1</td>\n",
              "      <td>165.00</td>\n",
              "      <td>1.178758</td>\n",
              "    </tr>\n",
              "    <tr>\n",
              "      <th>1501865</th>\n",
              "      <td>1</td>\n",
              "      <td>165.00</td>\n",
              "      <td>2.005209</td>\n",
              "    </tr>\n",
              "    <tr>\n",
              "      <th>1228033</th>\n",
              "      <td>18</td>\n",
              "      <td>49.00</td>\n",
              "      <td>27.556526</td>\n",
              "    </tr>\n",
              "    <tr>\n",
              "      <th>247824</th>\n",
              "      <td>1</td>\n",
              "      <td>165.00</td>\n",
              "      <td>3.503998</td>\n",
              "    </tr>\n",
              "    <tr>\n",
              "      <th>1001521</th>\n",
              "      <td>61</td>\n",
              "      <td>31.00</td>\n",
              "      <td>41.456869</td>\n",
              "    </tr>\n",
              "    <tr>\n",
              "      <th>890371</th>\n",
              "      <td>18</td>\n",
              "      <td>49.00</td>\n",
              "      <td>22.912417</td>\n",
              "    </tr>\n",
              "    <tr>\n",
              "      <th>388020</th>\n",
              "      <td>15</td>\n",
              "      <td>52.01</td>\n",
              "      <td>24.914056</td>\n",
              "    </tr>\n",
              "    <tr>\n",
              "      <th>1076583</th>\n",
              "      <td>7</td>\n",
              "      <td>68.00</td>\n",
              "      <td>20.212401</td>\n",
              "    </tr>\n",
              "    <tr>\n",
              "      <th>1151925</th>\n",
              "      <td>1</td>\n",
              "      <td>165.00</td>\n",
              "      <td>8.586965</td>\n",
              "    </tr>\n",
              "    <tr>\n",
              "      <th>1731867</th>\n",
              "      <td>37</td>\n",
              "      <td>47.00</td>\n",
              "      <td>37.995014</td>\n",
              "    </tr>\n",
              "    <tr>\n",
              "      <th>1633931</th>\n",
              "      <td>1</td>\n",
              "      <td>165.00</td>\n",
              "      <td>0.638618</td>\n",
              "    </tr>\n",
              "    <tr>\n",
              "      <th>1261375</th>\n",
              "      <td>43</td>\n",
              "      <td>10.00</td>\n",
              "      <td>34.376311</td>\n",
              "    </tr>\n",
              "    <tr>\n",
              "      <th>1029418</th>\n",
              "      <td>1</td>\n",
              "      <td>165.00</td>\n",
              "      <td>-1.258727</td>\n",
              "    </tr>\n",
              "    <tr>\n",
              "      <th>668800</th>\n",
              "      <td>1</td>\n",
              "      <td>165.00</td>\n",
              "      <td>-1.293925</td>\n",
              "    </tr>\n",
              "    <tr>\n",
              "      <th>717432</th>\n",
              "      <td>18</td>\n",
              "      <td>49.00</td>\n",
              "      <td>30.750372</td>\n",
              "    </tr>\n",
              "    <tr>\n",
              "      <th>368228</th>\n",
              "      <td>1</td>\n",
              "      <td>165.00</td>\n",
              "      <td>-3.198430</td>\n",
              "    </tr>\n",
              "    <tr>\n",
              "      <th>1299363</th>\n",
              "      <td>1</td>\n",
              "      <td>165.00</td>\n",
              "      <td>5.226389</td>\n",
              "    </tr>\n",
              "    <tr>\n",
              "      <th>1597713</th>\n",
              "      <td>37</td>\n",
              "      <td>47.00</td>\n",
              "      <td>40.229630</td>\n",
              "    </tr>\n",
              "    <tr>\n",
              "      <th>1498361</th>\n",
              "      <td>61</td>\n",
              "      <td>31.00</td>\n",
              "      <td>4.449931</td>\n",
              "    </tr>\n",
              "    <tr>\n",
              "      <th>1719815</th>\n",
              "      <td>7</td>\n",
              "      <td>68.00</td>\n",
              "      <td>12.703933</td>\n",
              "    </tr>\n",
              "  </tbody>\n",
              "</table>\n",
              "</div>"
            ],
            "text/plain": [
              "         Rank  CENSUS TRACT  PredictedRank\n",
              "303077      1        165.00       1.178758\n",
              "1501865     1        165.00       2.005209\n",
              "1228033    18         49.00      27.556526\n",
              "247824      1        165.00       3.503998\n",
              "1001521    61         31.00      41.456869\n",
              "890371     18         49.00      22.912417\n",
              "388020     15         52.01      24.914056\n",
              "1076583     7         68.00      20.212401\n",
              "1151925     1        165.00       8.586965\n",
              "1731867    37         47.00      37.995014\n",
              "1633931     1        165.00       0.638618\n",
              "1261375    43         10.00      34.376311\n",
              "1029418     1        165.00      -1.258727\n",
              "668800      1        165.00      -1.293925\n",
              "717432     18         49.00      30.750372\n",
              "368228      1        165.00      -3.198430\n",
              "1299363     1        165.00       5.226389\n",
              "1597713    37         47.00      40.229630\n",
              "1498361    61         31.00       4.449931\n",
              "1719815     7         68.00      12.703933"
            ]
          },
          "metadata": {
            "tags": []
          },
          "execution_count": 29
        }
      ]
    },
    {
      "cell_type": "code",
      "metadata": {
        "id": "JWA-e7AXB6g_",
        "colab_type": "code",
        "colab": {}
      },
      "source": [
        ""
      ],
      "execution_count": 0,
      "outputs": []
    }
  ]
}