{
 "cells": [
  {
   "cell_type": "code",
   "execution_count": 0,
   "metadata": {
    "colab": {},
    "colab_type": "code",
    "id": "qNNxsrJagknN"
   },
   "outputs": [],
   "source": [
    "import pandas as pd\n",
    "import numpy as np\n",
    "import pandas as pd\n",
    "import seaborn as sns\n",
    "import matplotlib.pyplot as plt\n",
    "from scipy import stats\n",
    "from sklearn.tree import DecisionTreeClassifier # Import Decision Tree Classifier\n",
    "from sklearn.model_selection import train_test_split # Import train_test_split function\n",
    "from sklearn import metrics #Import scikit-learn metrics module for accuracy calculation\n",
    "from sklearn.ensemble import GradientBoostingRegressor"
   ]
  },
  {
   "cell_type": "code",
   "execution_count": 0,
   "metadata": {
    "colab": {
     "base_uri": "https://localhost:8080/",
     "height": 71
    },
    "colab_type": "code",
    "id": "GTi8HpfvgkqP",
    "outputId": "0a46e0cb-5dcb-40c0-c3b5-49e251da17a2"
   },
   "outputs": [
    {
     "name": "stderr",
     "output_type": "stream",
     "text": [
      "/usr/local/lib/python3.6/dist-packages/IPython/core/interactiveshell.py:2718: DtypeWarning: Columns (0,15,16,17) have mixed types. Specify dtype option on import or set low_memory=False.\n",
      "  interactivity=interactivity, compiler=compiler, result=result)\n"
     ]
    }
   ],
   "source": [
    "parking_summonses=pd.read_csv('~/Parking_Summonses .csv')"
   ]
  },
  {
   "cell_type": "code",
   "execution_count": 0,
   "metadata": {
    "colab": {
     "base_uri": "https://localhost:8080/",
     "height": 221
    },
    "colab_type": "code",
    "id": "9qjzgfh9Eh6n",
    "outputId": "58a76990-a0cb-4d6d-d3ff-1e8b5a2d3450"
   },
   "outputs": [
    {
     "data": {
      "text/plain": [
       "165      222531\n",
       "165.0    102745\n",
       "68       101603\n",
       "169       60707\n",
       "63.01     54966\n",
       "          ...  \n",
       "44.02       552\n",
       "46.02       199\n",
       "46.02        55\n",
       "62.01        19\n",
       "62.01        12\n",
       "Name: CENSUS TRACT, Length: 159, dtype: int64"
      ]
     },
     "execution_count": 7,
     "metadata": {
      "tags": []
     },
     "output_type": "execute_result"
    }
   ],
   "source": [
    "parking_summonses['CENSUS TRACT'].value_counts()"
   ]
  },
  {
   "cell_type": "code",
   "execution_count": 0,
   "metadata": {
    "colab": {
     "base_uri": "https://localhost:8080/",
     "height": 34
    },
    "colab_type": "code",
    "id": "CaDgUTDKFRa5",
    "outputId": "167b8c6f-ef43-4158-9bbf-9d1c17c595e0"
   },
   "outputs": [
    {
     "data": {
      "text/plain": [
       "(2155859, 18)"
      ]
     },
     "execution_count": 8,
     "metadata": {
      "tags": []
     },
     "output_type": "execute_result"
    }
   ],
   "source": [
    "parking_summonses.shape"
   ]
  },
  {
   "cell_type": "code",
   "execution_count": 0,
   "metadata": {
    "colab": {},
    "colab_type": "code",
    "id": "XLhUg4V9gkqT"
   },
   "outputs": [],
   "source": [
    "tracts_data=pd.read_csv('~/NEighborhoods and tracts.csv')"
   ]
  },
  {
   "cell_type": "code",
   "execution_count": 0,
   "metadata": {
    "colab": {},
    "colab_type": "code",
    "id": "QYmC2WO_GRac"
   },
   "outputs": [],
   "source": [
    "parking_summonses['CENSUS TRACT'] = pd.to_numeric(parking_summonses['CENSUS TRACT'], errors='coerce')\n",
    "parking_summonses = parking_summonses.dropna(subset=['CENSUS TRACT'])\n",
    "parking_summonses['CENSUS TRACT']=parking_summonses['CENSUS TRACT'].astype(float)"
   ]
  },
  {
   "cell_type": "code",
   "execution_count": 0,
   "metadata": {
    "colab": {},
    "colab_type": "code",
    "id": "NiWA5STXGiKr"
   },
   "outputs": [],
   "source": [
    "tracts_data['CENSUS TRACT'] = pd.to_numeric(tracts_data['CENSUS TRACT'], errors='coerce')\n",
    "tracts_data = tracts_data.dropna(subset=['CENSUS TRACT'])\n",
    "tracts_data['CENSUS TRACT']=tracts_data['CENSUS TRACT'].astype(float)"
   ]
  },
  {
   "cell_type": "code",
   "execution_count": 0,
   "metadata": {
    "colab": {},
    "colab_type": "code",
    "id": "aCDTfIsMJCzE"
   },
   "outputs": [],
   "source": [
    "score=pd.read_excel('~/Walkscore_final.xlsx')"
   ]
  },
  {
   "cell_type": "code",
   "execution_count": 0,
   "metadata": {
    "colab": {
     "base_uri": "https://localhost:8080/",
     "height": 68
    },
    "colab_type": "code",
    "id": "j39X2m1Kk1xK",
    "outputId": "e91e9baf-97cc-4df7-eb4b-ab4805140869"
   },
   "outputs": [
    {
     "data": {
      "text/plain": [
       "Index(['NEIGHBORHOOD', 'WALKSCORE', 'RANK', 'GENTRIFICATION SCORE',\n",
       "       'CLASSIFCATION ', 'CLASS'],\n",
       "      dtype='object')"
      ]
     },
     "execution_count": 13,
     "metadata": {
      "tags": []
     },
     "output_type": "execute_result"
    }
   ],
   "source": [
    "score.columns"
   ]
  },
  {
   "cell_type": "code",
   "execution_count": 0,
   "metadata": {
    "colab": {},
    "colab_type": "code",
    "id": "jGUvyXPWGkiu"
   },
   "outputs": [],
   "source": [
    "final=parking_summonses.merge(tracts_data,on='CENSUS TRACT')"
   ]
  },
  {
   "cell_type": "code",
   "execution_count": 0,
   "metadata": {
    "colab": {},
    "colab_type": "code",
    "id": "izumuL9VHWDe"
   },
   "outputs": [],
   "source": [
    "parking_final_1=final.merge(score,on='NEIGHBORHOOD')"
   ]
  },
  {
   "cell_type": "code",
   "execution_count": 0,
   "metadata": {
    "colab": {
     "base_uri": "https://localhost:8080/",
     "height": 377
    },
    "colab_type": "code",
    "id": "csrR1pHOJmZl",
    "outputId": "34e7e4e3-bdbc-480d-a19e-c14bd770e801"
   },
   "outputs": [
    {
     "data": {
      "text/html": [
       "<div>\n",
       "<style scoped>\n",
       "    .dataframe tbody tr th:only-of-type {\n",
       "        vertical-align: middle;\n",
       "    }\n",
       "\n",
       "    .dataframe tbody tr th {\n",
       "        vertical-align: top;\n",
       "    }\n",
       "\n",
       "    .dataframe thead th {\n",
       "        text-align: right;\n",
       "    }\n",
       "</style>\n",
       "<table border=\"1\" class=\"dataframe\">\n",
       "  <thead>\n",
       "    <tr style=\"text-align: right;\">\n",
       "      <th></th>\n",
       "      <th>SUMMONS NUMBER</th>\n",
       "      <th>SUMMONS DATE</th>\n",
       "      <th>VIOLATION TIME</th>\n",
       "      <th>VIOLATION DESCRIPTION</th>\n",
       "      <th>ORIGINAL FINE</th>\n",
       "      <th>VIOLATION ADDRESS NUMBER</th>\n",
       "      <th>VIOLATION STREET</th>\n",
       "      <th>VIOLATION FULL ADDRESS</th>\n",
       "      <th>CITY</th>\n",
       "      <th>STATE</th>\n",
       "      <th>LATITUDE</th>\n",
       "      <th>LONGITUDE</th>\n",
       "      <th>LOCATION</th>\n",
       "      <th>COUNCIL DISTRICT</th>\n",
       "      <th>POLICE DISTRICT</th>\n",
       "      <th>CENSUS TRACT</th>\n",
       "      <th>CENSUS BLOCK GROUP</th>\n",
       "      <th>CENSUS BLOCK</th>\n",
       "      <th>NEIGHBORHOOD</th>\n",
       "      <th>WALKSCORE</th>\n",
       "      <th>RANK</th>\n",
       "      <th>GENTRIFICATION SCORE</th>\n",
       "      <th>CLASSIFCATION</th>\n",
       "      <th>CLASS</th>\n",
       "    </tr>\n",
       "  </thead>\n",
       "  <tbody>\n",
       "    <tr>\n",
       "      <th>0</th>\n",
       "      <td>X2308148</td>\n",
       "      <td>08/02/2019</td>\n",
       "      <td>0125P</td>\n",
       "      <td>PARKING VIOLATION</td>\n",
       "      <td>40.0</td>\n",
       "      <td>175.0</td>\n",
       "      <td>FRANKLIN</td>\n",
       "      <td>175 FRANKLIN</td>\n",
       "      <td>Buffalo</td>\n",
       "      <td>NY</td>\n",
       "      <td>42.888195</td>\n",
       "      <td>-78.875835</td>\n",
       "      <td>(42.8881947942094, -78.87583500193372)</td>\n",
       "      <td>ELLICOTT</td>\n",
       "      <td>District B</td>\n",
       "      <td>165.0</td>\n",
       "      <td>1</td>\n",
       "      <td>1028</td>\n",
       "      <td>Central</td>\n",
       "      <td>55</td>\n",
       "      <td>36</td>\n",
       "      <td>65</td>\n",
       "      <td>25</td>\n",
       "      <td>D</td>\n",
       "    </tr>\n",
       "    <tr>\n",
       "      <th>1</th>\n",
       "      <td>X2308149</td>\n",
       "      <td>08/02/2019</td>\n",
       "      <td>0130P</td>\n",
       "      <td>NO STANDING</td>\n",
       "      <td>40.0</td>\n",
       "      <td>37.0</td>\n",
       "      <td>HURON WEST</td>\n",
       "      <td>37 HURON WEST</td>\n",
       "      <td>Buffalo</td>\n",
       "      <td>NY</td>\n",
       "      <td>42.888948</td>\n",
       "      <td>-78.874872</td>\n",
       "      <td>(42.88894814599496, -78.87487202385579)</td>\n",
       "      <td>ELLICOTT</td>\n",
       "      <td>District B</td>\n",
       "      <td>165.0</td>\n",
       "      <td>1</td>\n",
       "      <td>1022</td>\n",
       "      <td>Central</td>\n",
       "      <td>55</td>\n",
       "      <td>36</td>\n",
       "      <td>65</td>\n",
       "      <td>25</td>\n",
       "      <td>D</td>\n",
       "    </tr>\n",
       "    <tr>\n",
       "      <th>2</th>\n",
       "      <td>X2308151</td>\n",
       "      <td>08/02/2019</td>\n",
       "      <td>0305P</td>\n",
       "      <td>METER OVERTIME</td>\n",
       "      <td>40.0</td>\n",
       "      <td>228.0</td>\n",
       "      <td>FRANKLIN</td>\n",
       "      <td>228 FRANKLIN</td>\n",
       "      <td>Buffalo</td>\n",
       "      <td>NY</td>\n",
       "      <td>42.890040</td>\n",
       "      <td>-78.875395</td>\n",
       "      <td>(42.89003992129964, -78.87539503306608)</td>\n",
       "      <td>ELLICOTT</td>\n",
       "      <td>District B</td>\n",
       "      <td>165.0</td>\n",
       "      <td>1</td>\n",
       "      <td>1023</td>\n",
       "      <td>Central</td>\n",
       "      <td>55</td>\n",
       "      <td>36</td>\n",
       "      <td>65</td>\n",
       "      <td>25</td>\n",
       "      <td>D</td>\n",
       "    </tr>\n",
       "    <tr>\n",
       "      <th>3</th>\n",
       "      <td>X2308152</td>\n",
       "      <td>08/02/2019</td>\n",
       "      <td>0312P</td>\n",
       "      <td>METER OVERTIME</td>\n",
       "      <td>40.0</td>\n",
       "      <td>210.0</td>\n",
       "      <td>FRANKLIN</td>\n",
       "      <td>210 FRANKLIN</td>\n",
       "      <td>Buffalo</td>\n",
       "      <td>NY</td>\n",
       "      <td>42.889319</td>\n",
       "      <td>-78.875628</td>\n",
       "      <td>(42.88931932925486, -78.87562789846032)</td>\n",
       "      <td>ELLICOTT</td>\n",
       "      <td>District B</td>\n",
       "      <td>165.0</td>\n",
       "      <td>1</td>\n",
       "      <td>1023</td>\n",
       "      <td>Central</td>\n",
       "      <td>55</td>\n",
       "      <td>36</td>\n",
       "      <td>65</td>\n",
       "      <td>25</td>\n",
       "      <td>D</td>\n",
       "    </tr>\n",
       "    <tr>\n",
       "      <th>4</th>\n",
       "      <td>X2308153</td>\n",
       "      <td>08/02/2019</td>\n",
       "      <td>0320P</td>\n",
       "      <td>METER OVERTIME</td>\n",
       "      <td>40.0</td>\n",
       "      <td>22.0</td>\n",
       "      <td>SENECA WEST</td>\n",
       "      <td>22 SENECA WEST</td>\n",
       "      <td>Buffalo</td>\n",
       "      <td>NY</td>\n",
       "      <td>42.880596</td>\n",
       "      <td>-78.875566</td>\n",
       "      <td>(42.880595539253534, -78.87556606949188)</td>\n",
       "      <td>FILLMORE</td>\n",
       "      <td>District B</td>\n",
       "      <td>165.0</td>\n",
       "      <td>1</td>\n",
       "      <td>1114</td>\n",
       "      <td>Central</td>\n",
       "      <td>55</td>\n",
       "      <td>36</td>\n",
       "      <td>65</td>\n",
       "      <td>25</td>\n",
       "      <td>D</td>\n",
       "    </tr>\n",
       "  </tbody>\n",
       "</table>\n",
       "</div>"
      ],
      "text/plain": [
       "  SUMMONS NUMBER SUMMONS DATE  ... CLASSIFCATION  CLASS\n",
       "0       X2308148   08/02/2019  ...             25     D\n",
       "1       X2308149   08/02/2019  ...             25     D\n",
       "2       X2308151   08/02/2019  ...             25     D\n",
       "3       X2308152   08/02/2019  ...             25     D\n",
       "4       X2308153   08/02/2019  ...             25     D\n",
       "\n",
       "[5 rows x 24 columns]"
      ]
     },
     "execution_count": 16,
     "metadata": {
      "tags": []
     },
     "output_type": "execute_result"
    }
   ],
   "source": [
    "parking_final_1.head()"
   ]
  },
  {
   "cell_type": "code",
   "execution_count": 0,
   "metadata": {
    "colab": {
     "base_uri": "https://localhost:8080/",
     "height": 629
    },
    "colab_type": "code",
    "id": "dQOu4sEMDnbt",
    "outputId": "6281cf6a-56c8-4261-fbe5-ccca8e805b27"
   },
   "outputs": [
    {
     "data": {
      "text/plain": [
       "Elmwood Bidwell       354553\n",
       "Central               325276\n",
       "Elmwood Bryant        208101\n",
       "Fruit Belt            193712\n",
       "North Park            162378\n",
       "Allentown             153824\n",
       "Broadway Fillmore     131946\n",
       "Lower West Side       120374\n",
       "University Heights     84124\n",
       "Masten Park            81852\n",
       "Seneca-Cazenovia       79536\n",
       "West Side              72960\n",
       "South Park             69489\n",
       "Upper West Side        68069\n",
       "Hamlin Park            67342\n",
       "Parkside               66049\n",
       "Central Park           55958\n",
       "First Ward             46748\n",
       "Kenfield               44992\n",
       "Black Rock             43344\n",
       "Kensington-Bailey      42517\n",
       "Fillmore-Leroy         40713\n",
       "Lovejoy                38723\n",
       "Riverside              38019\n",
       "Genesee-Moselle        31553\n",
       "Schiller Park          28356\n",
       "Hopkins-Tifft          22245\n",
       "Grant-Amherst          21113\n",
       "Seneca Babcock         19906\n",
       "Kaisertown             19769\n",
       "Delavan Grider         18925\n",
       "Pratt-Willert          17163\n",
       "MLK Park               15597\n",
       "Ellicott               15281\n",
       "West Hertel            12140\n",
       "Name: NEIGHBORHOOD, dtype: int64"
      ]
     },
     "execution_count": 17,
     "metadata": {
      "tags": []
     },
     "output_type": "execute_result"
    }
   ],
   "source": [
    "parking_final_1['NEIGHBORHOOD'].value_counts()"
   ]
  },
  {
   "cell_type": "code",
   "execution_count": 0,
   "metadata": {
    "colab": {
     "base_uri": "https://localhost:8080/",
     "height": 221
    },
    "colab_type": "code",
    "id": "BzF3kFF7ELnP",
    "outputId": "f16c0e4e-4e98-431b-b523-6233ace52847"
   },
   "outputs": [
    {
     "data": {
      "text/plain": [
       "165.00    325276\n",
       "31.00     252786\n",
       "68.00     153824\n",
       "63.01      98509\n",
       "71.02      92218\n",
       "           ...  \n",
       "28.00       4983\n",
       "14.02       4569\n",
       "29.00       4303\n",
       "15.00       3216\n",
       "39.01       2091\n",
       "Name: CENSUS TRACT, Length: 76, dtype: int64"
      ]
     },
     "execution_count": 18,
     "metadata": {
      "tags": []
     },
     "output_type": "execute_result"
    }
   ],
   "source": [
    "parking_final_1['CENSUS TRACT'].value_counts()"
   ]
  },
  {
   "cell_type": "code",
   "execution_count": 0,
   "metadata": {
    "colab": {
     "base_uri": "https://localhost:8080/",
     "height": 711
    },
    "colab_type": "code",
    "id": "YRvFICyNh4-y",
    "outputId": "8e009327-ef38-4f05-bc90-10bce63ea56e"
   },
   "outputs": [
    {
     "data": {
      "text/html": [
       "<div>\n",
       "<style scoped>\n",
       "    .dataframe tbody tr th:only-of-type {\n",
       "        vertical-align: middle;\n",
       "    }\n",
       "\n",
       "    .dataframe tbody tr th {\n",
       "        vertical-align: top;\n",
       "    }\n",
       "\n",
       "    .dataframe thead th {\n",
       "        text-align: right;\n",
       "    }\n",
       "</style>\n",
       "<table border=\"1\" class=\"dataframe\">\n",
       "  <thead>\n",
       "    <tr style=\"text-align: right;\">\n",
       "      <th></th>\n",
       "      <th>SUMMONS NUMBER</th>\n",
       "      <th>SUMMONS DATE</th>\n",
       "      <th>VIOLATION TIME</th>\n",
       "      <th>VIOLATION DESCRIPTION</th>\n",
       "      <th>ORIGINAL FINE</th>\n",
       "      <th>VIOLATION ADDRESS NUMBER</th>\n",
       "      <th>VIOLATION STREET</th>\n",
       "      <th>VIOLATION FULL ADDRESS</th>\n",
       "      <th>CITY</th>\n",
       "      <th>STATE</th>\n",
       "      <th>LATITUDE</th>\n",
       "      <th>LONGITUDE</th>\n",
       "      <th>LOCATION</th>\n",
       "      <th>COUNCIL DISTRICT</th>\n",
       "      <th>POLICE DISTRICT</th>\n",
       "      <th>CENSUS TRACT</th>\n",
       "      <th>CENSUS BLOCK GROUP</th>\n",
       "      <th>CENSUS BLOCK</th>\n",
       "      <th>NEIGHBORHOOD</th>\n",
       "      <th>WALKSCORE</th>\n",
       "      <th>RANK</th>\n",
       "      <th>GENTRIFICATION SCORE</th>\n",
       "      <th>CLASSIFCATION</th>\n",
       "      <th>CLASS</th>\n",
       "    </tr>\n",
       "  </thead>\n",
       "  <tbody>\n",
       "    <tr>\n",
       "      <th>0</th>\n",
       "      <td>X2308148</td>\n",
       "      <td>08/02/2019</td>\n",
       "      <td>0125P</td>\n",
       "      <td>PARKING VIOLATION</td>\n",
       "      <td>40.0</td>\n",
       "      <td>175.0</td>\n",
       "      <td>FRANKLIN</td>\n",
       "      <td>175 FRANKLIN</td>\n",
       "      <td>Buffalo</td>\n",
       "      <td>NY</td>\n",
       "      <td>42.888195</td>\n",
       "      <td>-78.875835</td>\n",
       "      <td>(42.8881947942094, -78.87583500193372)</td>\n",
       "      <td>ELLICOTT</td>\n",
       "      <td>District B</td>\n",
       "      <td>165.0</td>\n",
       "      <td>1</td>\n",
       "      <td>1028</td>\n",
       "      <td>Central</td>\n",
       "      <td>55</td>\n",
       "      <td>36</td>\n",
       "      <td>65</td>\n",
       "      <td>25</td>\n",
       "      <td>D</td>\n",
       "    </tr>\n",
       "    <tr>\n",
       "      <th>1</th>\n",
       "      <td>X2308149</td>\n",
       "      <td>08/02/2019</td>\n",
       "      <td>0130P</td>\n",
       "      <td>NO STANDING</td>\n",
       "      <td>40.0</td>\n",
       "      <td>37.0</td>\n",
       "      <td>HURON WEST</td>\n",
       "      <td>37 HURON WEST</td>\n",
       "      <td>Buffalo</td>\n",
       "      <td>NY</td>\n",
       "      <td>42.888948</td>\n",
       "      <td>-78.874872</td>\n",
       "      <td>(42.88894814599496, -78.87487202385579)</td>\n",
       "      <td>ELLICOTT</td>\n",
       "      <td>District B</td>\n",
       "      <td>165.0</td>\n",
       "      <td>1</td>\n",
       "      <td>1022</td>\n",
       "      <td>Central</td>\n",
       "      <td>55</td>\n",
       "      <td>36</td>\n",
       "      <td>65</td>\n",
       "      <td>25</td>\n",
       "      <td>D</td>\n",
       "    </tr>\n",
       "    <tr>\n",
       "      <th>2</th>\n",
       "      <td>X2308151</td>\n",
       "      <td>08/02/2019</td>\n",
       "      <td>0305P</td>\n",
       "      <td>METER OVERTIME</td>\n",
       "      <td>40.0</td>\n",
       "      <td>228.0</td>\n",
       "      <td>FRANKLIN</td>\n",
       "      <td>228 FRANKLIN</td>\n",
       "      <td>Buffalo</td>\n",
       "      <td>NY</td>\n",
       "      <td>42.890040</td>\n",
       "      <td>-78.875395</td>\n",
       "      <td>(42.89003992129964, -78.87539503306608)</td>\n",
       "      <td>ELLICOTT</td>\n",
       "      <td>District B</td>\n",
       "      <td>165.0</td>\n",
       "      <td>1</td>\n",
       "      <td>1023</td>\n",
       "      <td>Central</td>\n",
       "      <td>55</td>\n",
       "      <td>36</td>\n",
       "      <td>65</td>\n",
       "      <td>25</td>\n",
       "      <td>D</td>\n",
       "    </tr>\n",
       "    <tr>\n",
       "      <th>3</th>\n",
       "      <td>X2308152</td>\n",
       "      <td>08/02/2019</td>\n",
       "      <td>0312P</td>\n",
       "      <td>METER OVERTIME</td>\n",
       "      <td>40.0</td>\n",
       "      <td>210.0</td>\n",
       "      <td>FRANKLIN</td>\n",
       "      <td>210 FRANKLIN</td>\n",
       "      <td>Buffalo</td>\n",
       "      <td>NY</td>\n",
       "      <td>42.889319</td>\n",
       "      <td>-78.875628</td>\n",
       "      <td>(42.88931932925486, -78.87562789846032)</td>\n",
       "      <td>ELLICOTT</td>\n",
       "      <td>District B</td>\n",
       "      <td>165.0</td>\n",
       "      <td>1</td>\n",
       "      <td>1023</td>\n",
       "      <td>Central</td>\n",
       "      <td>55</td>\n",
       "      <td>36</td>\n",
       "      <td>65</td>\n",
       "      <td>25</td>\n",
       "      <td>D</td>\n",
       "    </tr>\n",
       "    <tr>\n",
       "      <th>4</th>\n",
       "      <td>X2308153</td>\n",
       "      <td>08/02/2019</td>\n",
       "      <td>0320P</td>\n",
       "      <td>METER OVERTIME</td>\n",
       "      <td>40.0</td>\n",
       "      <td>22.0</td>\n",
       "      <td>SENECA WEST</td>\n",
       "      <td>22 SENECA WEST</td>\n",
       "      <td>Buffalo</td>\n",
       "      <td>NY</td>\n",
       "      <td>42.880596</td>\n",
       "      <td>-78.875566</td>\n",
       "      <td>(42.880595539253534, -78.87556606949188)</td>\n",
       "      <td>FILLMORE</td>\n",
       "      <td>District B</td>\n",
       "      <td>165.0</td>\n",
       "      <td>1</td>\n",
       "      <td>1114</td>\n",
       "      <td>Central</td>\n",
       "      <td>55</td>\n",
       "      <td>36</td>\n",
       "      <td>65</td>\n",
       "      <td>25</td>\n",
       "      <td>D</td>\n",
       "    </tr>\n",
       "    <tr>\n",
       "      <th>...</th>\n",
       "      <td>...</td>\n",
       "      <td>...</td>\n",
       "      <td>...</td>\n",
       "      <td>...</td>\n",
       "      <td>...</td>\n",
       "      <td>...</td>\n",
       "      <td>...</td>\n",
       "      <td>...</td>\n",
       "      <td>...</td>\n",
       "      <td>...</td>\n",
       "      <td>...</td>\n",
       "      <td>...</td>\n",
       "      <td>...</td>\n",
       "      <td>...</td>\n",
       "      <td>...</td>\n",
       "      <td>...</td>\n",
       "      <td>...</td>\n",
       "      <td>...</td>\n",
       "      <td>...</td>\n",
       "      <td>...</td>\n",
       "      <td>...</td>\n",
       "      <td>...</td>\n",
       "      <td>...</td>\n",
       "      <td>...</td>\n",
       "    </tr>\n",
       "    <tr>\n",
       "      <th>2812642</th>\n",
       "      <td>Z2222894</td>\n",
       "      <td>01/29/2019</td>\n",
       "      <td>0836A</td>\n",
       "      <td>ALTERNATE PARKING</td>\n",
       "      <td>40.0</td>\n",
       "      <td>36.0</td>\n",
       "      <td>GREELEY</td>\n",
       "      <td>36 GREELEY</td>\n",
       "      <td>Buffalo</td>\n",
       "      <td>NY</td>\n",
       "      <td>42.948733</td>\n",
       "      <td>-78.882463</td>\n",
       "      <td>(42.948732632109, -78.882463304971)</td>\n",
       "      <td>NORTH</td>\n",
       "      <td>District D</td>\n",
       "      <td>56.0</td>\n",
       "      <td>5</td>\n",
       "      <td>5004</td>\n",
       "      <td>West Hertel</td>\n",
       "      <td>73</td>\n",
       "      <td>16</td>\n",
       "      <td>85</td>\n",
       "      <td>75</td>\n",
       "      <td>B</td>\n",
       "    </tr>\n",
       "    <tr>\n",
       "      <th>2812643</th>\n",
       "      <td>Z2222895</td>\n",
       "      <td>01/29/2019</td>\n",
       "      <td>0839A</td>\n",
       "      <td>ALTERNATE PARKING</td>\n",
       "      <td>40.0</td>\n",
       "      <td>55.0</td>\n",
       "      <td>HOLMES</td>\n",
       "      <td>55 HOLMES</td>\n",
       "      <td>Buffalo</td>\n",
       "      <td>NY</td>\n",
       "      <td>42.949007</td>\n",
       "      <td>-78.887397</td>\n",
       "      <td>(42.949006902999, -78.887396920712)</td>\n",
       "      <td>NORTH</td>\n",
       "      <td>District D</td>\n",
       "      <td>56.0</td>\n",
       "      <td>4</td>\n",
       "      <td>4000</td>\n",
       "      <td>West Hertel</td>\n",
       "      <td>73</td>\n",
       "      <td>16</td>\n",
       "      <td>85</td>\n",
       "      <td>75</td>\n",
       "      <td>B</td>\n",
       "    </tr>\n",
       "    <tr>\n",
       "      <th>2812644</th>\n",
       "      <td>Z2239935</td>\n",
       "      <td>03/20/2019</td>\n",
       "      <td>1217P</td>\n",
       "      <td>NO PARKING</td>\n",
       "      <td>40.0</td>\n",
       "      <td>44.0</td>\n",
       "      <td>SAYRE</td>\n",
       "      <td>44 SAYRE</td>\n",
       "      <td>Buffalo</td>\n",
       "      <td>NY</td>\n",
       "      <td>42.947758</td>\n",
       "      <td>-78.893552</td>\n",
       "      <td>(42.94775780857678, -78.89355160442582)</td>\n",
       "      <td>NORTH</td>\n",
       "      <td>District D</td>\n",
       "      <td>56.0</td>\n",
       "      <td>2</td>\n",
       "      <td>2004</td>\n",
       "      <td>West Hertel</td>\n",
       "      <td>73</td>\n",
       "      <td>16</td>\n",
       "      <td>85</td>\n",
       "      <td>75</td>\n",
       "      <td>B</td>\n",
       "    </tr>\n",
       "    <tr>\n",
       "      <th>2812645</th>\n",
       "      <td>Z2248919</td>\n",
       "      <td>03/19/2019</td>\n",
       "      <td>0832A</td>\n",
       "      <td>NO PARKING</td>\n",
       "      <td>40.0</td>\n",
       "      <td>152.0</td>\n",
       "      <td>LAWN</td>\n",
       "      <td>152 LAWN</td>\n",
       "      <td>Buffalo</td>\n",
       "      <td>NY</td>\n",
       "      <td>42.949771</td>\n",
       "      <td>-78.887316</td>\n",
       "      <td>(42.949771006866236, -78.88731610640603)</td>\n",
       "      <td>NORTH</td>\n",
       "      <td>District D</td>\n",
       "      <td>56.0</td>\n",
       "      <td>4</td>\n",
       "      <td>4000</td>\n",
       "      <td>West Hertel</td>\n",
       "      <td>73</td>\n",
       "      <td>16</td>\n",
       "      <td>85</td>\n",
       "      <td>75</td>\n",
       "      <td>B</td>\n",
       "    </tr>\n",
       "    <tr>\n",
       "      <th>2812646</th>\n",
       "      <td>v1108375</td>\n",
       "      <td>02/07/2017</td>\n",
       "      <td>0451P</td>\n",
       "      <td>EXPIRED INSPECTION STICKER (ALL)</td>\n",
       "      <td>40.0</td>\n",
       "      <td>23.0</td>\n",
       "      <td>TUXEDO</td>\n",
       "      <td>23 TUXEDO</td>\n",
       "      <td>Buffalo</td>\n",
       "      <td>NY</td>\n",
       "      <td>42.947492</td>\n",
       "      <td>-78.886319</td>\n",
       "      <td>(42.947491535893, -78.886318867414)</td>\n",
       "      <td>NORTH</td>\n",
       "      <td>District D</td>\n",
       "      <td>56.0</td>\n",
       "      <td>3</td>\n",
       "      <td>3009</td>\n",
       "      <td>West Hertel</td>\n",
       "      <td>73</td>\n",
       "      <td>16</td>\n",
       "      <td>85</td>\n",
       "      <td>75</td>\n",
       "      <td>B</td>\n",
       "    </tr>\n",
       "  </tbody>\n",
       "</table>\n",
       "<p>2811949 rows × 24 columns</p>\n",
       "</div>"
      ],
      "text/plain": [
       "        SUMMONS NUMBER SUMMONS DATE  ... CLASSIFCATION  CLASS\n",
       "0             X2308148   08/02/2019  ...             25     D\n",
       "1             X2308149   08/02/2019  ...             25     D\n",
       "2             X2308151   08/02/2019  ...             25     D\n",
       "3             X2308152   08/02/2019  ...             25     D\n",
       "4             X2308153   08/02/2019  ...             25     D\n",
       "...                ...          ...  ...            ...   ...\n",
       "2812642       Z2222894   01/29/2019  ...             75     B\n",
       "2812643       Z2222895   01/29/2019  ...             75     B\n",
       "2812644       Z2239935   03/20/2019  ...             75     B\n",
       "2812645       Z2248919   03/19/2019  ...             75     B\n",
       "2812646       v1108375   02/07/2017  ...             75     B\n",
       "\n",
       "[2811949 rows x 24 columns]"
      ]
     },
     "execution_count": 19,
     "metadata": {
      "tags": []
     },
     "output_type": "execute_result"
    }
   ],
   "source": [
    "parking_final_1.dropna()"
   ]
  },
  {
   "cell_type": "code",
   "execution_count": 0,
   "metadata": {
    "colab": {},
    "colab_type": "code",
    "id": "ws3axDOWJxqp"
   },
   "outputs": [],
   "source": [
    "parking_final_1['SUMMONS DATE']=parking_final_1['SUMMONS DATE'].apply(lambda x:x[6] + x[7] +x[8] +x[9]) \n",
    "parking_final_1['SUMMONS DATE']=parking_final_1['SUMMONS DATE'].apply(lambda x:float(x))"
   ]
  },
  {
   "cell_type": "code",
   "execution_count": 0,
   "metadata": {
    "colab": {
     "base_uri": "https://localhost:8080/",
     "height": 71
    },
    "colab_type": "code",
    "id": "X5Atip4347LS",
    "outputId": "e449346a-a67b-4d32-b641-1650ab506ce4"
   },
   "outputs": [
    {
     "name": "stderr",
     "output_type": "stream",
     "text": [
      "/usr/local/lib/python3.6/dist-packages/pandas/core/ops/__init__.py:1115: FutureWarning: elementwise comparison failed; returning scalar instead, but in the future will perform elementwise comparison\n",
      "  result = method(y)\n"
     ]
    }
   ],
   "source": [
    "parking_final_1=parking_final_1[parking_final_1['SUMMONS DATE'] != '2019.0']"
   ]
  },
  {
   "cell_type": "code",
   "execution_count": 0,
   "metadata": {
    "colab": {
     "base_uri": "https://localhost:8080/",
     "height": 153
    },
    "colab_type": "code",
    "id": "oz2OBCj9VmcN",
    "outputId": "6dfd9a1d-5bf5-4f18-8b2d-9c6ca6518c8a"
   },
   "outputs": [
    {
     "name": "stdout",
     "output_type": "stream",
     "text": [
      "   ALTERNATE PARKING  ...  VEHICLE PARKED ON UNPAVED PORTION OR\n",
      "0                  0  ...                                     0\n",
      "1                  0  ...                                     0\n",
      "2                  0  ...                                     0\n",
      "3                  0  ...                                     0\n",
      "4                  0  ...                                     0\n",
      "\n",
      "[5 rows x 39 columns]\n"
     ]
    }
   ],
   "source": [
    "from sklearn.preprocessing import LabelBinarizer\n",
    "\n",
    "lb = LabelBinarizer()\n",
    "lb_results = lb.fit_transform(parking_final_1['VIOLATION DESCRIPTION'])\n",
    "lb_results_df = pd.DataFrame(lb_results, columns=lb.classes_)\n",
    "\n",
    "print(lb_results_df.head())"
   ]
  },
  {
   "cell_type": "code",
   "execution_count": 0,
   "metadata": {
    "colab": {
     "base_uri": "https://localhost:8080/",
     "height": 153
    },
    "colab_type": "code",
    "id": "tUZM8ai2Z8ya",
    "outputId": "ca668872-e5dc-4823-ff95-a09c25a7fcea"
   },
   "outputs": [
    {
     "name": "stdout",
     "output_type": "stream",
     "text": [
      "  SUMMONS NUMBER  ...  VEHICLE PARKED ON UNPAVED PORTION OR\n",
      "0       X2308148  ...                                     0\n",
      "1       X2308149  ...                                     0\n",
      "2       X2308151  ...                                     0\n",
      "3       X2308152  ...                                     0\n",
      "4       X2308153  ...                                     0\n",
      "\n",
      "[5 rows x 63 columns]\n"
     ]
    }
   ],
   "source": [
    "parking_final2 = pd.concat([parking_final_1, lb_results_df], axis=1)\n",
    "\n",
    "print(parking_final2.head())"
   ]
  },
  {
   "cell_type": "code",
   "execution_count": 0,
   "metadata": {
    "colab": {
     "base_uri": "https://localhost:8080/",
     "height": 153
    },
    "colab_type": "code",
    "id": "VHIw8iKZ_4iY",
    "outputId": "ae05ff0c-2ef2-49ad-cfe7-6b797e605919"
   },
   "outputs": [
    {
     "name": "stdout",
     "output_type": "stream",
     "text": [
      "   ALTERNATE PARKING  ...  VEHICLE PARKED ON UNPAVED PORTION OR\n",
      "0                  0  ...                                     0\n",
      "1                  0  ...                                     0\n",
      "2                  0  ...                                     0\n",
      "3                  0  ...                                     0\n",
      "4                  0  ...                                     0\n",
      "\n",
      "[5 rows x 39 columns]\n"
     ]
    }
   ],
   "source": [
    "\n",
    "lb = LabelBinarizer()\n",
    "lb_results1 = lb.fit_transform(parking_final2['SUMMONS DATE'])\n",
    "lb_results_df1 = pd.DataFrame(lb_results1, columns=lb.classes_)\n",
    "\n",
    "print(lb_results_df.head())"
   ]
  },
  {
   "cell_type": "code",
   "execution_count": 0,
   "metadata": {
    "colab": {
     "base_uri": "https://localhost:8080/",
     "height": 153
    },
    "colab_type": "code",
    "id": "-kCE3-jnAPO7",
    "outputId": "2916d4d7-8ffc-439a-8d50-0adba7cdf198"
   },
   "outputs": [
    {
     "name": "stdout",
     "output_type": "stream",
     "text": [
      "  SUMMONS NUMBER  SUMMONS DATE VIOLATION TIME  ... 2017.0  2018.0  2019.0\n",
      "0       X2308148        2019.0          0125P  ...      0       0       1\n",
      "1       X2308149        2019.0          0130P  ...      0       0       1\n",
      "2       X2308151        2019.0          0305P  ...      0       0       1\n",
      "3       X2308152        2019.0          0312P  ...      0       0       1\n",
      "4       X2308153        2019.0          0320P  ...      0       0       1\n",
      "\n",
      "[5 rows x 76 columns]\n"
     ]
    }
   ],
   "source": [
    "parking_final = pd.concat([parking_final2, lb_results_df1], axis=1)\n",
    "\n",
    "print(parking_final.head())"
   ]
  },
  {
   "cell_type": "code",
   "execution_count": 0,
   "metadata": {
    "colab": {},
    "colab_type": "code",
    "id": "jmvOv-59YIe0"
   },
   "outputs": [],
   "source": [
    " parking_final['RANK'].fillna((parking_final['RANK'].mean()),inplace=True)"
   ]
  },
  {
   "cell_type": "code",
   "execution_count": 0,
   "metadata": {
    "colab": {},
    "colab_type": "code",
    "id": "4URCj2JVF7IL"
   },
   "outputs": [],
   "source": [
    "feature_cols=['ALTERNATE PARKING',\n",
    "                             'BLOCKED DRIVEWAY (ALL)',\n",
    "       'BUS RT. NO PARKING 1:30 TO 7:00 AM 11/15-4/1',\n",
    "                                     'DOUBLE PARKING',\n",
    "                   'EXPIRED INSPECTION STICKER (ALL)',\n",
    "                       'EXPIRED REGISTRATION STICKER',\n",
    "                     'LESS THAN 20 FT FROM CROSSWALK',\n",
    "                                       'LOADING ZONE',\n",
    "                                     'METER OVERTIME',\n",
    "                             'METHOD OF PARKING(ALL)',\n",
    "                       'NO INSPECTIONS STICKER (ALL)',\n",
    "             'NO PARK COMMERICAL TRCK ON RESIDENTIAL',\n",
    "                                         'NO PARKING',\n",
    "                 'NO PARKING OF HOUSE TRAILERS (ALL)',\n",
    "                      'NO REGISTRATION STICKER (ALL)',\n",
    "              'NO REPAIRS IN STREET EXCEPT EMERGENCY',\n",
    "                                        'NO STANDING',\n",
    "                                  'NO STOPPING (ALL)',\n",
    "                                       'NO VIOLATION',\n",
    "                    'ONE LICENSE PLATE MISSING (ALL)',\n",
    "                    'PARKED BEYOND POSTED TIME LIMIT',\n",
    "                         'PARKED IN HANDICAPPED AREA',\n",
    "              'PARKED LESS THAN 15 FT - FIRE HYDRANT',\n",
    "                      'PARKED MORE THAN 12\"FROM CURB',\n",
    "                 'PARKED MORE THAN 72 HRS. SAME SPOT',\n",
    "                      'PARKED ON BRIDGE OR IN SUBWAY',\n",
    "                           'PARKED ON SIDEWALK (ALL)',\n",
    "                'PARKED OVER 18 FT FOR MORE THAN ONE',\n",
    "                   'PARKING IN WRONG DIRECTION (ALL)',\n",
    "                 'PARKING ON DIVIDED HWYS PROHIBITED',\n",
    "           'PARKING PROHIBITED IN CONSTRUCTION SITES',\n",
    "                                  'PARKING VIOLATION',\n",
    "                      'PARKING WITHOUT CONSENT (ALL)',\n",
    "                  'PERSISTEN VIOLATORS AND SCOFFLAWS',\n",
    "                              'SWITCHED PLATES (ALL)',\n",
    "                                  'UNKNOWN VIOLATION',\n",
    "               'UNREGISTERED VEH.ON PRIVATE PROPERTY',\n",
    "                 'VEHICLE BLOCKING HANDICAP CURB CUT',\n",
    "               'VEHICLE PARKED ON UNPAVED PORTION OR',\n",
    "                                               2007.0,\n",
    "                                               2008.0,\n",
    "                                               2009.0,\n",
    "                                               2010.0,\n",
    "                                               2011.0,\n",
    "                                               2012.0,\n",
    "                                               2013.0,\n",
    "                                               2014.0,\n",
    "                                               2015.0,\n",
    "                                               2016.0,\n",
    "                                               2017.0,\n",
    "                                               2018.0,\n",
    "                                               2019.0]"
   ]
  },
  {
   "cell_type": "code",
   "execution_count": 0,
   "metadata": {
    "colab": {},
    "colab_type": "code",
    "id": "U6R5TKP8YOLR"
   },
   "outputs": [],
   "source": [
    "X = parking_final[feature_cols] # Features\n",
    "y = parking_final.RANK"
   ]
  },
  {
   "cell_type": "code",
   "execution_count": 0,
   "metadata": {
    "colab": {},
    "colab_type": "code",
    "id": "kpqHGGmLYQuo"
   },
   "outputs": [],
   "source": [
    "X_train, X_test, y_train, y_test = train_test_split(X, y, test_size=0.3, random_state=1)"
   ]
  },
  {
   "cell_type": "code",
   "execution_count": 0,
   "metadata": {
    "colab": {},
    "colab_type": "code",
    "id": "DN7pjomjYYWY"
   },
   "outputs": [],
   "source": [
    "from sklearn.preprocessing import StandardScaler\n",
    "\n",
    "sc = StandardScaler()\n",
    "X_train = sc.fit_transform(X_train)\n",
    "X_test = sc.transform(X_test)"
   ]
  },
  {
   "cell_type": "code",
   "execution_count": 0,
   "metadata": {
    "colab": {},
    "colab_type": "code",
    "id": "1ahi8TG9YcgG"
   },
   "outputs": [],
   "source": [
    "from sklearn.ensemble import RandomForestRegressor\n",
    "\n",
    "regressor = RandomForestRegressor(n_estimators=20, random_state=0)\n",
    "regressor.fit(X_train, y_train)\n",
    "y_pred = regressor.predict(X_test)"
   ]
  },
  {
   "cell_type": "code",
   "execution_count": 0,
   "metadata": {
    "colab": {
     "base_uri": "https://localhost:8080/",
     "height": 419
    },
    "colab_type": "code",
    "id": "PpgrVSPkYgCx",
    "outputId": "07cbf154-70ac-474e-e4d3-e21f4b0fdca7"
   },
   "outputs": [
    {
     "data": {
      "text/html": [
       "<div>\n",
       "<style scoped>\n",
       "    .dataframe tbody tr th:only-of-type {\n",
       "        vertical-align: middle;\n",
       "    }\n",
       "\n",
       "    .dataframe tbody tr th {\n",
       "        vertical-align: top;\n",
       "    }\n",
       "\n",
       "    .dataframe thead th {\n",
       "        text-align: right;\n",
       "    }\n",
       "</style>\n",
       "<table border=\"1\" class=\"dataframe\">\n",
       "  <thead>\n",
       "    <tr style=\"text-align: right;\">\n",
       "      <th></th>\n",
       "      <th>Actual</th>\n",
       "      <th>Predicted</th>\n",
       "    </tr>\n",
       "  </thead>\n",
       "  <tbody>\n",
       "    <tr>\n",
       "      <th>952053</th>\n",
       "      <td>1</td>\n",
       "      <td>14.594374</td>\n",
       "    </tr>\n",
       "    <tr>\n",
       "      <th>2150132</th>\n",
       "      <td>40</td>\n",
       "      <td>17.838917</td>\n",
       "    </tr>\n",
       "    <tr>\n",
       "      <th>1520236</th>\n",
       "      <td>24</td>\n",
       "      <td>16.624840</td>\n",
       "    </tr>\n",
       "    <tr>\n",
       "      <th>1568810</th>\n",
       "      <td>24</td>\n",
       "      <td>19.303079</td>\n",
       "    </tr>\n",
       "    <tr>\n",
       "      <th>1490843</th>\n",
       "      <td>22</td>\n",
       "      <td>14.526487</td>\n",
       "    </tr>\n",
       "    <tr>\n",
       "      <th>...</th>\n",
       "      <td>...</td>\n",
       "      <td>...</td>\n",
       "    </tr>\n",
       "    <tr>\n",
       "      <th>2529955</th>\n",
       "      <td>18</td>\n",
       "      <td>16.265856</td>\n",
       "    </tr>\n",
       "    <tr>\n",
       "      <th>22932</th>\n",
       "      <td>36</td>\n",
       "      <td>20.038058</td>\n",
       "    </tr>\n",
       "    <tr>\n",
       "      <th>2304891</th>\n",
       "      <td>23</td>\n",
       "      <td>20.532279</td>\n",
       "    </tr>\n",
       "    <tr>\n",
       "      <th>1951624</th>\n",
       "      <td>27</td>\n",
       "      <td>15.580360</td>\n",
       "    </tr>\n",
       "    <tr>\n",
       "      <th>2694288</th>\n",
       "      <td>13</td>\n",
       "      <td>19.493193</td>\n",
       "    </tr>\n",
       "  </tbody>\n",
       "</table>\n",
       "<p>843795 rows × 2 columns</p>\n",
       "</div>"
      ],
      "text/plain": [
       "         Actual  Predicted\n",
       "952053        1  14.594374\n",
       "2150132      40  17.838917\n",
       "1520236      24  16.624840\n",
       "1568810      24  19.303079\n",
       "1490843      22  14.526487\n",
       "...         ...        ...\n",
       "2529955      18  16.265856\n",
       "22932        36  20.038058\n",
       "2304891      23  20.532279\n",
       "1951624      27  15.580360\n",
       "2694288      13  19.493193\n",
       "\n",
       "[843795 rows x 2 columns]"
      ]
     },
     "execution_count": 32,
     "metadata": {
      "tags": []
     },
     "output_type": "execute_result"
    }
   ],
   "source": [
    "df=pd.DataFrame({'Actual':y_test, 'Predicted':y_pred,})\n",
    "df"
   ]
  },
  {
   "cell_type": "code",
   "execution_count": 0,
   "metadata": {
    "colab": {
     "base_uri": "https://localhost:8080/",
     "height": 68
    },
    "colab_type": "code",
    "id": "lSYp1-5DYlMY",
    "outputId": "d41a7ce7-2667-478d-e076-ef0ea415faa9"
   },
   "outputs": [
    {
     "name": "stdout",
     "output_type": "stream",
     "text": [
      "Mean Absolute Error: 10.542114967587207\n",
      "Mean Squared Error: 151.1185791403219\n",
      "Root Mean Squared Error: 12.293029697365979\n"
     ]
    }
   ],
   "source": [
    "from sklearn import metrics\n",
    "\n",
    "print('Mean Absolute Error:', metrics.mean_absolute_error(y_test, y_pred))\n",
    "print('Mean Squared Error:', metrics.mean_squared_error(y_test, y_pred))\n",
    "print('Root Mean Squared Error:', np.sqrt(metrics.mean_squared_error(y_test, y_pred)))"
   ]
  },
  {
   "cell_type": "code",
   "execution_count": 0,
   "metadata": {
    "colab": {
     "base_uri": "https://localhost:8080/",
     "height": 1000
    },
    "colab_type": "code",
    "id": "B3kY3Iafnwa9",
    "outputId": "ef77c5bc-7932-443d-d4ab-d025ade9c47d"
   },
   "outputs": [
    {
     "data": {
      "text/plain": [
       "Index([                              'SUMMONS NUMBER',\n",
       "                                       'SUMMONS DATE',\n",
       "                                     'VIOLATION TIME',\n",
       "                              'VIOLATION DESCRIPTION',\n",
       "                                      'ORIGINAL FINE',\n",
       "                           'VIOLATION ADDRESS NUMBER',\n",
       "                                   'VIOLATION STREET',\n",
       "                             'VIOLATION FULL ADDRESS',\n",
       "                                               'CITY',\n",
       "                                              'STATE',\n",
       "                                           'LATITUDE',\n",
       "                                          'LONGITUDE',\n",
       "                                           'LOCATION',\n",
       "                                   'COUNCIL DISTRICT',\n",
       "                                    'POLICE DISTRICT',\n",
       "                                       'CENSUS TRACT',\n",
       "                                 'CENSUS BLOCK GROUP',\n",
       "                                       'CENSUS BLOCK',\n",
       "                                       'NEIGHBORHOOD',\n",
       "                                          'WALKSCORE',\n",
       "                                               'RANK',\n",
       "                               'GENTRIFICATION SCORE',\n",
       "                                     'CLASSIFCATION ',\n",
       "                                              'CLASS',\n",
       "                                  'ALTERNATE PARKING',\n",
       "                             'BLOCKED DRIVEWAY (ALL)',\n",
       "       'BUS RT. NO PARKING 1:30 TO 7:00 AM 11/15-4/1',\n",
       "                                     'DOUBLE PARKING',\n",
       "                   'EXPIRED INSPECTION STICKER (ALL)',\n",
       "                       'EXPIRED REGISTRATION STICKER',\n",
       "                     'LESS THAN 20 FT FROM CROSSWALK',\n",
       "                                       'LOADING ZONE',\n",
       "                                     'METER OVERTIME',\n",
       "                             'METHOD OF PARKING(ALL)',\n",
       "                       'NO INSPECTIONS STICKER (ALL)',\n",
       "             'NO PARK COMMERICAL TRCK ON RESIDENTIAL',\n",
       "                                         'NO PARKING',\n",
       "                 'NO PARKING OF HOUSE TRAILERS (ALL)',\n",
       "                      'NO REGISTRATION STICKER (ALL)',\n",
       "              'NO REPAIRS IN STREET EXCEPT EMERGENCY',\n",
       "                                        'NO STANDING',\n",
       "                                  'NO STOPPING (ALL)',\n",
       "                                       'NO VIOLATION',\n",
       "                    'ONE LICENSE PLATE MISSING (ALL)',\n",
       "                    'PARKED BEYOND POSTED TIME LIMIT',\n",
       "                         'PARKED IN HANDICAPPED AREA',\n",
       "              'PARKED LESS THAN 15 FT - FIRE HYDRANT',\n",
       "                      'PARKED MORE THAN 12\"FROM CURB',\n",
       "                 'PARKED MORE THAN 72 HRS. SAME SPOT',\n",
       "                      'PARKED ON BRIDGE OR IN SUBWAY',\n",
       "                           'PARKED ON SIDEWALK (ALL)',\n",
       "                'PARKED OVER 18 FT FOR MORE THAN ONE',\n",
       "                   'PARKING IN WRONG DIRECTION (ALL)',\n",
       "                 'PARKING ON DIVIDED HWYS PROHIBITED',\n",
       "           'PARKING PROHIBITED IN CONSTRUCTION SITES',\n",
       "                                  'PARKING VIOLATION',\n",
       "                      'PARKING WITHOUT CONSENT (ALL)',\n",
       "                  'PERSISTEN VIOLATORS AND SCOFFLAWS',\n",
       "                              'SWITCHED PLATES (ALL)',\n",
       "                                  'UNKNOWN VIOLATION',\n",
       "               'UNREGISTERED VEH.ON PRIVATE PROPERTY',\n",
       "                 'VEHICLE BLOCKING HANDICAP CURB CUT',\n",
       "               'VEHICLE PARKED ON UNPAVED PORTION OR',\n",
       "                                               2007.0,\n",
       "                                               2008.0,\n",
       "                                               2009.0,\n",
       "                                               2010.0,\n",
       "                                               2011.0,\n",
       "                                               2012.0,\n",
       "                                               2013.0,\n",
       "                                               2014.0,\n",
       "                                               2015.0,\n",
       "                                               2016.0,\n",
       "                                               2017.0,\n",
       "                                               2018.0,\n",
       "                                               2019.0],\n",
       "      dtype='object')"
      ]
     },
     "execution_count": 34,
     "metadata": {
      "tags": []
     },
     "output_type": "execute_result"
    }
   ],
   "source": [
    "parking_final.columns"
   ]
  },
  {
   "cell_type": "code",
   "execution_count": 0,
   "metadata": {
    "colab": {
     "base_uri": "https://localhost:8080/",
     "height": 221
    },
    "colab_type": "code",
    "id": "EItrzccYn4RH",
    "outputId": "12e1cd91-a0ea-4668-a6a6-e423f4ce91f7"
   },
   "outputs": [
    {
     "data": {
      "text/plain": [
       "0          25\n",
       "1          25\n",
       "2          25\n",
       "3          25\n",
       "4          25\n",
       "           ..\n",
       "2812642    75\n",
       "2812643    75\n",
       "2812644    75\n",
       "2812645    75\n",
       "2812646    75\n",
       "Name: CLASSIFCATION , Length: 2812647, dtype: int64"
      ]
     },
     "execution_count": 35,
     "metadata": {
      "tags": []
     },
     "output_type": "execute_result"
    }
   ],
   "source": [
    "parking_final['CLASSIFCATION ']"
   ]
  },
  {
   "cell_type": "code",
   "execution_count": 0,
   "metadata": {
    "colab": {},
    "colab_type": "code",
    "id": "F479UvKwkjuj"
   },
   "outputs": [],
   "source": [
    "X1 = parking_final[feature_cols] # Features\n",
    "y1 = parking_final['CLASS'] "
   ]
  },
  {
   "cell_type": "code",
   "execution_count": 0,
   "metadata": {
    "colab": {},
    "colab_type": "code",
    "id": "DkRFdp1UY5K7"
   },
   "outputs": [],
   "source": [
    "X1_train, X1_test, y1_train, y1_test = train_test_split(X1, y1, test_size=0.3, random_state=1)"
   ]
  },
  {
   "cell_type": "code",
   "execution_count": 0,
   "metadata": {
    "colab": {
     "base_uri": "https://localhost:8080/",
     "height": 136
    },
    "colab_type": "code",
    "id": "i68r_QK3iiZr",
    "outputId": "f2d6f33c-ea30-4e71-d8a7-4a8a412426d7"
   },
   "outputs": [
    {
     "data": {
      "text/plain": [
       "RandomForestClassifier(bootstrap=True, class_weight=None, criterion='gini',\n",
       "                       max_depth=None, max_features='auto', max_leaf_nodes=None,\n",
       "                       min_impurity_decrease=0.0, min_impurity_split=None,\n",
       "                       min_samples_leaf=1, min_samples_split=2,\n",
       "                       min_weight_fraction_leaf=0.0, n_estimators=100,\n",
       "                       n_jobs=None, oob_score=False, random_state=None,\n",
       "                       verbose=0, warm_start=False)"
      ]
     },
     "execution_count": 38,
     "metadata": {
      "tags": []
     },
     "output_type": "execute_result"
    }
   ],
   "source": [
    "from sklearn.ensemble import RandomForestClassifier\n",
    "\n",
    "#Create a Gaussian Classifier\n",
    "clf=RandomForestClassifier(n_estimators=100)\n",
    "\n",
    "#Train the model using the training sets y_pred=clf.predict(X_test)\n",
    "clf.fit(X1_train,y1_train)\n"
   ]
  },
  {
   "cell_type": "code",
   "execution_count": 0,
   "metadata": {
    "colab": {},
    "colab_type": "code",
    "id": "-wq7JVXxYxmp"
   },
   "outputs": [],
   "source": [
    "\n",
    "y1_pred=clf.predict(X1_test)"
   ]
  },
  {
   "cell_type": "code",
   "execution_count": 0,
   "metadata": {
    "colab": {
     "base_uri": "https://localhost:8080/",
     "height": 34
    },
    "colab_type": "code",
    "id": "Rk9iVns0lSnz",
    "outputId": "8a1b793e-f439-4569-c89c-8dcc080cbbcc"
   },
   "outputs": [
    {
     "name": "stdout",
     "output_type": "stream",
     "text": [
      "Accuracy: 0.3774210560621952\n"
     ]
    }
   ],
   "source": [
    "from sklearn import metrics\n",
    "# Model Accuracy, how often is the classifier correct?\n",
    "print(\"Accuracy:\",metrics.accuracy_score(y1_test, y1_pred))"
   ]
  },
  {
   "cell_type": "markdown",
   "metadata": {
    "colab_type": "text",
    "id": "FY4JPVpocwR2"
   },
   "source": [
    "Assessment Price"
   ]
  },
  {
   "cell_type": "code",
   "execution_count": 0,
   "metadata": {
    "colab": {},
    "colab_type": "code",
    "id": "NiY09m1wc1i_"
   },
   "outputs": [],
   "source": [
    "assessment_price=pd.read_csv('/content/drive/My Drive/Gentrification/census_rank_Assessmentprice.csv')"
   ]
  },
  {
   "cell_type": "markdown",
   "metadata": {
    "colab_type": "text",
    "id": "afioXLCrcutM"
   },
   "source": []
  },
  {
   "cell_type": "code",
   "execution_count": 0,
   "metadata": {
    "colab": {},
    "colab_type": "code",
    "id": "6ndqsHtlfCRz"
   },
   "outputs": [],
   "source": [
    "assessment_price['CENSUS TRACT'] = pd.to_numeric(assessment_price['CENSUS TRACT'], errors='coerce')\n",
    "assessment_price = assessment_price.dropna(subset=['CENSUS TRACT'])\n",
    "assessment_price['CENSUS TRACT']=assessment_price['CENSUS TRACT'].astype(float)"
   ]
  },
  {
   "cell_type": "code",
   "execution_count": 0,
   "metadata": {
    "colab": {},
    "colab_type": "code",
    "id": "nXEpaqgzfHoE"
   },
   "outputs": [],
   "source": [
    "parking_ranked_assessment=parking_summonses.merge(assessment_price,on='CENSUS TRACT')"
   ]
  },
  {
   "cell_type": "code",
   "execution_count": 0,
   "metadata": {
    "colab": {
     "base_uri": "https://localhost:8080/",
     "height": 728
    },
    "colab_type": "code",
    "id": "roPJAAKgfoZG",
    "outputId": "6ca466ba-ce32-49e3-874b-5ea7db4d0dd8"
   },
   "outputs": [
    {
     "data": {
      "text/html": [
       "<div>\n",
       "<style scoped>\n",
       "    .dataframe tbody tr th:only-of-type {\n",
       "        vertical-align: middle;\n",
       "    }\n",
       "\n",
       "    .dataframe tbody tr th {\n",
       "        vertical-align: top;\n",
       "    }\n",
       "\n",
       "    .dataframe thead th {\n",
       "        text-align: right;\n",
       "    }\n",
       "</style>\n",
       "<table border=\"1\" class=\"dataframe\">\n",
       "  <thead>\n",
       "    <tr style=\"text-align: right;\">\n",
       "      <th></th>\n",
       "      <th>SUMMONS NUMBER</th>\n",
       "      <th>SUMMONS DATE</th>\n",
       "      <th>VIOLATION TIME</th>\n",
       "      <th>VIOLATION DESCRIPTION</th>\n",
       "      <th>ORIGINAL FINE</th>\n",
       "      <th>VIOLATION ADDRESS NUMBER</th>\n",
       "      <th>VIOLATION STREET</th>\n",
       "      <th>VIOLATION FULL ADDRESS</th>\n",
       "      <th>CITY</th>\n",
       "      <th>STATE</th>\n",
       "      <th>LATITUDE</th>\n",
       "      <th>LONGITUDE</th>\n",
       "      <th>LOCATION</th>\n",
       "      <th>COUNCIL DISTRICT</th>\n",
       "      <th>POLICE DISTRICT</th>\n",
       "      <th>CENSUS TRACT</th>\n",
       "      <th>CENSUS BLOCK GROUP</th>\n",
       "      <th>CENSUS BLOCK</th>\n",
       "      <th>Price/sqft</th>\n",
       "      <th>Rank</th>\n",
       "    </tr>\n",
       "  </thead>\n",
       "  <tbody>\n",
       "    <tr>\n",
       "      <th>0</th>\n",
       "      <td>X2308148</td>\n",
       "      <td>08/02/2019</td>\n",
       "      <td>0125P</td>\n",
       "      <td>PARKING VIOLATION</td>\n",
       "      <td>40.0</td>\n",
       "      <td>175.0</td>\n",
       "      <td>FRANKLIN</td>\n",
       "      <td>175 FRANKLIN</td>\n",
       "      <td>Buffalo</td>\n",
       "      <td>NY</td>\n",
       "      <td>42.888195</td>\n",
       "      <td>-78.875835</td>\n",
       "      <td>(42.8881947942094, -78.87583500193372)</td>\n",
       "      <td>ELLICOTT</td>\n",
       "      <td>District B</td>\n",
       "      <td>165.0</td>\n",
       "      <td>1</td>\n",
       "      <td>1028</td>\n",
       "      <td>272.117490</td>\n",
       "      <td>2</td>\n",
       "    </tr>\n",
       "    <tr>\n",
       "      <th>1</th>\n",
       "      <td>X2308149</td>\n",
       "      <td>08/02/2019</td>\n",
       "      <td>0130P</td>\n",
       "      <td>NO STANDING</td>\n",
       "      <td>40.0</td>\n",
       "      <td>37.0</td>\n",
       "      <td>HURON WEST</td>\n",
       "      <td>37 HURON WEST</td>\n",
       "      <td>Buffalo</td>\n",
       "      <td>NY</td>\n",
       "      <td>42.888948</td>\n",
       "      <td>-78.874872</td>\n",
       "      <td>(42.88894814599496, -78.87487202385579)</td>\n",
       "      <td>ELLICOTT</td>\n",
       "      <td>District B</td>\n",
       "      <td>165.0</td>\n",
       "      <td>1</td>\n",
       "      <td>1022</td>\n",
       "      <td>272.117490</td>\n",
       "      <td>2</td>\n",
       "    </tr>\n",
       "    <tr>\n",
       "      <th>2</th>\n",
       "      <td>X2308151</td>\n",
       "      <td>08/02/2019</td>\n",
       "      <td>0305P</td>\n",
       "      <td>METER OVERTIME</td>\n",
       "      <td>40.0</td>\n",
       "      <td>228.0</td>\n",
       "      <td>FRANKLIN</td>\n",
       "      <td>228 FRANKLIN</td>\n",
       "      <td>Buffalo</td>\n",
       "      <td>NY</td>\n",
       "      <td>42.890040</td>\n",
       "      <td>-78.875395</td>\n",
       "      <td>(42.89003992129964, -78.87539503306608)</td>\n",
       "      <td>ELLICOTT</td>\n",
       "      <td>District B</td>\n",
       "      <td>165.0</td>\n",
       "      <td>1</td>\n",
       "      <td>1023</td>\n",
       "      <td>272.117490</td>\n",
       "      <td>2</td>\n",
       "    </tr>\n",
       "    <tr>\n",
       "      <th>3</th>\n",
       "      <td>X2308152</td>\n",
       "      <td>08/02/2019</td>\n",
       "      <td>0312P</td>\n",
       "      <td>METER OVERTIME</td>\n",
       "      <td>40.0</td>\n",
       "      <td>210.0</td>\n",
       "      <td>FRANKLIN</td>\n",
       "      <td>210 FRANKLIN</td>\n",
       "      <td>Buffalo</td>\n",
       "      <td>NY</td>\n",
       "      <td>42.889319</td>\n",
       "      <td>-78.875628</td>\n",
       "      <td>(42.88931932925486, -78.87562789846032)</td>\n",
       "      <td>ELLICOTT</td>\n",
       "      <td>District B</td>\n",
       "      <td>165.0</td>\n",
       "      <td>1</td>\n",
       "      <td>1023</td>\n",
       "      <td>272.117490</td>\n",
       "      <td>2</td>\n",
       "    </tr>\n",
       "    <tr>\n",
       "      <th>4</th>\n",
       "      <td>X2308153</td>\n",
       "      <td>08/02/2019</td>\n",
       "      <td>0320P</td>\n",
       "      <td>METER OVERTIME</td>\n",
       "      <td>40.0</td>\n",
       "      <td>22.0</td>\n",
       "      <td>SENECA WEST</td>\n",
       "      <td>22 SENECA WEST</td>\n",
       "      <td>Buffalo</td>\n",
       "      <td>NY</td>\n",
       "      <td>42.880596</td>\n",
       "      <td>-78.875566</td>\n",
       "      <td>(42.880595539253534, -78.87556606949188)</td>\n",
       "      <td>FILLMORE</td>\n",
       "      <td>District B</td>\n",
       "      <td>165.0</td>\n",
       "      <td>1</td>\n",
       "      <td>1114</td>\n",
       "      <td>272.117490</td>\n",
       "      <td>2</td>\n",
       "    </tr>\n",
       "    <tr>\n",
       "      <th>...</th>\n",
       "      <td>...</td>\n",
       "      <td>...</td>\n",
       "      <td>...</td>\n",
       "      <td>...</td>\n",
       "      <td>...</td>\n",
       "      <td>...</td>\n",
       "      <td>...</td>\n",
       "      <td>...</td>\n",
       "      <td>...</td>\n",
       "      <td>...</td>\n",
       "      <td>...</td>\n",
       "      <td>...</td>\n",
       "      <td>...</td>\n",
       "      <td>...</td>\n",
       "      <td>...</td>\n",
       "      <td>...</td>\n",
       "      <td>...</td>\n",
       "      <td>...</td>\n",
       "      <td>...</td>\n",
       "      <td>...</td>\n",
       "    </tr>\n",
       "    <tr>\n",
       "      <th>2109939</th>\n",
       "      <td>Y9844732</td>\n",
       "      <td>06/11/2015</td>\n",
       "      <td>1226A</td>\n",
       "      <td>EXPIRED INSPECTION STICKER (ALL)</td>\n",
       "      <td>35.0</td>\n",
       "      <td>100.0</td>\n",
       "      <td>HOWARD</td>\n",
       "      <td>100 HOWARD</td>\n",
       "      <td>Buffalo</td>\n",
       "      <td>NY</td>\n",
       "      <td>42.883386</td>\n",
       "      <td>-78.850221</td>\n",
       "      <td>(42.88338630523, -78.850220902355)</td>\n",
       "      <td>ELLICOTT</td>\n",
       "      <td>District C</td>\n",
       "      <td>15.0</td>\n",
       "      <td>2</td>\n",
       "      <td>2023</td>\n",
       "      <td>24.060547</td>\n",
       "      <td>66</td>\n",
       "    </tr>\n",
       "    <tr>\n",
       "      <th>2109940</th>\n",
       "      <td>Y9844733</td>\n",
       "      <td>06/11/2015</td>\n",
       "      <td>1229A</td>\n",
       "      <td>NO PARKING</td>\n",
       "      <td>35.0</td>\n",
       "      <td>165.0</td>\n",
       "      <td>HOWARD</td>\n",
       "      <td>165 HOWARD</td>\n",
       "      <td>Buffalo</td>\n",
       "      <td>NY</td>\n",
       "      <td>42.883285</td>\n",
       "      <td>-78.847895</td>\n",
       "      <td>(42.883285141776, -78.847894893586)</td>\n",
       "      <td>FILLMORE</td>\n",
       "      <td>District C</td>\n",
       "      <td>15.0</td>\n",
       "      <td>1</td>\n",
       "      <td>1008</td>\n",
       "      <td>24.060547</td>\n",
       "      <td>66</td>\n",
       "    </tr>\n",
       "    <tr>\n",
       "      <th>2109941</th>\n",
       "      <td>Y9844734</td>\n",
       "      <td>06/11/2015</td>\n",
       "      <td>1230A</td>\n",
       "      <td>EXPIRED INSPECTION STICKER (ALL)</td>\n",
       "      <td>35.0</td>\n",
       "      <td>165.0</td>\n",
       "      <td>HOWARD</td>\n",
       "      <td>165 HOWARD</td>\n",
       "      <td>Buffalo</td>\n",
       "      <td>NY</td>\n",
       "      <td>42.883285</td>\n",
       "      <td>-78.847895</td>\n",
       "      <td>(42.883285141776, -78.847894893586)</td>\n",
       "      <td>FILLMORE</td>\n",
       "      <td>District C</td>\n",
       "      <td>15.0</td>\n",
       "      <td>1</td>\n",
       "      <td>1008</td>\n",
       "      <td>24.060547</td>\n",
       "      <td>66</td>\n",
       "    </tr>\n",
       "    <tr>\n",
       "      <th>2109942</th>\n",
       "      <td>Z9835576</td>\n",
       "      <td>05/14/2015</td>\n",
       "      <td>1106A</td>\n",
       "      <td>ALTERNATE PARKING</td>\n",
       "      <td>30.0</td>\n",
       "      <td>66.0</td>\n",
       "      <td>WATSON</td>\n",
       "      <td>66 WATSON</td>\n",
       "      <td>Buffalo</td>\n",
       "      <td>NY</td>\n",
       "      <td>42.881833</td>\n",
       "      <td>-78.849974</td>\n",
       "      <td>(42.881833438232, -78.849974179483)</td>\n",
       "      <td>ELLICOTT</td>\n",
       "      <td>District C</td>\n",
       "      <td>15.0</td>\n",
       "      <td>1</td>\n",
       "      <td>1010</td>\n",
       "      <td>24.060547</td>\n",
       "      <td>66</td>\n",
       "    </tr>\n",
       "    <tr>\n",
       "      <th>2109943</th>\n",
       "      <td>x2172797</td>\n",
       "      <td>10/18/2018</td>\n",
       "      <td>1252P</td>\n",
       "      <td>ALTERNATE PARKING</td>\n",
       "      <td>40.0</td>\n",
       "      <td>255.0</td>\n",
       "      <td>SHUMWAY</td>\n",
       "      <td>255 SHUMWAY</td>\n",
       "      <td>Buffalo</td>\n",
       "      <td>NY</td>\n",
       "      <td>42.890504</td>\n",
       "      <td>-78.844912</td>\n",
       "      <td>(42.890503659153, -78.844912326263)</td>\n",
       "      <td>FILLMORE</td>\n",
       "      <td>District C</td>\n",
       "      <td>15.0</td>\n",
       "      <td>2</td>\n",
       "      <td>2000</td>\n",
       "      <td>24.060547</td>\n",
       "      <td>66</td>\n",
       "    </tr>\n",
       "  </tbody>\n",
       "</table>\n",
       "<p>2109418 rows × 20 columns</p>\n",
       "</div>"
      ],
      "text/plain": [
       "        SUMMONS NUMBER SUMMONS DATE  ...  Price/sqft Rank\n",
       "0             X2308148   08/02/2019  ...  272.117490    2\n",
       "1             X2308149   08/02/2019  ...  272.117490    2\n",
       "2             X2308151   08/02/2019  ...  272.117490    2\n",
       "3             X2308152   08/02/2019  ...  272.117490    2\n",
       "4             X2308153   08/02/2019  ...  272.117490    2\n",
       "...                ...          ...  ...         ...  ...\n",
       "2109939       Y9844732   06/11/2015  ...   24.060547   66\n",
       "2109940       Y9844733   06/11/2015  ...   24.060547   66\n",
       "2109941       Y9844734   06/11/2015  ...   24.060547   66\n",
       "2109942       Z9835576   05/14/2015  ...   24.060547   66\n",
       "2109943       x2172797   10/18/2018  ...   24.060547   66\n",
       "\n",
       "[2109418 rows x 20 columns]"
      ]
     },
     "execution_count": 44,
     "metadata": {
      "tags": []
     },
     "output_type": "execute_result"
    }
   ],
   "source": [
    "parking_ranked_assessment.dropna()"
   ]
  },
  {
   "cell_type": "code",
   "execution_count": 0,
   "metadata": {
    "colab": {},
    "colab_type": "code",
    "id": "wpwmiEPyf4tk"
   },
   "outputs": [],
   "source": [
    "parking_ranked_assessment['SUMMONS DATE']=parking_ranked_assessment['SUMMONS DATE'].apply(lambda x:x[6] + x[7] +x[8] +x[9]) \n",
    "parking_ranked_assessment['SUMMONS DATE']=parking_ranked_assessment['SUMMONS DATE'].apply(lambda x:float(x))"
   ]
  },
  {
   "cell_type": "code",
   "execution_count": 0,
   "metadata": {
    "colab": {
     "base_uri": "https://localhost:8080/",
     "height": 71
    },
    "colab_type": "code",
    "id": "UsftHiPngSw4",
    "outputId": "0899088d-c1b4-4d6a-ad66-c3c553ddb05d"
   },
   "outputs": [
    {
     "name": "stderr",
     "output_type": "stream",
     "text": [
      "/usr/local/lib/python3.6/dist-packages/pandas/core/ops/__init__.py:1115: FutureWarning: elementwise comparison failed; returning scalar instead, but in the future will perform elementwise comparison\n",
      "  result = method(y)\n"
     ]
    }
   ],
   "source": [
    "parking_ranked_assessment=parking_ranked_assessment[parking_ranked_assessment['SUMMONS DATE'] != '2019']"
   ]
  },
  {
   "cell_type": "code",
   "execution_count": 0,
   "metadata": {
    "colab": {
     "base_uri": "https://localhost:8080/",
     "height": 153
    },
    "colab_type": "code",
    "id": "xX4s9nifgcNt",
    "outputId": "b5ff2f65-c653-47bd-c66e-184e9579693e"
   },
   "outputs": [
    {
     "name": "stdout",
     "output_type": "stream",
     "text": [
      "   ALTERNATE PARKING  ...  VEHICLE PARKED ON UNPAVED PORTION OR\n",
      "0                  0  ...                                     0\n",
      "1                  0  ...                                     0\n",
      "2                  0  ...                                     0\n",
      "3                  0  ...                                     0\n",
      "4                  0  ...                                     0\n",
      "\n",
      "[5 rows x 39 columns]\n"
     ]
    }
   ],
   "source": [
    "from sklearn.preprocessing import LabelBinarizer\n",
    "\n",
    "lb = LabelBinarizer()\n",
    "lb_results = lb.fit_transform(parking_ranked_assessment['VIOLATION DESCRIPTION'])\n",
    "lb_results_df = pd.DataFrame(lb_results, columns=lb.classes_)\n",
    "\n",
    "print(lb_results_df.head())"
   ]
  },
  {
   "cell_type": "code",
   "execution_count": 0,
   "metadata": {
    "colab": {
     "base_uri": "https://localhost:8080/",
     "height": 153
    },
    "colab_type": "code",
    "id": "gfJZge_sgnxD",
    "outputId": "90c13ba6-d509-4a8b-dbae-f5055064156e"
   },
   "outputs": [
    {
     "name": "stdout",
     "output_type": "stream",
     "text": [
      "  SUMMONS NUMBER  ...  VEHICLE PARKED ON UNPAVED PORTION OR\n",
      "0       X2308148  ...                                     0\n",
      "1       X2308149  ...                                     0\n",
      "2       X2308151  ...                                     0\n",
      "3       X2308152  ...                                     0\n",
      "4       X2308153  ...                                     0\n",
      "\n",
      "[5 rows x 59 columns]\n"
     ]
    }
   ],
   "source": [
    "parking_final_assessment = pd.concat([parking_ranked_assessment, lb_results_df], axis=1)\n",
    "\n",
    "print(parking_final_assessment.head())"
   ]
  },
  {
   "cell_type": "code",
   "execution_count": 0,
   "metadata": {
    "colab": {},
    "colab_type": "code",
    "id": "lu1_XCuAgtdz"
   },
   "outputs": [],
   "source": [
    "feature_cols =['SUMMONS DATE','ALTERNATE PARKING',\n",
    "       'BLOCKED DRIVEWAY (ALL)',\n",
    "       'BUS RT. NO PARKING 1:30 TO 7:00 AM 11/15-4/1', 'DOUBLE PARKING',\n",
    "       'EXPIRED INSPECTION STICKER (ALL)', 'EXPIRED REGISTRATION STICKER',\n",
    "       'LESS THAN 20 FT FROM CROSSWALK', 'LOADING ZONE', 'METER OVERTIME',\n",
    "       'METHOD OF PARKING(ALL)', 'NO INSPECTIONS STICKER (ALL)',\n",
    "       'NO PARK COMMERICAL TRCK ON RESIDENTIAL', 'NO PARKING',\n",
    "       'NO PARKING OF HOUSE TRAILERS (ALL)', 'NO REGISTRATION STICKER (ALL)',\n",
    "       'NO REPAIRS IN STREET EXCEPT EMERGENCY', 'NO STANDING',\n",
    "       'NO STOPPING (ALL)', 'NO VIOLATION', 'ONE LICENSE PLATE MISSING (ALL)',\n",
    "       'PARKED BEYOND POSTED TIME LIMIT', 'PARKED IN HANDICAPPED AREA',\n",
    "       'PARKED LESS THAN 15 FT - FIRE HYDRANT',\n",
    "       'PARKED MORE THAN 12\"FROM CURB', 'PARKED MORE THAN 72 HRS. SAME SPOT',\n",
    "       'PARKED ON BRIDGE OR IN SUBWAY', 'PARKED ON SIDEWALK (ALL)',\n",
    "       'PARKED OVER 18 FT FOR MORE THAN ONE',\n",
    "       'PARKING IN WRONG DIRECTION (ALL)',\n",
    "       'PARKING ON DIVIDED HWYS PROHIBITED',\n",
    "       'PARKING PROHIBITED IN CONSTRUCTION SITES', 'PARKING VIOLATION',\n",
    "       'PARKING WITHOUT CONSENT (ALL)', 'PERSISTEN VIOLATORS AND SCOFFLAWS',\n",
    "       'SWITCHED PLATES (ALL)', 'UNKNOWN VIOLATION',\n",
    "       'UNREGISTERED VEH.ON PRIVATE PROPERTY',\n",
    "       'VEHICLE BLOCKING HANDICAP CURB CUT',\n",
    "       'VEHICLE PARKED ON UNPAVED PORTION OR']"
   ]
  },
  {
   "cell_type": "code",
   "execution_count": 0,
   "metadata": {
    "colab": {},
    "colab_type": "code",
    "id": "fkLHXJnThPoa"
   },
   "outputs": [],
   "source": [
    " parking_final_assessment['Rank'].fillna((parking_final_assessment['Rank'].mean()),inplace=True)"
   ]
  },
  {
   "cell_type": "code",
   "execution_count": 0,
   "metadata": {
    "colab": {},
    "colab_type": "code",
    "id": "xb4TpJaNhYPp"
   },
   "outputs": [],
   "source": [
    "X = parking_final_assessment[feature_cols] # Features\n",
    "y = parking_final_assessment.Rank"
   ]
  },
  {
   "cell_type": "code",
   "execution_count": 0,
   "metadata": {
    "colab": {},
    "colab_type": "code",
    "id": "RXASYclVho7E"
   },
   "outputs": [],
   "source": [
    "X_train, X_test, y_train, y_test = train_test_split(X, y, test_size=0.3, random_state=1)"
   ]
  },
  {
   "cell_type": "code",
   "execution_count": 0,
   "metadata": {
    "colab": {},
    "colab_type": "code",
    "id": "2f18OQDbhynl"
   },
   "outputs": [],
   "source": [
    "from sklearn.ensemble import RandomForestRegressor\n",
    "\n",
    "regressor = RandomForestRegressor(n_estimators=20, random_state=0)\n",
    "regressor.fit(X_train, y_train)\n",
    "y_pred = regressor.predict(X_test)"
   ]
  },
  {
   "cell_type": "code",
   "execution_count": 0,
   "metadata": {
    "colab": {
     "base_uri": "https://localhost:8080/",
     "height": 419
    },
    "colab_type": "code",
    "id": "vUZgpzQrh3cd",
    "outputId": "1b04b0af-517d-4efb-b968-08c1b09e35ef"
   },
   "outputs": [
    {
     "data": {
      "text/html": [
       "<div>\n",
       "<style scoped>\n",
       "    .dataframe tbody tr th:only-of-type {\n",
       "        vertical-align: middle;\n",
       "    }\n",
       "\n",
       "    .dataframe tbody tr th {\n",
       "        vertical-align: top;\n",
       "    }\n",
       "\n",
       "    .dataframe thead th {\n",
       "        text-align: right;\n",
       "    }\n",
       "</style>\n",
       "<table border=\"1\" class=\"dataframe\">\n",
       "  <thead>\n",
       "    <tr style=\"text-align: right;\">\n",
       "      <th></th>\n",
       "      <th>Actual</th>\n",
       "      <th>Predicted</th>\n",
       "    </tr>\n",
       "  </thead>\n",
       "  <tbody>\n",
       "    <tr>\n",
       "      <th>284683</th>\n",
       "      <td>2</td>\n",
       "      <td>28.166680</td>\n",
       "    </tr>\n",
       "    <tr>\n",
       "      <th>1219255</th>\n",
       "      <td>34</td>\n",
       "      <td>30.928944</td>\n",
       "    </tr>\n",
       "    <tr>\n",
       "      <th>399622</th>\n",
       "      <td>7</td>\n",
       "      <td>14.971995</td>\n",
       "    </tr>\n",
       "    <tr>\n",
       "      <th>1388856</th>\n",
       "      <td>4</td>\n",
       "      <td>12.688517</td>\n",
       "    </tr>\n",
       "    <tr>\n",
       "      <th>1582979</th>\n",
       "      <td>13</td>\n",
       "      <td>26.921618</td>\n",
       "    </tr>\n",
       "    <tr>\n",
       "      <th>...</th>\n",
       "      <td>...</td>\n",
       "      <td>...</td>\n",
       "    </tr>\n",
       "    <tr>\n",
       "      <th>586926</th>\n",
       "      <td>3</td>\n",
       "      <td>26.921618</td>\n",
       "    </tr>\n",
       "    <tr>\n",
       "      <th>1757866</th>\n",
       "      <td>14</td>\n",
       "      <td>30.988432</td>\n",
       "    </tr>\n",
       "    <tr>\n",
       "      <th>211580</th>\n",
       "      <td>2</td>\n",
       "      <td>27.939208</td>\n",
       "    </tr>\n",
       "    <tr>\n",
       "      <th>90944</th>\n",
       "      <td>2</td>\n",
       "      <td>12.688517</td>\n",
       "    </tr>\n",
       "    <tr>\n",
       "      <th>745291</th>\n",
       "      <td>20</td>\n",
       "      <td>25.789809</td>\n",
       "    </tr>\n",
       "  </tbody>\n",
       "</table>\n",
       "<p>632984 rows × 2 columns</p>\n",
       "</div>"
      ],
      "text/plain": [
       "         Actual  Predicted\n",
       "284683        2  28.166680\n",
       "1219255      34  30.928944\n",
       "399622        7  14.971995\n",
       "1388856       4  12.688517\n",
       "1582979      13  26.921618\n",
       "...         ...        ...\n",
       "586926        3  26.921618\n",
       "1757866      14  30.988432\n",
       "211580        2  27.939208\n",
       "90944         2  12.688517\n",
       "745291       20  25.789809\n",
       "\n",
       "[632984 rows x 2 columns]"
      ]
     },
     "execution_count": 54,
     "metadata": {
      "tags": []
     },
     "output_type": "execute_result"
    }
   ],
   "source": [
    "df=pd.DataFrame({'Actual':y_test, 'Predicted':y_pred,})\n",
    "df"
   ]
  },
  {
   "cell_type": "code",
   "execution_count": 0,
   "metadata": {
    "colab": {
     "base_uri": "https://localhost:8080/",
     "height": 68
    },
    "colab_type": "code",
    "id": "KjmvG7ruiHbH",
    "outputId": "28638e35-beea-48e3-8479-fa794e738193"
   },
   "outputs": [
    {
     "name": "stdout",
     "output_type": "stream",
     "text": [
      "Mean Absolute Error: 16.239564983192004\n",
      "Mean Squared Error: 411.4642491927575\n",
      "Root Mean Squared Error: 20.28458156316658\n"
     ]
    }
   ],
   "source": [
    "from sklearn import metrics\n",
    "\n",
    "print('Mean Absolute Error:', metrics.mean_absolute_error(y_test, y_pred))\n",
    "print('Mean Squared Error:', metrics.mean_squared_error(y_test, y_pred))\n",
    "print('Root Mean Squared Error:', np.sqrt(metrics.mean_squared_error(y_test, y_pred)))"
   ]
  },
  {
   "cell_type": "code",
   "execution_count": 0,
   "metadata": {
    "colab": {},
    "colab_type": "code",
    "id": "yjophrZBHauZ"
   },
   "outputs": [],
   "source": [
    "regressor = GradientBoostingRegressor(\n",
    "    max_depth=2,\n",
    "    n_estimators=3,\n",
    "    learning_rate=1.0\n",
    ")"
   ]
  },
  {
   "cell_type": "code",
   "execution_count": 0,
   "metadata": {
    "colab": {
     "base_uri": "https://localhost:8080/",
     "height": 170
    },
    "colab_type": "code",
    "id": "VLm1z1hUKOrf",
    "outputId": "90129efa-d057-41e2-e0b0-404d02e3200f"
   },
   "outputs": [
    {
     "data": {
      "text/plain": [
       "GradientBoostingRegressor(alpha=0.9, criterion='friedman_mse', init=None,\n",
       "                          learning_rate=1.0, loss='ls', max_depth=2,\n",
       "                          max_features=None, max_leaf_nodes=None,\n",
       "                          min_impurity_decrease=0.0, min_impurity_split=None,\n",
       "                          min_samples_leaf=1, min_samples_split=2,\n",
       "                          min_weight_fraction_leaf=0.0, n_estimators=3,\n",
       "                          n_iter_no_change=None, presort='auto',\n",
       "                          random_state=None, subsample=1.0, tol=0.0001,\n",
       "                          validation_fraction=0.1, verbose=0, warm_start=False)"
      ]
     },
     "execution_count": 57,
     "metadata": {
      "tags": []
     },
     "output_type": "execute_result"
    }
   ],
   "source": [
    "regressor.fit(X_train, y_train)"
   ]
  },
  {
   "cell_type": "code",
   "execution_count": 0,
   "metadata": {
    "colab": {},
    "colab_type": "code",
    "id": "COODEJR7MgJo"
   },
   "outputs": [],
   "source": [
    "from sklearn.metrics import mean_squared_error\n",
    "errors = [mean_squared_error(y_test, y_pred) for y_pred in regressor.staged_predict(X_test)]\n",
    "best_n_estimators = np.argmin(errors)"
   ]
  },
  {
   "cell_type": "code",
   "execution_count": 0,
   "metadata": {
    "colab": {
     "base_uri": "https://localhost:8080/",
     "height": 170
    },
    "colab_type": "code",
    "id": "rL5QMwOVMtiU",
    "outputId": "8ccdb727-3a29-4a63-bfbd-3207a8b4173e"
   },
   "outputs": [
    {
     "data": {
      "text/plain": [
       "GradientBoostingRegressor(alpha=0.9, criterion='friedman_mse', init=None,\n",
       "                          learning_rate=1.0, loss='ls', max_depth=2,\n",
       "                          max_features=None, max_leaf_nodes=None,\n",
       "                          min_impurity_decrease=0.0, min_impurity_split=None,\n",
       "                          min_samples_leaf=1, min_samples_split=2,\n",
       "                          min_weight_fraction_leaf=0.0, n_estimators=2,\n",
       "                          n_iter_no_change=None, presort='auto',\n",
       "                          random_state=None, subsample=1.0, tol=0.0001,\n",
       "                          validation_fraction=0.1, verbose=0, warm_start=False)"
      ]
     },
     "execution_count": 60,
     "metadata": {
      "tags": []
     },
     "output_type": "execute_result"
    }
   ],
   "source": [
    "best_regressor = GradientBoostingRegressor(\n",
    "    max_depth=2,\n",
    "    n_estimators=best_n_estimators,\n",
    "    learning_rate=1.0\n",
    ")\n",
    "best_regressor.fit(X_train, y_train)"
   ]
  },
  {
   "cell_type": "code",
   "execution_count": 0,
   "metadata": {
    "colab": {
     "base_uri": "https://localhost:8080/",
     "height": 34
    },
    "colab_type": "code",
    "id": "PxgT_JDVNAkb",
    "outputId": "32d76f87-84ce-4319-8e50-2057c7c5ba27"
   },
   "outputs": [
    {
     "data": {
      "text/plain": [
       "16.587552122931434"
      ]
     },
     "execution_count": 62,
     "metadata": {
      "tags": []
     },
     "output_type": "execute_result"
    }
   ],
   "source": [
    "from sklearn.metrics import mean_absolute_error\n",
    "y_pred = best_regressor.predict(X_test)\n",
    "mean_absolute_error(y_test, y_pred)"
   ]
  },
  {
   "cell_type": "code",
   "execution_count": 0,
   "metadata": {
    "colab": {},
    "colab_type": "code",
    "id": "zvJCkVx-NGBa"
   },
   "outputs": [],
   "source": []
  }
 ],
 "metadata": {
  "accelerator": "GPU",
  "colab": {
   "collapsed_sections": [],
   "machine_shape": "hm",
   "name": "Neighbourhood Project.ipynb",
   "provenance": []
  },
  "kernelspec": {
   "display_name": "Python 3",
   "language": "python",
   "name": "python3"
  },
  "language_info": {
   "codemirror_mode": {
    "name": "ipython",
    "version": 3
   },
   "file_extension": ".py",
   "mimetype": "text/x-python",
   "name": "python",
   "nbconvert_exporter": "python",
   "pygments_lexer": "ipython3",
   "version": "3.7.1"
  }
 },
 "nbformat": 4,
 "nbformat_minor": 1
}
