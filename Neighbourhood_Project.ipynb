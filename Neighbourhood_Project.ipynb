{
  "nbformat": 4,
  "nbformat_minor": 0,
  "metadata": {
    "kernelspec": {
      "name": "python3",
      "display_name": "Python 3"
    },
    "language_info": {
      "codemirror_mode": {
        "name": "ipython",
        "version": 3
      },
      "file_extension": ".py",
      "mimetype": "text/x-python",
      "name": "python",
      "nbconvert_exporter": "python",
      "pygments_lexer": "ipython3",
      "version": "3.7.3"
    },
    "colab": {
      "name": "Neighbourhood Project.ipynb",
      "provenance": [],
      "collapsed_sections": [],
      "machine_shape": "hm",
      "include_colab_link": true
    },
    "accelerator": "GPU"
  },
  "cells": [
    {
      "cell_type": "markdown",
      "metadata": {
        "id": "view-in-github",
        "colab_type": "text"
      },
      "source": [
        "<a href=\"https://colab.research.google.com/github/nithinreganti/Neighnourhood-Ranking---Third-Estate-Analytics-Buffalo-NY---Capstone-Project/blob/master/Neighbourhood_Project.ipynb\" target=\"_parent\"><img src=\"https://colab.research.google.com/assets/colab-badge.svg\" alt=\"Open In Colab\"/></a>"
      ]
    },
    {
      "cell_type": "code",
      "metadata": {
        "id": "qNNxsrJagknN",
        "colab_type": "code",
        "colab": {}
      },
      "source": [
        "import pandas as pd\n",
        "import numpy as np\n",
        "import pandas as pd\n",
        "import seaborn as sns\n",
        "import matplotlib.pyplot as plt\n",
        "from scipy import stats\n",
        "from sklearn.tree import DecisionTreeClassifier # Import Decision Tree Classifier\n",
        "from sklearn.model_selection import train_test_split # Import train_test_split function\n",
        "from sklearn import metrics #Import scikit-learn metrics module for accuracy calculation"
      ],
      "execution_count": 0,
      "outputs": []
    },
    {
      "cell_type": "code",
      "metadata": {
        "id": "6gwc0cJDTAcM",
        "colab_type": "code",
        "outputId": "418cc4a2-1210-4265-c361-233acb0fbf6b",
        "colab": {
          "base_uri": "https://localhost:8080/",
          "height": 34
        }
      },
      "source": [
        "from google.colab import drive\n",
        "drive.mount('/content/drive')"
      ],
      "execution_count": 0,
      "outputs": [
        {
          "output_type": "stream",
          "text": [
            "Drive already mounted at /content/drive; to attempt to forcibly remount, call drive.mount(\"/content/drive\", force_remount=True).\n"
          ],
          "name": "stdout"
        }
      ]
    },
    {
      "cell_type": "code",
      "metadata": {
        "id": "1HmkZT3dhBHr",
        "colab_type": "code",
        "outputId": "353c89ec-4078-4d53-b06a-c1dd2089be5a",
        "colab": {
          "base_uri": "https://localhost:8080/",
          "height": 80
        }
      },
      "source": [
        "import tensorflow as tf \n",
        "tf.test.gpu_device_name()"
      ],
      "execution_count": 0,
      "outputs": [
        {
          "output_type": "display_data",
          "data": {
            "text/html": [
              "<p style=\"color: red;\">\n",
              "The default version of TensorFlow in Colab will soon switch to TensorFlow 2.x.<br>\n",
              "We recommend you <a href=\"https://www.tensorflow.org/guide/migrate\" target=\"_blank\">upgrade</a> now \n",
              "or ensure your notebook will continue to use TensorFlow 1.x via the <code>%tensorflow_version 1.x</code> magic:\n",
              "<a href=\"https://colab.research.google.com/notebooks/tensorflow_version.ipynb\" target=\"_blank\">more info</a>.</p>\n"
            ],
            "text/plain": [
              "<IPython.core.display.HTML object>"
            ]
          },
          "metadata": {
            "tags": []
          }
        },
        {
          "output_type": "execute_result",
          "data": {
            "text/plain": [
              "'/device:GPU:0'"
            ]
          },
          "metadata": {
            "tags": []
          },
          "execution_count": 4
        }
      ]
    },
    {
      "cell_type": "code",
      "metadata": {
        "id": "GTi8HpfvgkqP",
        "colab_type": "code",
        "outputId": "8a0342b2-45fa-4ab9-cc45-809be29d8e5d",
        "colab": {
          "base_uri": "https://localhost:8080/",
          "height": 71
        }
      },
      "source": [
        "parking_summonses=pd.read_csv('/content/drive/My Drive/Gentrification/Parking_Summonses .csv')"
      ],
      "execution_count": 0,
      "outputs": [
        {
          "output_type": "stream",
          "text": [
            "/usr/local/lib/python3.6/dist-packages/IPython/core/interactiveshell.py:2718: DtypeWarning: Columns (0,15,16,17) have mixed types. Specify dtype option on import or set low_memory=False.\n",
            "  interactivity=interactivity, compiler=compiler, result=result)\n"
          ],
          "name": "stderr"
        }
      ]
    },
    {
      "cell_type": "code",
      "metadata": {
        "id": "9qjzgfh9Eh6n",
        "colab_type": "code",
        "outputId": "c08c9eda-6b41-4925-aada-b63e3db5df6d",
        "colab": {
          "base_uri": "https://localhost:8080/",
          "height": 221
        }
      },
      "source": [
        "parking_summonses['CENSUS TRACT'].value_counts()"
      ],
      "execution_count": 0,
      "outputs": [
        {
          "output_type": "execute_result",
          "data": {
            "text/plain": [
              "165      222531\n",
              "165.0    102745\n",
              "68       101603\n",
              "169       60707\n",
              "63.01     54966\n",
              "          ...  \n",
              "44.02       552\n",
              "46.02       199\n",
              "46.02        55\n",
              "62.01        19\n",
              "62.01        12\n",
              "Name: CENSUS TRACT, Length: 159, dtype: int64"
            ]
          },
          "metadata": {
            "tags": []
          },
          "execution_count": 6
        }
      ]
    },
    {
      "cell_type": "code",
      "metadata": {
        "id": "CaDgUTDKFRa5",
        "colab_type": "code",
        "outputId": "f5e9fc3f-af20-476e-d15c-3bacf4db5462",
        "colab": {
          "base_uri": "https://localhost:8080/",
          "height": 34
        }
      },
      "source": [
        "parking_summonses.shape"
      ],
      "execution_count": 0,
      "outputs": [
        {
          "output_type": "execute_result",
          "data": {
            "text/plain": [
              "(2155859, 18)"
            ]
          },
          "metadata": {
            "tags": []
          },
          "execution_count": 7
        }
      ]
    },
    {
      "cell_type": "code",
      "metadata": {
        "id": "XLhUg4V9gkqT",
        "colab_type": "code",
        "colab": {}
      },
      "source": [
        "tracts_data=pd.read_csv('/content/drive/My Drive/Gentrification/NEighborhoods and tracts.csv')"
      ],
      "execution_count": 0,
      "outputs": []
    },
    {
      "cell_type": "code",
      "metadata": {
        "id": "QYmC2WO_GRac",
        "colab_type": "code",
        "colab": {}
      },
      "source": [
        "parking_summonses['CENSUS TRACT'] = pd.to_numeric(parking_summonses['CENSUS TRACT'], errors='coerce')\n",
        "parking_summonses = parking_summonses.dropna(subset=['CENSUS TRACT'])\n",
        "parking_summonses['CENSUS TRACT']=parking_summonses['CENSUS TRACT'].astype(float)"
      ],
      "execution_count": 0,
      "outputs": []
    },
    {
      "cell_type": "code",
      "metadata": {
        "id": "NiWA5STXGiKr",
        "colab_type": "code",
        "colab": {}
      },
      "source": [
        "tracts_data['CENSUS TRACT'] = pd.to_numeric(tracts_data['CENSUS TRACT'], errors='coerce')\n",
        "tracts_data = tracts_data.dropna(subset=['CENSUS TRACT'])\n",
        "tracts_data['CENSUS TRACT']=tracts_data['CENSUS TRACT'].astype(float)"
      ],
      "execution_count": 0,
      "outputs": []
    },
    {
      "cell_type": "code",
      "metadata": {
        "id": "aCDTfIsMJCzE",
        "colab_type": "code",
        "colab": {}
      },
      "source": [
        "score=pd.read_excel('/content/drive/My Drive/Gentrification/Walkscore_final.xlsx')"
      ],
      "execution_count": 0,
      "outputs": []
    },
    {
      "cell_type": "code",
      "metadata": {
        "id": "j39X2m1Kk1xK",
        "colab_type": "code",
        "outputId": "362a0d86-3ae3-46ea-8b90-f58d0bbda3d8",
        "colab": {
          "base_uri": "https://localhost:8080/",
          "height": 68
        }
      },
      "source": [
        "score.columns"
      ],
      "execution_count": 0,
      "outputs": [
        {
          "output_type": "execute_result",
          "data": {
            "text/plain": [
              "Index(['NEIGHBORHOOD', 'WALKSCORE', 'RANK', 'GENTRIFICATION SCORE',\n",
              "       'CLASSIFCATION ', 'CLASS'],\n",
              "      dtype='object')"
            ]
          },
          "metadata": {
            "tags": []
          },
          "execution_count": 12
        }
      ]
    },
    {
      "cell_type": "code",
      "metadata": {
        "id": "jGUvyXPWGkiu",
        "colab_type": "code",
        "colab": {}
      },
      "source": [
        "final=parking_summonses.merge(tracts_data,on='CENSUS TRACT')"
      ],
      "execution_count": 0,
      "outputs": []
    },
    {
      "cell_type": "code",
      "metadata": {
        "id": "izumuL9VHWDe",
        "colab_type": "code",
        "colab": {}
      },
      "source": [
        "parking_final_1=final.merge(score,on='NEIGHBORHOOD')"
      ],
      "execution_count": 0,
      "outputs": []
    },
    {
      "cell_type": "code",
      "metadata": {
        "id": "csrR1pHOJmZl",
        "colab_type": "code",
        "outputId": "2dfb4e97-cdf1-4975-ee6a-bb5a75c8d215",
        "colab": {
          "base_uri": "https://localhost:8080/",
          "height": 377
        }
      },
      "source": [
        "parking_final_1.head()"
      ],
      "execution_count": 0,
      "outputs": [
        {
          "output_type": "execute_result",
          "data": {
            "text/html": [
              "<div>\n",
              "<style scoped>\n",
              "    .dataframe tbody tr th:only-of-type {\n",
              "        vertical-align: middle;\n",
              "    }\n",
              "\n",
              "    .dataframe tbody tr th {\n",
              "        vertical-align: top;\n",
              "    }\n",
              "\n",
              "    .dataframe thead th {\n",
              "        text-align: right;\n",
              "    }\n",
              "</style>\n",
              "<table border=\"1\" class=\"dataframe\">\n",
              "  <thead>\n",
              "    <tr style=\"text-align: right;\">\n",
              "      <th></th>\n",
              "      <th>SUMMONS NUMBER</th>\n",
              "      <th>SUMMONS DATE</th>\n",
              "      <th>VIOLATION TIME</th>\n",
              "      <th>VIOLATION DESCRIPTION</th>\n",
              "      <th>ORIGINAL FINE</th>\n",
              "      <th>VIOLATION ADDRESS NUMBER</th>\n",
              "      <th>VIOLATION STREET</th>\n",
              "      <th>VIOLATION FULL ADDRESS</th>\n",
              "      <th>CITY</th>\n",
              "      <th>STATE</th>\n",
              "      <th>LATITUDE</th>\n",
              "      <th>LONGITUDE</th>\n",
              "      <th>LOCATION</th>\n",
              "      <th>COUNCIL DISTRICT</th>\n",
              "      <th>POLICE DISTRICT</th>\n",
              "      <th>CENSUS TRACT</th>\n",
              "      <th>CENSUS BLOCK GROUP</th>\n",
              "      <th>CENSUS BLOCK</th>\n",
              "      <th>NEIGHBORHOOD</th>\n",
              "      <th>WALKSCORE</th>\n",
              "      <th>RANK</th>\n",
              "      <th>GENTRIFICATION SCORE</th>\n",
              "      <th>CLASSIFCATION</th>\n",
              "      <th>CLASS</th>\n",
              "    </tr>\n",
              "  </thead>\n",
              "  <tbody>\n",
              "    <tr>\n",
              "      <th>0</th>\n",
              "      <td>X2308148</td>\n",
              "      <td>08/02/2019</td>\n",
              "      <td>0125P</td>\n",
              "      <td>PARKING VIOLATION</td>\n",
              "      <td>40.0</td>\n",
              "      <td>175.0</td>\n",
              "      <td>FRANKLIN</td>\n",
              "      <td>175 FRANKLIN</td>\n",
              "      <td>Buffalo</td>\n",
              "      <td>NY</td>\n",
              "      <td>42.888195</td>\n",
              "      <td>-78.875835</td>\n",
              "      <td>(42.8881947942094, -78.87583500193372)</td>\n",
              "      <td>ELLICOTT</td>\n",
              "      <td>District B</td>\n",
              "      <td>165.0</td>\n",
              "      <td>1</td>\n",
              "      <td>1028</td>\n",
              "      <td>Central</td>\n",
              "      <td>55</td>\n",
              "      <td>36</td>\n",
              "      <td>65</td>\n",
              "      <td>25</td>\n",
              "      <td>D</td>\n",
              "    </tr>\n",
              "    <tr>\n",
              "      <th>1</th>\n",
              "      <td>X2308149</td>\n",
              "      <td>08/02/2019</td>\n",
              "      <td>0130P</td>\n",
              "      <td>NO STANDING</td>\n",
              "      <td>40.0</td>\n",
              "      <td>37.0</td>\n",
              "      <td>HURON WEST</td>\n",
              "      <td>37 HURON WEST</td>\n",
              "      <td>Buffalo</td>\n",
              "      <td>NY</td>\n",
              "      <td>42.888948</td>\n",
              "      <td>-78.874872</td>\n",
              "      <td>(42.88894814599496, -78.87487202385579)</td>\n",
              "      <td>ELLICOTT</td>\n",
              "      <td>District B</td>\n",
              "      <td>165.0</td>\n",
              "      <td>1</td>\n",
              "      <td>1022</td>\n",
              "      <td>Central</td>\n",
              "      <td>55</td>\n",
              "      <td>36</td>\n",
              "      <td>65</td>\n",
              "      <td>25</td>\n",
              "      <td>D</td>\n",
              "    </tr>\n",
              "    <tr>\n",
              "      <th>2</th>\n",
              "      <td>X2308151</td>\n",
              "      <td>08/02/2019</td>\n",
              "      <td>0305P</td>\n",
              "      <td>METER OVERTIME</td>\n",
              "      <td>40.0</td>\n",
              "      <td>228.0</td>\n",
              "      <td>FRANKLIN</td>\n",
              "      <td>228 FRANKLIN</td>\n",
              "      <td>Buffalo</td>\n",
              "      <td>NY</td>\n",
              "      <td>42.890040</td>\n",
              "      <td>-78.875395</td>\n",
              "      <td>(42.89003992129964, -78.87539503306608)</td>\n",
              "      <td>ELLICOTT</td>\n",
              "      <td>District B</td>\n",
              "      <td>165.0</td>\n",
              "      <td>1</td>\n",
              "      <td>1023</td>\n",
              "      <td>Central</td>\n",
              "      <td>55</td>\n",
              "      <td>36</td>\n",
              "      <td>65</td>\n",
              "      <td>25</td>\n",
              "      <td>D</td>\n",
              "    </tr>\n",
              "    <tr>\n",
              "      <th>3</th>\n",
              "      <td>X2308152</td>\n",
              "      <td>08/02/2019</td>\n",
              "      <td>0312P</td>\n",
              "      <td>METER OVERTIME</td>\n",
              "      <td>40.0</td>\n",
              "      <td>210.0</td>\n",
              "      <td>FRANKLIN</td>\n",
              "      <td>210 FRANKLIN</td>\n",
              "      <td>Buffalo</td>\n",
              "      <td>NY</td>\n",
              "      <td>42.889319</td>\n",
              "      <td>-78.875628</td>\n",
              "      <td>(42.88931932925486, -78.87562789846032)</td>\n",
              "      <td>ELLICOTT</td>\n",
              "      <td>District B</td>\n",
              "      <td>165.0</td>\n",
              "      <td>1</td>\n",
              "      <td>1023</td>\n",
              "      <td>Central</td>\n",
              "      <td>55</td>\n",
              "      <td>36</td>\n",
              "      <td>65</td>\n",
              "      <td>25</td>\n",
              "      <td>D</td>\n",
              "    </tr>\n",
              "    <tr>\n",
              "      <th>4</th>\n",
              "      <td>X2308153</td>\n",
              "      <td>08/02/2019</td>\n",
              "      <td>0320P</td>\n",
              "      <td>METER OVERTIME</td>\n",
              "      <td>40.0</td>\n",
              "      <td>22.0</td>\n",
              "      <td>SENECA WEST</td>\n",
              "      <td>22 SENECA WEST</td>\n",
              "      <td>Buffalo</td>\n",
              "      <td>NY</td>\n",
              "      <td>42.880596</td>\n",
              "      <td>-78.875566</td>\n",
              "      <td>(42.880595539253534, -78.87556606949188)</td>\n",
              "      <td>FILLMORE</td>\n",
              "      <td>District B</td>\n",
              "      <td>165.0</td>\n",
              "      <td>1</td>\n",
              "      <td>1114</td>\n",
              "      <td>Central</td>\n",
              "      <td>55</td>\n",
              "      <td>36</td>\n",
              "      <td>65</td>\n",
              "      <td>25</td>\n",
              "      <td>D</td>\n",
              "    </tr>\n",
              "  </tbody>\n",
              "</table>\n",
              "</div>"
            ],
            "text/plain": [
              "  SUMMONS NUMBER SUMMONS DATE  ... CLASSIFCATION  CLASS\n",
              "0       X2308148   08/02/2019  ...             25     D\n",
              "1       X2308149   08/02/2019  ...             25     D\n",
              "2       X2308151   08/02/2019  ...             25     D\n",
              "3       X2308152   08/02/2019  ...             25     D\n",
              "4       X2308153   08/02/2019  ...             25     D\n",
              "\n",
              "[5 rows x 24 columns]"
            ]
          },
          "metadata": {
            "tags": []
          },
          "execution_count": 15
        }
      ]
    },
    {
      "cell_type": "code",
      "metadata": {
        "id": "dQOu4sEMDnbt",
        "colab_type": "code",
        "outputId": "617c5c5a-7dea-48bd-c737-7fbf71c291cc",
        "colab": {
          "base_uri": "https://localhost:8080/",
          "height": 629
        }
      },
      "source": [
        "parking_final_1['NEIGHBORHOOD'].value_counts()"
      ],
      "execution_count": 0,
      "outputs": [
        {
          "output_type": "execute_result",
          "data": {
            "text/plain": [
              "Elmwood Bidwell       354553\n",
              "Central               325276\n",
              "Elmwood Bryant        208101\n",
              "Fruit Belt            193712\n",
              "North Park            162378\n",
              "Allentown             153824\n",
              "Broadway Fillmore     131946\n",
              "Lower West Side       120374\n",
              "University Heights     84124\n",
              "Masten Park            81852\n",
              "Seneca-Cazenovia       79536\n",
              "West Side              72960\n",
              "South Park             69489\n",
              "Upper West Side        68069\n",
              "Hamlin Park            67342\n",
              "Parkside               66049\n",
              "Central Park           55958\n",
              "First Ward             46748\n",
              "Kenfield               44992\n",
              "Black Rock             43344\n",
              "Kensington-Bailey      42517\n",
              "Fillmore-Leroy         40713\n",
              "Lovejoy                38723\n",
              "Riverside              38019\n",
              "Genesee-Moselle        31553\n",
              "Schiller Park          28356\n",
              "Hopkins-Tifft          22245\n",
              "Grant-Amherst          21113\n",
              "Seneca Babcock         19906\n",
              "Kaisertown             19769\n",
              "Delavan Grider         18925\n",
              "Pratt-Willert          17163\n",
              "MLK Park               15597\n",
              "Ellicott               15281\n",
              "West Hertel            12140\n",
              "Name: NEIGHBORHOOD, dtype: int64"
            ]
          },
          "metadata": {
            "tags": []
          },
          "execution_count": 16
        }
      ]
    },
    {
      "cell_type": "code",
      "metadata": {
        "id": "BzF3kFF7ELnP",
        "colab_type": "code",
        "outputId": "3605f381-c7b0-41db-9870-0e69655baf55",
        "colab": {
          "base_uri": "https://localhost:8080/",
          "height": 221
        }
      },
      "source": [
        "parking_final_1['CENSUS TRACT'].value_counts()"
      ],
      "execution_count": 0,
      "outputs": [
        {
          "output_type": "execute_result",
          "data": {
            "text/plain": [
              "165.00    325276\n",
              "31.00     252786\n",
              "68.00     153824\n",
              "63.01      98509\n",
              "71.02      92218\n",
              "           ...  \n",
              "28.00       4983\n",
              "14.02       4569\n",
              "29.00       4303\n",
              "15.00       3216\n",
              "39.01       2091\n",
              "Name: CENSUS TRACT, Length: 76, dtype: int64"
            ]
          },
          "metadata": {
            "tags": []
          },
          "execution_count": 17
        }
      ]
    },
    {
      "cell_type": "code",
      "metadata": {
        "id": "YRvFICyNh4-y",
        "colab_type": "code",
        "outputId": "ff110833-cd8e-4588-9b0a-326fce569486",
        "colab": {
          "base_uri": "https://localhost:8080/",
          "height": 711
        }
      },
      "source": [
        "parking_final_1.dropna()"
      ],
      "execution_count": 0,
      "outputs": [
        {
          "output_type": "execute_result",
          "data": {
            "text/html": [
              "<div>\n",
              "<style scoped>\n",
              "    .dataframe tbody tr th:only-of-type {\n",
              "        vertical-align: middle;\n",
              "    }\n",
              "\n",
              "    .dataframe tbody tr th {\n",
              "        vertical-align: top;\n",
              "    }\n",
              "\n",
              "    .dataframe thead th {\n",
              "        text-align: right;\n",
              "    }\n",
              "</style>\n",
              "<table border=\"1\" class=\"dataframe\">\n",
              "  <thead>\n",
              "    <tr style=\"text-align: right;\">\n",
              "      <th></th>\n",
              "      <th>SUMMONS NUMBER</th>\n",
              "      <th>SUMMONS DATE</th>\n",
              "      <th>VIOLATION TIME</th>\n",
              "      <th>VIOLATION DESCRIPTION</th>\n",
              "      <th>ORIGINAL FINE</th>\n",
              "      <th>VIOLATION ADDRESS NUMBER</th>\n",
              "      <th>VIOLATION STREET</th>\n",
              "      <th>VIOLATION FULL ADDRESS</th>\n",
              "      <th>CITY</th>\n",
              "      <th>STATE</th>\n",
              "      <th>LATITUDE</th>\n",
              "      <th>LONGITUDE</th>\n",
              "      <th>LOCATION</th>\n",
              "      <th>COUNCIL DISTRICT</th>\n",
              "      <th>POLICE DISTRICT</th>\n",
              "      <th>CENSUS TRACT</th>\n",
              "      <th>CENSUS BLOCK GROUP</th>\n",
              "      <th>CENSUS BLOCK</th>\n",
              "      <th>NEIGHBORHOOD</th>\n",
              "      <th>WALKSCORE</th>\n",
              "      <th>RANK</th>\n",
              "      <th>GENTRIFICATION SCORE</th>\n",
              "      <th>CLASSIFCATION</th>\n",
              "      <th>CLASS</th>\n",
              "    </tr>\n",
              "  </thead>\n",
              "  <tbody>\n",
              "    <tr>\n",
              "      <th>0</th>\n",
              "      <td>X2308148</td>\n",
              "      <td>08/02/2019</td>\n",
              "      <td>0125P</td>\n",
              "      <td>PARKING VIOLATION</td>\n",
              "      <td>40.0</td>\n",
              "      <td>175.0</td>\n",
              "      <td>FRANKLIN</td>\n",
              "      <td>175 FRANKLIN</td>\n",
              "      <td>Buffalo</td>\n",
              "      <td>NY</td>\n",
              "      <td>42.888195</td>\n",
              "      <td>-78.875835</td>\n",
              "      <td>(42.8881947942094, -78.87583500193372)</td>\n",
              "      <td>ELLICOTT</td>\n",
              "      <td>District B</td>\n",
              "      <td>165.0</td>\n",
              "      <td>1</td>\n",
              "      <td>1028</td>\n",
              "      <td>Central</td>\n",
              "      <td>55</td>\n",
              "      <td>36</td>\n",
              "      <td>65</td>\n",
              "      <td>25</td>\n",
              "      <td>D</td>\n",
              "    </tr>\n",
              "    <tr>\n",
              "      <th>1</th>\n",
              "      <td>X2308149</td>\n",
              "      <td>08/02/2019</td>\n",
              "      <td>0130P</td>\n",
              "      <td>NO STANDING</td>\n",
              "      <td>40.0</td>\n",
              "      <td>37.0</td>\n",
              "      <td>HURON WEST</td>\n",
              "      <td>37 HURON WEST</td>\n",
              "      <td>Buffalo</td>\n",
              "      <td>NY</td>\n",
              "      <td>42.888948</td>\n",
              "      <td>-78.874872</td>\n",
              "      <td>(42.88894814599496, -78.87487202385579)</td>\n",
              "      <td>ELLICOTT</td>\n",
              "      <td>District B</td>\n",
              "      <td>165.0</td>\n",
              "      <td>1</td>\n",
              "      <td>1022</td>\n",
              "      <td>Central</td>\n",
              "      <td>55</td>\n",
              "      <td>36</td>\n",
              "      <td>65</td>\n",
              "      <td>25</td>\n",
              "      <td>D</td>\n",
              "    </tr>\n",
              "    <tr>\n",
              "      <th>2</th>\n",
              "      <td>X2308151</td>\n",
              "      <td>08/02/2019</td>\n",
              "      <td>0305P</td>\n",
              "      <td>METER OVERTIME</td>\n",
              "      <td>40.0</td>\n",
              "      <td>228.0</td>\n",
              "      <td>FRANKLIN</td>\n",
              "      <td>228 FRANKLIN</td>\n",
              "      <td>Buffalo</td>\n",
              "      <td>NY</td>\n",
              "      <td>42.890040</td>\n",
              "      <td>-78.875395</td>\n",
              "      <td>(42.89003992129964, -78.87539503306608)</td>\n",
              "      <td>ELLICOTT</td>\n",
              "      <td>District B</td>\n",
              "      <td>165.0</td>\n",
              "      <td>1</td>\n",
              "      <td>1023</td>\n",
              "      <td>Central</td>\n",
              "      <td>55</td>\n",
              "      <td>36</td>\n",
              "      <td>65</td>\n",
              "      <td>25</td>\n",
              "      <td>D</td>\n",
              "    </tr>\n",
              "    <tr>\n",
              "      <th>3</th>\n",
              "      <td>X2308152</td>\n",
              "      <td>08/02/2019</td>\n",
              "      <td>0312P</td>\n",
              "      <td>METER OVERTIME</td>\n",
              "      <td>40.0</td>\n",
              "      <td>210.0</td>\n",
              "      <td>FRANKLIN</td>\n",
              "      <td>210 FRANKLIN</td>\n",
              "      <td>Buffalo</td>\n",
              "      <td>NY</td>\n",
              "      <td>42.889319</td>\n",
              "      <td>-78.875628</td>\n",
              "      <td>(42.88931932925486, -78.87562789846032)</td>\n",
              "      <td>ELLICOTT</td>\n",
              "      <td>District B</td>\n",
              "      <td>165.0</td>\n",
              "      <td>1</td>\n",
              "      <td>1023</td>\n",
              "      <td>Central</td>\n",
              "      <td>55</td>\n",
              "      <td>36</td>\n",
              "      <td>65</td>\n",
              "      <td>25</td>\n",
              "      <td>D</td>\n",
              "    </tr>\n",
              "    <tr>\n",
              "      <th>4</th>\n",
              "      <td>X2308153</td>\n",
              "      <td>08/02/2019</td>\n",
              "      <td>0320P</td>\n",
              "      <td>METER OVERTIME</td>\n",
              "      <td>40.0</td>\n",
              "      <td>22.0</td>\n",
              "      <td>SENECA WEST</td>\n",
              "      <td>22 SENECA WEST</td>\n",
              "      <td>Buffalo</td>\n",
              "      <td>NY</td>\n",
              "      <td>42.880596</td>\n",
              "      <td>-78.875566</td>\n",
              "      <td>(42.880595539253534, -78.87556606949188)</td>\n",
              "      <td>FILLMORE</td>\n",
              "      <td>District B</td>\n",
              "      <td>165.0</td>\n",
              "      <td>1</td>\n",
              "      <td>1114</td>\n",
              "      <td>Central</td>\n",
              "      <td>55</td>\n",
              "      <td>36</td>\n",
              "      <td>65</td>\n",
              "      <td>25</td>\n",
              "      <td>D</td>\n",
              "    </tr>\n",
              "    <tr>\n",
              "      <th>...</th>\n",
              "      <td>...</td>\n",
              "      <td>...</td>\n",
              "      <td>...</td>\n",
              "      <td>...</td>\n",
              "      <td>...</td>\n",
              "      <td>...</td>\n",
              "      <td>...</td>\n",
              "      <td>...</td>\n",
              "      <td>...</td>\n",
              "      <td>...</td>\n",
              "      <td>...</td>\n",
              "      <td>...</td>\n",
              "      <td>...</td>\n",
              "      <td>...</td>\n",
              "      <td>...</td>\n",
              "      <td>...</td>\n",
              "      <td>...</td>\n",
              "      <td>...</td>\n",
              "      <td>...</td>\n",
              "      <td>...</td>\n",
              "      <td>...</td>\n",
              "      <td>...</td>\n",
              "      <td>...</td>\n",
              "      <td>...</td>\n",
              "    </tr>\n",
              "    <tr>\n",
              "      <th>2812642</th>\n",
              "      <td>Z2222894</td>\n",
              "      <td>01/29/2019</td>\n",
              "      <td>0836A</td>\n",
              "      <td>ALTERNATE PARKING</td>\n",
              "      <td>40.0</td>\n",
              "      <td>36.0</td>\n",
              "      <td>GREELEY</td>\n",
              "      <td>36 GREELEY</td>\n",
              "      <td>Buffalo</td>\n",
              "      <td>NY</td>\n",
              "      <td>42.948733</td>\n",
              "      <td>-78.882463</td>\n",
              "      <td>(42.948732632109, -78.882463304971)</td>\n",
              "      <td>NORTH</td>\n",
              "      <td>District D</td>\n",
              "      <td>56.0</td>\n",
              "      <td>5</td>\n",
              "      <td>5004</td>\n",
              "      <td>West Hertel</td>\n",
              "      <td>73</td>\n",
              "      <td>16</td>\n",
              "      <td>85</td>\n",
              "      <td>75</td>\n",
              "      <td>B</td>\n",
              "    </tr>\n",
              "    <tr>\n",
              "      <th>2812643</th>\n",
              "      <td>Z2222895</td>\n",
              "      <td>01/29/2019</td>\n",
              "      <td>0839A</td>\n",
              "      <td>ALTERNATE PARKING</td>\n",
              "      <td>40.0</td>\n",
              "      <td>55.0</td>\n",
              "      <td>HOLMES</td>\n",
              "      <td>55 HOLMES</td>\n",
              "      <td>Buffalo</td>\n",
              "      <td>NY</td>\n",
              "      <td>42.949007</td>\n",
              "      <td>-78.887397</td>\n",
              "      <td>(42.949006902999, -78.887396920712)</td>\n",
              "      <td>NORTH</td>\n",
              "      <td>District D</td>\n",
              "      <td>56.0</td>\n",
              "      <td>4</td>\n",
              "      <td>4000</td>\n",
              "      <td>West Hertel</td>\n",
              "      <td>73</td>\n",
              "      <td>16</td>\n",
              "      <td>85</td>\n",
              "      <td>75</td>\n",
              "      <td>B</td>\n",
              "    </tr>\n",
              "    <tr>\n",
              "      <th>2812644</th>\n",
              "      <td>Z2239935</td>\n",
              "      <td>03/20/2019</td>\n",
              "      <td>1217P</td>\n",
              "      <td>NO PARKING</td>\n",
              "      <td>40.0</td>\n",
              "      <td>44.0</td>\n",
              "      <td>SAYRE</td>\n",
              "      <td>44 SAYRE</td>\n",
              "      <td>Buffalo</td>\n",
              "      <td>NY</td>\n",
              "      <td>42.947758</td>\n",
              "      <td>-78.893552</td>\n",
              "      <td>(42.94775780857678, -78.89355160442582)</td>\n",
              "      <td>NORTH</td>\n",
              "      <td>District D</td>\n",
              "      <td>56.0</td>\n",
              "      <td>2</td>\n",
              "      <td>2004</td>\n",
              "      <td>West Hertel</td>\n",
              "      <td>73</td>\n",
              "      <td>16</td>\n",
              "      <td>85</td>\n",
              "      <td>75</td>\n",
              "      <td>B</td>\n",
              "    </tr>\n",
              "    <tr>\n",
              "      <th>2812645</th>\n",
              "      <td>Z2248919</td>\n",
              "      <td>03/19/2019</td>\n",
              "      <td>0832A</td>\n",
              "      <td>NO PARKING</td>\n",
              "      <td>40.0</td>\n",
              "      <td>152.0</td>\n",
              "      <td>LAWN</td>\n",
              "      <td>152 LAWN</td>\n",
              "      <td>Buffalo</td>\n",
              "      <td>NY</td>\n",
              "      <td>42.949771</td>\n",
              "      <td>-78.887316</td>\n",
              "      <td>(42.949771006866236, -78.88731610640603)</td>\n",
              "      <td>NORTH</td>\n",
              "      <td>District D</td>\n",
              "      <td>56.0</td>\n",
              "      <td>4</td>\n",
              "      <td>4000</td>\n",
              "      <td>West Hertel</td>\n",
              "      <td>73</td>\n",
              "      <td>16</td>\n",
              "      <td>85</td>\n",
              "      <td>75</td>\n",
              "      <td>B</td>\n",
              "    </tr>\n",
              "    <tr>\n",
              "      <th>2812646</th>\n",
              "      <td>v1108375</td>\n",
              "      <td>02/07/2017</td>\n",
              "      <td>0451P</td>\n",
              "      <td>EXPIRED INSPECTION STICKER (ALL)</td>\n",
              "      <td>40.0</td>\n",
              "      <td>23.0</td>\n",
              "      <td>TUXEDO</td>\n",
              "      <td>23 TUXEDO</td>\n",
              "      <td>Buffalo</td>\n",
              "      <td>NY</td>\n",
              "      <td>42.947492</td>\n",
              "      <td>-78.886319</td>\n",
              "      <td>(42.947491535893, -78.886318867414)</td>\n",
              "      <td>NORTH</td>\n",
              "      <td>District D</td>\n",
              "      <td>56.0</td>\n",
              "      <td>3</td>\n",
              "      <td>3009</td>\n",
              "      <td>West Hertel</td>\n",
              "      <td>73</td>\n",
              "      <td>16</td>\n",
              "      <td>85</td>\n",
              "      <td>75</td>\n",
              "      <td>B</td>\n",
              "    </tr>\n",
              "  </tbody>\n",
              "</table>\n",
              "<p>2811949 rows × 24 columns</p>\n",
              "</div>"
            ],
            "text/plain": [
              "        SUMMONS NUMBER SUMMONS DATE  ... CLASSIFCATION  CLASS\n",
              "0             X2308148   08/02/2019  ...             25     D\n",
              "1             X2308149   08/02/2019  ...             25     D\n",
              "2             X2308151   08/02/2019  ...             25     D\n",
              "3             X2308152   08/02/2019  ...             25     D\n",
              "4             X2308153   08/02/2019  ...             25     D\n",
              "...                ...          ...  ...            ...   ...\n",
              "2812642       Z2222894   01/29/2019  ...             75     B\n",
              "2812643       Z2222895   01/29/2019  ...             75     B\n",
              "2812644       Z2239935   03/20/2019  ...             75     B\n",
              "2812645       Z2248919   03/19/2019  ...             75     B\n",
              "2812646       v1108375   02/07/2017  ...             75     B\n",
              "\n",
              "[2811949 rows x 24 columns]"
            ]
          },
          "metadata": {
            "tags": []
          },
          "execution_count": 18
        }
      ]
    },
    {
      "cell_type": "code",
      "metadata": {
        "id": "ws3axDOWJxqp",
        "colab_type": "code",
        "colab": {}
      },
      "source": [
        "parking_final_1['SUMMONS DATE']=parking_final_1['SUMMONS DATE'].apply(lambda x:x[6] + x[7] +x[8] +x[9]) \n",
        "parking_final_1['SUMMONS DATE']=parking_final_1['SUMMONS DATE'].apply(lambda x:float(x))"
      ],
      "execution_count": 0,
      "outputs": []
    },
    {
      "cell_type": "code",
      "metadata": {
        "id": "X5Atip4347LS",
        "colab_type": "code",
        "outputId": "662e6b9d-c9fd-462b-efed-bef6c9dd0a60",
        "colab": {
          "base_uri": "https://localhost:8080/",
          "height": 71
        }
      },
      "source": [
        "parking_final_1=parking_final_1[parking_final_1['SUMMONS DATE'] != '2019.0']"
      ],
      "execution_count": 0,
      "outputs": [
        {
          "output_type": "stream",
          "text": [
            "/usr/local/lib/python3.6/dist-packages/pandas/core/ops/__init__.py:1115: FutureWarning: elementwise comparison failed; returning scalar instead, but in the future will perform elementwise comparison\n",
            "  result = method(y)\n"
          ],
          "name": "stderr"
        }
      ]
    },
    {
      "cell_type": "code",
      "metadata": {
        "id": "oz2OBCj9VmcN",
        "colab_type": "code",
        "outputId": "ac9beb69-9542-483a-e4a7-2fae2379328e",
        "colab": {
          "base_uri": "https://localhost:8080/",
          "height": 153
        }
      },
      "source": [
        "from sklearn.preprocessing import LabelBinarizer\n",
        "\n",
        "lb = LabelBinarizer()\n",
        "lb_results = lb.fit_transform(parking_final_1['VIOLATION DESCRIPTION'])\n",
        "lb_results_df = pd.DataFrame(lb_results, columns=lb.classes_)\n",
        "\n",
        "print(lb_results_df.head())"
      ],
      "execution_count": 0,
      "outputs": [
        {
          "output_type": "stream",
          "text": [
            "   ALTERNATE PARKING  ...  VEHICLE PARKED ON UNPAVED PORTION OR\n",
            "0                  0  ...                                     0\n",
            "1                  0  ...                                     0\n",
            "2                  0  ...                                     0\n",
            "3                  0  ...                                     0\n",
            "4                  0  ...                                     0\n",
            "\n",
            "[5 rows x 39 columns]\n"
          ],
          "name": "stdout"
        }
      ]
    },
    {
      "cell_type": "code",
      "metadata": {
        "colab_type": "code",
        "id": "tUZM8ai2Z8ya",
        "outputId": "1aee2622-08a2-4cc3-c859-ffa0bcf7ea2f",
        "colab": {
          "base_uri": "https://localhost:8080/",
          "height": 153
        }
      },
      "source": [
        "parking_final2 = pd.concat([parking_final_1, lb_results_df], axis=1)\n",
        "\n",
        "print(parking_final2.head())"
      ],
      "execution_count": 0,
      "outputs": [
        {
          "output_type": "stream",
          "text": [
            "  SUMMONS NUMBER  ...  VEHICLE PARKED ON UNPAVED PORTION OR\n",
            "0       X2308148  ...                                     0\n",
            "1       X2308149  ...                                     0\n",
            "2       X2308151  ...                                     0\n",
            "3       X2308152  ...                                     0\n",
            "4       X2308153  ...                                     0\n",
            "\n",
            "[5 rows x 63 columns]\n"
          ],
          "name": "stdout"
        }
      ]
    },
    {
      "cell_type": "code",
      "metadata": {
        "id": "VHIw8iKZ_4iY",
        "colab_type": "code",
        "outputId": "5f617053-d79b-4cd6-8f45-2c50133bd4e4",
        "colab": {
          "base_uri": "https://localhost:8080/",
          "height": 153
        }
      },
      "source": [
        "\n",
        "lb = LabelBinarizer()\n",
        "lb_results1 = lb.fit_transform(parking_final2['SUMMONS DATE'])\n",
        "lb_results_df1 = pd.DataFrame(lb_results1, columns=lb.classes_)\n",
        "\n",
        "print(lb_results_df.head())"
      ],
      "execution_count": 0,
      "outputs": [
        {
          "output_type": "stream",
          "text": [
            "   ALTERNATE PARKING  ...  VEHICLE PARKED ON UNPAVED PORTION OR\n",
            "0                  0  ...                                     0\n",
            "1                  0  ...                                     0\n",
            "2                  0  ...                                     0\n",
            "3                  0  ...                                     0\n",
            "4                  0  ...                                     0\n",
            "\n",
            "[5 rows x 39 columns]\n"
          ],
          "name": "stdout"
        }
      ]
    },
    {
      "cell_type": "code",
      "metadata": {
        "id": "-kCE3-jnAPO7",
        "colab_type": "code",
        "outputId": "dfd1e69b-7b9b-490c-feef-5af320528ae3",
        "colab": {
          "base_uri": "https://localhost:8080/",
          "height": 153
        }
      },
      "source": [
        "parking_final = pd.concat([parking_final2, lb_results_df1], axis=1)\n",
        "\n",
        "print(parking_final.head())"
      ],
      "execution_count": 0,
      "outputs": [
        {
          "output_type": "stream",
          "text": [
            "  SUMMONS NUMBER  SUMMONS DATE VIOLATION TIME  ... 2017.0  2018.0  2019.0\n",
            "0       X2308148        2019.0          0125P  ...      0       0       1\n",
            "1       X2308149        2019.0          0130P  ...      0       0       1\n",
            "2       X2308151        2019.0          0305P  ...      0       0       1\n",
            "3       X2308152        2019.0          0312P  ...      0       0       1\n",
            "4       X2308153        2019.0          0320P  ...      0       0       1\n",
            "\n",
            "[5 rows x 76 columns]\n"
          ],
          "name": "stdout"
        }
      ]
    },
    {
      "cell_type": "code",
      "metadata": {
        "id": "jmvOv-59YIe0",
        "colab_type": "code",
        "colab": {}
      },
      "source": [
        " parking_final['RANK'].fillna((parking_final['RANK'].mean()),inplace=True)"
      ],
      "execution_count": 0,
      "outputs": []
    },
    {
      "cell_type": "code",
      "metadata": {
        "id": "4URCj2JVF7IL",
        "colab_type": "code",
        "colab": {}
      },
      "source": [
        "feature_cols=['ALTERNATE PARKING',\n",
        "                             'BLOCKED DRIVEWAY (ALL)',\n",
        "       'BUS RT. NO PARKING 1:30 TO 7:00 AM 11/15-4/1',\n",
        "                                     'DOUBLE PARKING',\n",
        "                   'EXPIRED INSPECTION STICKER (ALL)',\n",
        "                       'EXPIRED REGISTRATION STICKER',\n",
        "                     'LESS THAN 20 FT FROM CROSSWALK',\n",
        "                                       'LOADING ZONE',\n",
        "                                     'METER OVERTIME',\n",
        "                             'METHOD OF PARKING(ALL)',\n",
        "                       'NO INSPECTIONS STICKER (ALL)',\n",
        "             'NO PARK COMMERICAL TRCK ON RESIDENTIAL',\n",
        "                                         'NO PARKING',\n",
        "                 'NO PARKING OF HOUSE TRAILERS (ALL)',\n",
        "                      'NO REGISTRATION STICKER (ALL)',\n",
        "              'NO REPAIRS IN STREET EXCEPT EMERGENCY',\n",
        "                                        'NO STANDING',\n",
        "                                  'NO STOPPING (ALL)',\n",
        "                                       'NO VIOLATION',\n",
        "                    'ONE LICENSE PLATE MISSING (ALL)',\n",
        "                    'PARKED BEYOND POSTED TIME LIMIT',\n",
        "                         'PARKED IN HANDICAPPED AREA',\n",
        "              'PARKED LESS THAN 15 FT - FIRE HYDRANT',\n",
        "                      'PARKED MORE THAN 12\"FROM CURB',\n",
        "                 'PARKED MORE THAN 72 HRS. SAME SPOT',\n",
        "                      'PARKED ON BRIDGE OR IN SUBWAY',\n",
        "                           'PARKED ON SIDEWALK (ALL)',\n",
        "                'PARKED OVER 18 FT FOR MORE THAN ONE',\n",
        "                   'PARKING IN WRONG DIRECTION (ALL)',\n",
        "                 'PARKING ON DIVIDED HWYS PROHIBITED',\n",
        "           'PARKING PROHIBITED IN CONSTRUCTION SITES',\n",
        "                                  'PARKING VIOLATION',\n",
        "                      'PARKING WITHOUT CONSENT (ALL)',\n",
        "                  'PERSISTEN VIOLATORS AND SCOFFLAWS',\n",
        "                              'SWITCHED PLATES (ALL)',\n",
        "                                  'UNKNOWN VIOLATION',\n",
        "               'UNREGISTERED VEH.ON PRIVATE PROPERTY',\n",
        "                 'VEHICLE BLOCKING HANDICAP CURB CUT',\n",
        "               'VEHICLE PARKED ON UNPAVED PORTION OR',\n",
        "                                               2007.0,\n",
        "                                               2008.0,\n",
        "                                               2009.0,\n",
        "                                               2010.0,\n",
        "                                               2011.0,\n",
        "                                               2012.0,\n",
        "                                               2013.0,\n",
        "                                               2014.0,\n",
        "                                               2015.0,\n",
        "                                               2016.0,\n",
        "                                               2017.0,\n",
        "                                               2018.0,\n",
        "                                               2019.0]"
      ],
      "execution_count": 0,
      "outputs": []
    },
    {
      "cell_type": "code",
      "metadata": {
        "id": "U6R5TKP8YOLR",
        "colab_type": "code",
        "colab": {}
      },
      "source": [
        "X = parking_final[feature_cols] # Features\n",
        "y = parking_final.RANK"
      ],
      "execution_count": 0,
      "outputs": []
    },
    {
      "cell_type": "code",
      "metadata": {
        "id": "kpqHGGmLYQuo",
        "colab_type": "code",
        "colab": {}
      },
      "source": [
        "X_train, X_test, y_train, y_test = train_test_split(X, y, test_size=0.3, random_state=1)"
      ],
      "execution_count": 0,
      "outputs": []
    },
    {
      "cell_type": "code",
      "metadata": {
        "id": "DN7pjomjYYWY",
        "colab_type": "code",
        "colab": {}
      },
      "source": [
        "from sklearn.preprocessing import StandardScaler\n",
        "\n",
        "sc = StandardScaler()\n",
        "X_train = sc.fit_transform(X_train)\n",
        "X_test = sc.transform(X_test)"
      ],
      "execution_count": 0,
      "outputs": []
    },
    {
      "cell_type": "code",
      "metadata": {
        "id": "1ahi8TG9YcgG",
        "colab_type": "code",
        "colab": {}
      },
      "source": [
        "from sklearn.ensemble import RandomForestRegressor\n",
        "\n",
        "regressor = RandomForestRegressor(n_estimators=20, random_state=0)\n",
        "regressor.fit(X_train, y_train)\n",
        "y_pred = regressor.predict(X_test)"
      ],
      "execution_count": 0,
      "outputs": []
    },
    {
      "cell_type": "code",
      "metadata": {
        "id": "PpgrVSPkYgCx",
        "colab_type": "code",
        "outputId": "da7dc3e8-ab9c-4436-bf97-f2b4dfdc250f",
        "colab": {
          "base_uri": "https://localhost:8080/",
          "height": 419
        }
      },
      "source": [
        "df=pd.DataFrame({'Actual':y_test, 'Predicted':y_pred,})\n",
        "df"
      ],
      "execution_count": 0,
      "outputs": [
        {
          "output_type": "execute_result",
          "data": {
            "text/html": [
              "<div>\n",
              "<style scoped>\n",
              "    .dataframe tbody tr th:only-of-type {\n",
              "        vertical-align: middle;\n",
              "    }\n",
              "\n",
              "    .dataframe tbody tr th {\n",
              "        vertical-align: top;\n",
              "    }\n",
              "\n",
              "    .dataframe thead th {\n",
              "        text-align: right;\n",
              "    }\n",
              "</style>\n",
              "<table border=\"1\" class=\"dataframe\">\n",
              "  <thead>\n",
              "    <tr style=\"text-align: right;\">\n",
              "      <th></th>\n",
              "      <th>Actual</th>\n",
              "      <th>Predicted</th>\n",
              "    </tr>\n",
              "  </thead>\n",
              "  <tbody>\n",
              "    <tr>\n",
              "      <th>952053</th>\n",
              "      <td>1</td>\n",
              "      <td>14.594374</td>\n",
              "    </tr>\n",
              "    <tr>\n",
              "      <th>2150132</th>\n",
              "      <td>40</td>\n",
              "      <td>17.838917</td>\n",
              "    </tr>\n",
              "    <tr>\n",
              "      <th>1520236</th>\n",
              "      <td>24</td>\n",
              "      <td>16.624840</td>\n",
              "    </tr>\n",
              "    <tr>\n",
              "      <th>1568810</th>\n",
              "      <td>24</td>\n",
              "      <td>19.303079</td>\n",
              "    </tr>\n",
              "    <tr>\n",
              "      <th>1490843</th>\n",
              "      <td>22</td>\n",
              "      <td>14.526487</td>\n",
              "    </tr>\n",
              "    <tr>\n",
              "      <th>...</th>\n",
              "      <td>...</td>\n",
              "      <td>...</td>\n",
              "    </tr>\n",
              "    <tr>\n",
              "      <th>2529955</th>\n",
              "      <td>18</td>\n",
              "      <td>16.265856</td>\n",
              "    </tr>\n",
              "    <tr>\n",
              "      <th>22932</th>\n",
              "      <td>36</td>\n",
              "      <td>20.038058</td>\n",
              "    </tr>\n",
              "    <tr>\n",
              "      <th>2304891</th>\n",
              "      <td>23</td>\n",
              "      <td>20.532279</td>\n",
              "    </tr>\n",
              "    <tr>\n",
              "      <th>1951624</th>\n",
              "      <td>27</td>\n",
              "      <td>15.580360</td>\n",
              "    </tr>\n",
              "    <tr>\n",
              "      <th>2694288</th>\n",
              "      <td>13</td>\n",
              "      <td>19.493193</td>\n",
              "    </tr>\n",
              "  </tbody>\n",
              "</table>\n",
              "<p>843795 rows × 2 columns</p>\n",
              "</div>"
            ],
            "text/plain": [
              "         Actual  Predicted\n",
              "952053        1  14.594374\n",
              "2150132      40  17.838917\n",
              "1520236      24  16.624840\n",
              "1568810      24  19.303079\n",
              "1490843      22  14.526487\n",
              "...         ...        ...\n",
              "2529955      18  16.265856\n",
              "22932        36  20.038058\n",
              "2304891      23  20.532279\n",
              "1951624      27  15.580360\n",
              "2694288      13  19.493193\n",
              "\n",
              "[843795 rows x 2 columns]"
            ]
          },
          "metadata": {
            "tags": []
          },
          "execution_count": 33
        }
      ]
    },
    {
      "cell_type": "code",
      "metadata": {
        "id": "lSYp1-5DYlMY",
        "colab_type": "code",
        "outputId": "78dc3b10-2ff4-4e30-d92a-dd1eae482b8a",
        "colab": {
          "base_uri": "https://localhost:8080/",
          "height": 68
        }
      },
      "source": [
        "from sklearn import metrics\n",
        "\n",
        "print('Mean Absolute Error:', metrics.mean_absolute_error(y_test, y_pred))\n",
        "print('Mean Squared Error:', metrics.mean_squared_error(y_test, y_pred))\n",
        "print('Root Mean Squared Error:', np.sqrt(metrics.mean_squared_error(y_test, y_pred)))"
      ],
      "execution_count": 0,
      "outputs": [
        {
          "output_type": "stream",
          "text": [
            "Mean Absolute Error: 10.542114967587207\n",
            "Mean Squared Error: 151.1185791403219\n",
            "Root Mean Squared Error: 12.293029697365979\n"
          ],
          "name": "stdout"
        }
      ]
    },
    {
      "cell_type": "code",
      "metadata": {
        "id": "B3kY3Iafnwa9",
        "colab_type": "code",
        "outputId": "8e04b027-2a27-4c65-af0a-745931d5091f",
        "colab": {
          "base_uri": "https://localhost:8080/",
          "height": 1000
        }
      },
      "source": [
        "parking_final.columns"
      ],
      "execution_count": 0,
      "outputs": [
        {
          "output_type": "execute_result",
          "data": {
            "text/plain": [
              "Index([                              'SUMMONS NUMBER',\n",
              "                                       'SUMMONS DATE',\n",
              "                                     'VIOLATION TIME',\n",
              "                              'VIOLATION DESCRIPTION',\n",
              "                                      'ORIGINAL FINE',\n",
              "                           'VIOLATION ADDRESS NUMBER',\n",
              "                                   'VIOLATION STREET',\n",
              "                             'VIOLATION FULL ADDRESS',\n",
              "                                               'CITY',\n",
              "                                              'STATE',\n",
              "                                           'LATITUDE',\n",
              "                                          'LONGITUDE',\n",
              "                                           'LOCATION',\n",
              "                                   'COUNCIL DISTRICT',\n",
              "                                    'POLICE DISTRICT',\n",
              "                                       'CENSUS TRACT',\n",
              "                                 'CENSUS BLOCK GROUP',\n",
              "                                       'CENSUS BLOCK',\n",
              "                                       'NEIGHBORHOOD',\n",
              "                                          'WALKSCORE',\n",
              "                                               'RANK',\n",
              "                               'GENTRIFICATION SCORE',\n",
              "                                     'CLASSIFCATION ',\n",
              "                                              'CLASS',\n",
              "                                  'ALTERNATE PARKING',\n",
              "                             'BLOCKED DRIVEWAY (ALL)',\n",
              "       'BUS RT. NO PARKING 1:30 TO 7:00 AM 11/15-4/1',\n",
              "                                     'DOUBLE PARKING',\n",
              "                   'EXPIRED INSPECTION STICKER (ALL)',\n",
              "                       'EXPIRED REGISTRATION STICKER',\n",
              "                     'LESS THAN 20 FT FROM CROSSWALK',\n",
              "                                       'LOADING ZONE',\n",
              "                                     'METER OVERTIME',\n",
              "                             'METHOD OF PARKING(ALL)',\n",
              "                       'NO INSPECTIONS STICKER (ALL)',\n",
              "             'NO PARK COMMERICAL TRCK ON RESIDENTIAL',\n",
              "                                         'NO PARKING',\n",
              "                 'NO PARKING OF HOUSE TRAILERS (ALL)',\n",
              "                      'NO REGISTRATION STICKER (ALL)',\n",
              "              'NO REPAIRS IN STREET EXCEPT EMERGENCY',\n",
              "                                        'NO STANDING',\n",
              "                                  'NO STOPPING (ALL)',\n",
              "                                       'NO VIOLATION',\n",
              "                    'ONE LICENSE PLATE MISSING (ALL)',\n",
              "                    'PARKED BEYOND POSTED TIME LIMIT',\n",
              "                         'PARKED IN HANDICAPPED AREA',\n",
              "              'PARKED LESS THAN 15 FT - FIRE HYDRANT',\n",
              "                      'PARKED MORE THAN 12\"FROM CURB',\n",
              "                 'PARKED MORE THAN 72 HRS. SAME SPOT',\n",
              "                      'PARKED ON BRIDGE OR IN SUBWAY',\n",
              "                           'PARKED ON SIDEWALK (ALL)',\n",
              "                'PARKED OVER 18 FT FOR MORE THAN ONE',\n",
              "                   'PARKING IN WRONG DIRECTION (ALL)',\n",
              "                 'PARKING ON DIVIDED HWYS PROHIBITED',\n",
              "           'PARKING PROHIBITED IN CONSTRUCTION SITES',\n",
              "                                  'PARKING VIOLATION',\n",
              "                      'PARKING WITHOUT CONSENT (ALL)',\n",
              "                  'PERSISTEN VIOLATORS AND SCOFFLAWS',\n",
              "                              'SWITCHED PLATES (ALL)',\n",
              "                                  'UNKNOWN VIOLATION',\n",
              "               'UNREGISTERED VEH.ON PRIVATE PROPERTY',\n",
              "                 'VEHICLE BLOCKING HANDICAP CURB CUT',\n",
              "               'VEHICLE PARKED ON UNPAVED PORTION OR',\n",
              "                                               2007.0,\n",
              "                                               2008.0,\n",
              "                                               2009.0,\n",
              "                                               2010.0,\n",
              "                                               2011.0,\n",
              "                                               2012.0,\n",
              "                                               2013.0,\n",
              "                                               2014.0,\n",
              "                                               2015.0,\n",
              "                                               2016.0,\n",
              "                                               2017.0,\n",
              "                                               2018.0,\n",
              "                                               2019.0],\n",
              "      dtype='object')"
            ]
          },
          "metadata": {
            "tags": []
          },
          "execution_count": 35
        }
      ]
    },
    {
      "cell_type": "code",
      "metadata": {
        "id": "EItrzccYn4RH",
        "colab_type": "code",
        "outputId": "e604e517-9948-4d58-b7da-693c8b81a217",
        "colab": {
          "base_uri": "https://localhost:8080/",
          "height": 221
        }
      },
      "source": [
        "parking_final['CLASSIFCATION ']"
      ],
      "execution_count": 0,
      "outputs": [
        {
          "output_type": "execute_result",
          "data": {
            "text/plain": [
              "0          25\n",
              "1          25\n",
              "2          25\n",
              "3          25\n",
              "4          25\n",
              "           ..\n",
              "2812642    75\n",
              "2812643    75\n",
              "2812644    75\n",
              "2812645    75\n",
              "2812646    75\n",
              "Name: CLASSIFCATION , Length: 2812647, dtype: int64"
            ]
          },
          "metadata": {
            "tags": []
          },
          "execution_count": 36
        }
      ]
    },
    {
      "cell_type": "code",
      "metadata": {
        "id": "F479UvKwkjuj",
        "colab_type": "code",
        "colab": {}
      },
      "source": [
        "X1 = parking_final[feature_cols] # Features\n",
        "y1 = parking_final['CLASS'] "
      ],
      "execution_count": 0,
      "outputs": []
    },
    {
      "cell_type": "code",
      "metadata": {
        "id": "DkRFdp1UY5K7",
        "colab_type": "code",
        "colab": {}
      },
      "source": [
        "X1_train, X1_test, y1_train, y1_test = train_test_split(X1, y1, test_size=0.3, random_state=1)"
      ],
      "execution_count": 0,
      "outputs": []
    },
    {
      "cell_type": "code",
      "metadata": {
        "id": "i68r_QK3iiZr",
        "colab_type": "code",
        "outputId": "62633d54-6854-4274-f4e5-733097f3bd04",
        "colab": {
          "base_uri": "https://localhost:8080/",
          "height": 136
        }
      },
      "source": [
        "from sklearn.ensemble import RandomForestClassifier\n",
        "\n",
        "#Create a Gaussian Classifier\n",
        "clf=RandomForestClassifier(n_estimators=100)\n",
        "\n",
        "#Train the model using the training sets y_pred=clf.predict(X_test)\n",
        "clf.fit(X1_train,y1_train)\n"
      ],
      "execution_count": 0,
      "outputs": [
        {
          "output_type": "execute_result",
          "data": {
            "text/plain": [
              "RandomForestClassifier(bootstrap=True, class_weight=None, criterion='gini',\n",
              "                       max_depth=None, max_features='auto', max_leaf_nodes=None,\n",
              "                       min_impurity_decrease=0.0, min_impurity_split=None,\n",
              "                       min_samples_leaf=1, min_samples_split=2,\n",
              "                       min_weight_fraction_leaf=0.0, n_estimators=100,\n",
              "                       n_jobs=None, oob_score=False, random_state=None,\n",
              "                       verbose=0, warm_start=False)"
            ]
          },
          "metadata": {
            "tags": []
          },
          "execution_count": 39
        }
      ]
    },
    {
      "cell_type": "code",
      "metadata": {
        "id": "-wq7JVXxYxmp",
        "colab_type": "code",
        "colab": {}
      },
      "source": [
        "\n",
        "y1_pred=clf.predict(X1_test)"
      ],
      "execution_count": 0,
      "outputs": []
    },
    {
      "cell_type": "code",
      "metadata": {
        "id": "Rk9iVns0lSnz",
        "colab_type": "code",
        "outputId": "86821f78-9e90-4e04-a63e-8125fda54fee",
        "colab": {
          "base_uri": "https://localhost:8080/",
          "height": 34
        }
      },
      "source": [
        "from sklearn import metrics\n",
        "# Model Accuracy, how often is the classifier correct?\n",
        "print(\"Accuracy:\",metrics.accuracy_score(y1_test, y1_pred))"
      ],
      "execution_count": 0,
      "outputs": [
        {
          "output_type": "stream",
          "text": [
            "Accuracy: 0.3773748363050267\n"
          ],
          "name": "stdout"
        }
      ]
    },
    {
      "cell_type": "markdown",
      "metadata": {
        "id": "FY4JPVpocwR2",
        "colab_type": "text"
      },
      "source": [
        "Assessment Price"
      ]
    },
    {
      "cell_type": "code",
      "metadata": {
        "id": "NiY09m1wc1i_",
        "colab_type": "code",
        "colab": {}
      },
      "source": [
        "assessment_price=pd.read_csv('/content/drive/My Drive/Gentrification/census_rank_Assessmentprice.csv')"
      ],
      "execution_count": 0,
      "outputs": []
    },
    {
      "cell_type": "markdown",
      "metadata": {
        "id": "afioXLCrcutM",
        "colab_type": "text"
      },
      "source": [
        ""
      ]
    },
    {
      "cell_type": "code",
      "metadata": {
        "id": "6ndqsHtlfCRz",
        "colab_type": "code",
        "colab": {}
      },
      "source": [
        "assessment_price['CENSUS TRACT'] = pd.to_numeric(assessment_price['CENSUS TRACT'], errors='coerce')\n",
        "assessment_price = assessment_price.dropna(subset=['CENSUS TRACT'])\n",
        "assessment_price['CENSUS TRACT']=assessment_price['CENSUS TRACT'].astype(float)"
      ],
      "execution_count": 0,
      "outputs": []
    },
    {
      "cell_type": "code",
      "metadata": {
        "id": "nXEpaqgzfHoE",
        "colab_type": "code",
        "colab": {}
      },
      "source": [
        "parking_ranked_assessment=parking_summonses.merge(assessment_price,on='CENSUS TRACT')"
      ],
      "execution_count": 0,
      "outputs": []
    },
    {
      "cell_type": "code",
      "metadata": {
        "id": "roPJAAKgfoZG",
        "colab_type": "code",
        "outputId": "3560dd23-f182-45ce-ea3d-159fff27b576",
        "colab": {
          "base_uri": "https://localhost:8080/",
          "height": 728
        }
      },
      "source": [
        "parking_ranked_assessment.dropna()"
      ],
      "execution_count": 0,
      "outputs": [
        {
          "output_type": "execute_result",
          "data": {
            "text/html": [
              "<div>\n",
              "<style scoped>\n",
              "    .dataframe tbody tr th:only-of-type {\n",
              "        vertical-align: middle;\n",
              "    }\n",
              "\n",
              "    .dataframe tbody tr th {\n",
              "        vertical-align: top;\n",
              "    }\n",
              "\n",
              "    .dataframe thead th {\n",
              "        text-align: right;\n",
              "    }\n",
              "</style>\n",
              "<table border=\"1\" class=\"dataframe\">\n",
              "  <thead>\n",
              "    <tr style=\"text-align: right;\">\n",
              "      <th></th>\n",
              "      <th>SUMMONS NUMBER</th>\n",
              "      <th>SUMMONS DATE</th>\n",
              "      <th>VIOLATION TIME</th>\n",
              "      <th>VIOLATION DESCRIPTION</th>\n",
              "      <th>ORIGINAL FINE</th>\n",
              "      <th>VIOLATION ADDRESS NUMBER</th>\n",
              "      <th>VIOLATION STREET</th>\n",
              "      <th>VIOLATION FULL ADDRESS</th>\n",
              "      <th>CITY</th>\n",
              "      <th>STATE</th>\n",
              "      <th>LATITUDE</th>\n",
              "      <th>LONGITUDE</th>\n",
              "      <th>LOCATION</th>\n",
              "      <th>COUNCIL DISTRICT</th>\n",
              "      <th>POLICE DISTRICT</th>\n",
              "      <th>CENSUS TRACT</th>\n",
              "      <th>CENSUS BLOCK GROUP</th>\n",
              "      <th>CENSUS BLOCK</th>\n",
              "      <th>Price/sqft</th>\n",
              "      <th>Rank</th>\n",
              "    </tr>\n",
              "  </thead>\n",
              "  <tbody>\n",
              "    <tr>\n",
              "      <th>0</th>\n",
              "      <td>X2308148</td>\n",
              "      <td>08/02/2019</td>\n",
              "      <td>0125P</td>\n",
              "      <td>PARKING VIOLATION</td>\n",
              "      <td>40.0</td>\n",
              "      <td>175.0</td>\n",
              "      <td>FRANKLIN</td>\n",
              "      <td>175 FRANKLIN</td>\n",
              "      <td>Buffalo</td>\n",
              "      <td>NY</td>\n",
              "      <td>42.888195</td>\n",
              "      <td>-78.875835</td>\n",
              "      <td>(42.8881947942094, -78.87583500193372)</td>\n",
              "      <td>ELLICOTT</td>\n",
              "      <td>District B</td>\n",
              "      <td>165.0</td>\n",
              "      <td>1</td>\n",
              "      <td>1028</td>\n",
              "      <td>272.117490</td>\n",
              "      <td>2</td>\n",
              "    </tr>\n",
              "    <tr>\n",
              "      <th>1</th>\n",
              "      <td>X2308149</td>\n",
              "      <td>08/02/2019</td>\n",
              "      <td>0130P</td>\n",
              "      <td>NO STANDING</td>\n",
              "      <td>40.0</td>\n",
              "      <td>37.0</td>\n",
              "      <td>HURON WEST</td>\n",
              "      <td>37 HURON WEST</td>\n",
              "      <td>Buffalo</td>\n",
              "      <td>NY</td>\n",
              "      <td>42.888948</td>\n",
              "      <td>-78.874872</td>\n",
              "      <td>(42.88894814599496, -78.87487202385579)</td>\n",
              "      <td>ELLICOTT</td>\n",
              "      <td>District B</td>\n",
              "      <td>165.0</td>\n",
              "      <td>1</td>\n",
              "      <td>1022</td>\n",
              "      <td>272.117490</td>\n",
              "      <td>2</td>\n",
              "    </tr>\n",
              "    <tr>\n",
              "      <th>2</th>\n",
              "      <td>X2308151</td>\n",
              "      <td>08/02/2019</td>\n",
              "      <td>0305P</td>\n",
              "      <td>METER OVERTIME</td>\n",
              "      <td>40.0</td>\n",
              "      <td>228.0</td>\n",
              "      <td>FRANKLIN</td>\n",
              "      <td>228 FRANKLIN</td>\n",
              "      <td>Buffalo</td>\n",
              "      <td>NY</td>\n",
              "      <td>42.890040</td>\n",
              "      <td>-78.875395</td>\n",
              "      <td>(42.89003992129964, -78.87539503306608)</td>\n",
              "      <td>ELLICOTT</td>\n",
              "      <td>District B</td>\n",
              "      <td>165.0</td>\n",
              "      <td>1</td>\n",
              "      <td>1023</td>\n",
              "      <td>272.117490</td>\n",
              "      <td>2</td>\n",
              "    </tr>\n",
              "    <tr>\n",
              "      <th>3</th>\n",
              "      <td>X2308152</td>\n",
              "      <td>08/02/2019</td>\n",
              "      <td>0312P</td>\n",
              "      <td>METER OVERTIME</td>\n",
              "      <td>40.0</td>\n",
              "      <td>210.0</td>\n",
              "      <td>FRANKLIN</td>\n",
              "      <td>210 FRANKLIN</td>\n",
              "      <td>Buffalo</td>\n",
              "      <td>NY</td>\n",
              "      <td>42.889319</td>\n",
              "      <td>-78.875628</td>\n",
              "      <td>(42.88931932925486, -78.87562789846032)</td>\n",
              "      <td>ELLICOTT</td>\n",
              "      <td>District B</td>\n",
              "      <td>165.0</td>\n",
              "      <td>1</td>\n",
              "      <td>1023</td>\n",
              "      <td>272.117490</td>\n",
              "      <td>2</td>\n",
              "    </tr>\n",
              "    <tr>\n",
              "      <th>4</th>\n",
              "      <td>X2308153</td>\n",
              "      <td>08/02/2019</td>\n",
              "      <td>0320P</td>\n",
              "      <td>METER OVERTIME</td>\n",
              "      <td>40.0</td>\n",
              "      <td>22.0</td>\n",
              "      <td>SENECA WEST</td>\n",
              "      <td>22 SENECA WEST</td>\n",
              "      <td>Buffalo</td>\n",
              "      <td>NY</td>\n",
              "      <td>42.880596</td>\n",
              "      <td>-78.875566</td>\n",
              "      <td>(42.880595539253534, -78.87556606949188)</td>\n",
              "      <td>FILLMORE</td>\n",
              "      <td>District B</td>\n",
              "      <td>165.0</td>\n",
              "      <td>1</td>\n",
              "      <td>1114</td>\n",
              "      <td>272.117490</td>\n",
              "      <td>2</td>\n",
              "    </tr>\n",
              "    <tr>\n",
              "      <th>...</th>\n",
              "      <td>...</td>\n",
              "      <td>...</td>\n",
              "      <td>...</td>\n",
              "      <td>...</td>\n",
              "      <td>...</td>\n",
              "      <td>...</td>\n",
              "      <td>...</td>\n",
              "      <td>...</td>\n",
              "      <td>...</td>\n",
              "      <td>...</td>\n",
              "      <td>...</td>\n",
              "      <td>...</td>\n",
              "      <td>...</td>\n",
              "      <td>...</td>\n",
              "      <td>...</td>\n",
              "      <td>...</td>\n",
              "      <td>...</td>\n",
              "      <td>...</td>\n",
              "      <td>...</td>\n",
              "      <td>...</td>\n",
              "    </tr>\n",
              "    <tr>\n",
              "      <th>2109939</th>\n",
              "      <td>Y9844732</td>\n",
              "      <td>06/11/2015</td>\n",
              "      <td>1226A</td>\n",
              "      <td>EXPIRED INSPECTION STICKER (ALL)</td>\n",
              "      <td>35.0</td>\n",
              "      <td>100.0</td>\n",
              "      <td>HOWARD</td>\n",
              "      <td>100 HOWARD</td>\n",
              "      <td>Buffalo</td>\n",
              "      <td>NY</td>\n",
              "      <td>42.883386</td>\n",
              "      <td>-78.850221</td>\n",
              "      <td>(42.88338630523, -78.850220902355)</td>\n",
              "      <td>ELLICOTT</td>\n",
              "      <td>District C</td>\n",
              "      <td>15.0</td>\n",
              "      <td>2</td>\n",
              "      <td>2023</td>\n",
              "      <td>24.060547</td>\n",
              "      <td>66</td>\n",
              "    </tr>\n",
              "    <tr>\n",
              "      <th>2109940</th>\n",
              "      <td>Y9844733</td>\n",
              "      <td>06/11/2015</td>\n",
              "      <td>1229A</td>\n",
              "      <td>NO PARKING</td>\n",
              "      <td>35.0</td>\n",
              "      <td>165.0</td>\n",
              "      <td>HOWARD</td>\n",
              "      <td>165 HOWARD</td>\n",
              "      <td>Buffalo</td>\n",
              "      <td>NY</td>\n",
              "      <td>42.883285</td>\n",
              "      <td>-78.847895</td>\n",
              "      <td>(42.883285141776, -78.847894893586)</td>\n",
              "      <td>FILLMORE</td>\n",
              "      <td>District C</td>\n",
              "      <td>15.0</td>\n",
              "      <td>1</td>\n",
              "      <td>1008</td>\n",
              "      <td>24.060547</td>\n",
              "      <td>66</td>\n",
              "    </tr>\n",
              "    <tr>\n",
              "      <th>2109941</th>\n",
              "      <td>Y9844734</td>\n",
              "      <td>06/11/2015</td>\n",
              "      <td>1230A</td>\n",
              "      <td>EXPIRED INSPECTION STICKER (ALL)</td>\n",
              "      <td>35.0</td>\n",
              "      <td>165.0</td>\n",
              "      <td>HOWARD</td>\n",
              "      <td>165 HOWARD</td>\n",
              "      <td>Buffalo</td>\n",
              "      <td>NY</td>\n",
              "      <td>42.883285</td>\n",
              "      <td>-78.847895</td>\n",
              "      <td>(42.883285141776, -78.847894893586)</td>\n",
              "      <td>FILLMORE</td>\n",
              "      <td>District C</td>\n",
              "      <td>15.0</td>\n",
              "      <td>1</td>\n",
              "      <td>1008</td>\n",
              "      <td>24.060547</td>\n",
              "      <td>66</td>\n",
              "    </tr>\n",
              "    <tr>\n",
              "      <th>2109942</th>\n",
              "      <td>Z9835576</td>\n",
              "      <td>05/14/2015</td>\n",
              "      <td>1106A</td>\n",
              "      <td>ALTERNATE PARKING</td>\n",
              "      <td>30.0</td>\n",
              "      <td>66.0</td>\n",
              "      <td>WATSON</td>\n",
              "      <td>66 WATSON</td>\n",
              "      <td>Buffalo</td>\n",
              "      <td>NY</td>\n",
              "      <td>42.881833</td>\n",
              "      <td>-78.849974</td>\n",
              "      <td>(42.881833438232, -78.849974179483)</td>\n",
              "      <td>ELLICOTT</td>\n",
              "      <td>District C</td>\n",
              "      <td>15.0</td>\n",
              "      <td>1</td>\n",
              "      <td>1010</td>\n",
              "      <td>24.060547</td>\n",
              "      <td>66</td>\n",
              "    </tr>\n",
              "    <tr>\n",
              "      <th>2109943</th>\n",
              "      <td>x2172797</td>\n",
              "      <td>10/18/2018</td>\n",
              "      <td>1252P</td>\n",
              "      <td>ALTERNATE PARKING</td>\n",
              "      <td>40.0</td>\n",
              "      <td>255.0</td>\n",
              "      <td>SHUMWAY</td>\n",
              "      <td>255 SHUMWAY</td>\n",
              "      <td>Buffalo</td>\n",
              "      <td>NY</td>\n",
              "      <td>42.890504</td>\n",
              "      <td>-78.844912</td>\n",
              "      <td>(42.890503659153, -78.844912326263)</td>\n",
              "      <td>FILLMORE</td>\n",
              "      <td>District C</td>\n",
              "      <td>15.0</td>\n",
              "      <td>2</td>\n",
              "      <td>2000</td>\n",
              "      <td>24.060547</td>\n",
              "      <td>66</td>\n",
              "    </tr>\n",
              "  </tbody>\n",
              "</table>\n",
              "<p>2109418 rows × 20 columns</p>\n",
              "</div>"
            ],
            "text/plain": [
              "        SUMMONS NUMBER SUMMONS DATE  ...  Price/sqft Rank\n",
              "0             X2308148   08/02/2019  ...  272.117490    2\n",
              "1             X2308149   08/02/2019  ...  272.117490    2\n",
              "2             X2308151   08/02/2019  ...  272.117490    2\n",
              "3             X2308152   08/02/2019  ...  272.117490    2\n",
              "4             X2308153   08/02/2019  ...  272.117490    2\n",
              "...                ...          ...  ...         ...  ...\n",
              "2109939       Y9844732   06/11/2015  ...   24.060547   66\n",
              "2109940       Y9844733   06/11/2015  ...   24.060547   66\n",
              "2109941       Y9844734   06/11/2015  ...   24.060547   66\n",
              "2109942       Z9835576   05/14/2015  ...   24.060547   66\n",
              "2109943       x2172797   10/18/2018  ...   24.060547   66\n",
              "\n",
              "[2109418 rows x 20 columns]"
            ]
          },
          "metadata": {
            "tags": []
          },
          "execution_count": 45
        }
      ]
    },
    {
      "cell_type": "code",
      "metadata": {
        "id": "wpwmiEPyf4tk",
        "colab_type": "code",
        "colab": {}
      },
      "source": [
        "parking_ranked_assessment['SUMMONS DATE']=parking_ranked_assessment['SUMMONS DATE'].apply(lambda x:x[6] + x[7] +x[8] +x[9]) \n",
        "parking_ranked_assessment['SUMMONS DATE']=parking_ranked_assessment['SUMMONS DATE'].apply(lambda x:float(x))"
      ],
      "execution_count": 0,
      "outputs": []
    },
    {
      "cell_type": "code",
      "metadata": {
        "id": "UsftHiPngSw4",
        "colab_type": "code",
        "outputId": "92547797-89e5-46a0-ce22-61fa50f0f096",
        "colab": {
          "base_uri": "https://localhost:8080/",
          "height": 71
        }
      },
      "source": [
        "parking_ranked_assessment=parking_ranked_assessment[parking_ranked_assessment['SUMMONS DATE'] != '2019']"
      ],
      "execution_count": 0,
      "outputs": [
        {
          "output_type": "stream",
          "text": [
            "/usr/local/lib/python3.6/dist-packages/pandas/core/ops/__init__.py:1115: FutureWarning: elementwise comparison failed; returning scalar instead, but in the future will perform elementwise comparison\n",
            "  result = method(y)\n"
          ],
          "name": "stderr"
        }
      ]
    },
    {
      "cell_type": "code",
      "metadata": {
        "id": "xX4s9nifgcNt",
        "colab_type": "code",
        "outputId": "7a003988-eefc-4d68-e9dc-4a9f371e60d2",
        "colab": {
          "base_uri": "https://localhost:8080/",
          "height": 153
        }
      },
      "source": [
        "from sklearn.preprocessing import LabelBinarizer\n",
        "\n",
        "lb = LabelBinarizer()\n",
        "lb_results = lb.fit_transform(parking_ranked_assessment['VIOLATION DESCRIPTION'])\n",
        "lb_results_df = pd.DataFrame(lb_results, columns=lb.classes_)\n",
        "\n",
        "print(lb_results_df.head())"
      ],
      "execution_count": 0,
      "outputs": [
        {
          "output_type": "stream",
          "text": [
            "   ALTERNATE PARKING  ...  VEHICLE PARKED ON UNPAVED PORTION OR\n",
            "0                  0  ...                                     0\n",
            "1                  0  ...                                     0\n",
            "2                  0  ...                                     0\n",
            "3                  0  ...                                     0\n",
            "4                  0  ...                                     0\n",
            "\n",
            "[5 rows x 39 columns]\n"
          ],
          "name": "stdout"
        }
      ]
    },
    {
      "cell_type": "code",
      "metadata": {
        "id": "gfJZge_sgnxD",
        "colab_type": "code",
        "outputId": "3960f6d1-9812-49c8-d33a-4b7da5ebf309",
        "colab": {
          "base_uri": "https://localhost:8080/",
          "height": 153
        }
      },
      "source": [
        "parking_final_assessment = pd.concat([parking_ranked_assessment, lb_results_df], axis=1)\n",
        "\n",
        "print(parking_final_assessment.head())"
      ],
      "execution_count": 0,
      "outputs": [
        {
          "output_type": "stream",
          "text": [
            "  SUMMONS NUMBER  ...  VEHICLE PARKED ON UNPAVED PORTION OR\n",
            "0       X2308148  ...                                     0\n",
            "1       X2308149  ...                                     0\n",
            "2       X2308151  ...                                     0\n",
            "3       X2308152  ...                                     0\n",
            "4       X2308153  ...                                     0\n",
            "\n",
            "[5 rows x 59 columns]\n"
          ],
          "name": "stdout"
        }
      ]
    },
    {
      "cell_type": "code",
      "metadata": {
        "id": "lu1_XCuAgtdz",
        "colab_type": "code",
        "colab": {}
      },
      "source": [
        "feature_cols =['SUMMONS DATE','ALTERNATE PARKING',\n",
        "       'BLOCKED DRIVEWAY (ALL)',\n",
        "       'BUS RT. NO PARKING 1:30 TO 7:00 AM 11/15-4/1', 'DOUBLE PARKING',\n",
        "       'EXPIRED INSPECTION STICKER (ALL)', 'EXPIRED REGISTRATION STICKER',\n",
        "       'LESS THAN 20 FT FROM CROSSWALK', 'LOADING ZONE', 'METER OVERTIME',\n",
        "       'METHOD OF PARKING(ALL)', 'NO INSPECTIONS STICKER (ALL)',\n",
        "       'NO PARK COMMERICAL TRCK ON RESIDENTIAL', 'NO PARKING',\n",
        "       'NO PARKING OF HOUSE TRAILERS (ALL)', 'NO REGISTRATION STICKER (ALL)',\n",
        "       'NO REPAIRS IN STREET EXCEPT EMERGENCY', 'NO STANDING',\n",
        "       'NO STOPPING (ALL)', 'NO VIOLATION', 'ONE LICENSE PLATE MISSING (ALL)',\n",
        "       'PARKED BEYOND POSTED TIME LIMIT', 'PARKED IN HANDICAPPED AREA',\n",
        "       'PARKED LESS THAN 15 FT - FIRE HYDRANT',\n",
        "       'PARKED MORE THAN 12\"FROM CURB', 'PARKED MORE THAN 72 HRS. SAME SPOT',\n",
        "       'PARKED ON BRIDGE OR IN SUBWAY', 'PARKED ON SIDEWALK (ALL)',\n",
        "       'PARKED OVER 18 FT FOR MORE THAN ONE',\n",
        "       'PARKING IN WRONG DIRECTION (ALL)',\n",
        "       'PARKING ON DIVIDED HWYS PROHIBITED',\n",
        "       'PARKING PROHIBITED IN CONSTRUCTION SITES', 'PARKING VIOLATION',\n",
        "       'PARKING WITHOUT CONSENT (ALL)', 'PERSISTEN VIOLATORS AND SCOFFLAWS',\n",
        "       'SWITCHED PLATES (ALL)', 'UNKNOWN VIOLATION',\n",
        "       'UNREGISTERED VEH.ON PRIVATE PROPERTY',\n",
        "       'VEHICLE BLOCKING HANDICAP CURB CUT',\n",
        "       'VEHICLE PARKED ON UNPAVED PORTION OR']"
      ],
      "execution_count": 0,
      "outputs": []
    },
    {
      "cell_type": "code",
      "metadata": {
        "id": "fkLHXJnThPoa",
        "colab_type": "code",
        "colab": {}
      },
      "source": [
        " parking_final_assessment['Rank'].fillna((parking_final_assessment['Rank'].mean()),inplace=True)"
      ],
      "execution_count": 0,
      "outputs": []
    },
    {
      "cell_type": "code",
      "metadata": {
        "id": "xb4TpJaNhYPp",
        "colab_type": "code",
        "colab": {}
      },
      "source": [
        "X = parking_final_assessment[feature_cols] # Features\n",
        "y = parking_final_assessment.Rank"
      ],
      "execution_count": 0,
      "outputs": []
    },
    {
      "cell_type": "code",
      "metadata": {
        "id": "RXASYclVho7E",
        "colab_type": "code",
        "colab": {}
      },
      "source": [
        "X_train, X_test, y_train, y_test = train_test_split(X, y, test_size=0.3, random_state=1)"
      ],
      "execution_count": 0,
      "outputs": []
    },
    {
      "cell_type": "code",
      "metadata": {
        "id": "2f18OQDbhynl",
        "colab_type": "code",
        "colab": {}
      },
      "source": [
        "from sklearn.ensemble import RandomForestRegressor\n",
        "\n",
        "regressor = RandomForestRegressor(n_estimators=20, random_state=0)\n",
        "regressor.fit(X_train, y_train)\n",
        "y_pred = regressor.predict(X_test)"
      ],
      "execution_count": 0,
      "outputs": []
    },
    {
      "cell_type": "code",
      "metadata": {
        "id": "vUZgpzQrh3cd",
        "colab_type": "code",
        "outputId": "48df5ee1-1efd-40ab-91bd-3c7f624a6ad9",
        "colab": {
          "base_uri": "https://localhost:8080/",
          "height": 419
        }
      },
      "source": [
        "df=pd.DataFrame({'Actual':y_test, 'Predicted':y_pred,})\n",
        "df"
      ],
      "execution_count": 0,
      "outputs": [
        {
          "output_type": "execute_result",
          "data": {
            "text/html": [
              "<div>\n",
              "<style scoped>\n",
              "    .dataframe tbody tr th:only-of-type {\n",
              "        vertical-align: middle;\n",
              "    }\n",
              "\n",
              "    .dataframe tbody tr th {\n",
              "        vertical-align: top;\n",
              "    }\n",
              "\n",
              "    .dataframe thead th {\n",
              "        text-align: right;\n",
              "    }\n",
              "</style>\n",
              "<table border=\"1\" class=\"dataframe\">\n",
              "  <thead>\n",
              "    <tr style=\"text-align: right;\">\n",
              "      <th></th>\n",
              "      <th>Actual</th>\n",
              "      <th>Predicted</th>\n",
              "    </tr>\n",
              "  </thead>\n",
              "  <tbody>\n",
              "    <tr>\n",
              "      <th>284683</th>\n",
              "      <td>2</td>\n",
              "      <td>28.166680</td>\n",
              "    </tr>\n",
              "    <tr>\n",
              "      <th>1219255</th>\n",
              "      <td>34</td>\n",
              "      <td>30.928944</td>\n",
              "    </tr>\n",
              "    <tr>\n",
              "      <th>399622</th>\n",
              "      <td>7</td>\n",
              "      <td>14.971995</td>\n",
              "    </tr>\n",
              "    <tr>\n",
              "      <th>1388856</th>\n",
              "      <td>4</td>\n",
              "      <td>12.688517</td>\n",
              "    </tr>\n",
              "    <tr>\n",
              "      <th>1582979</th>\n",
              "      <td>13</td>\n",
              "      <td>26.921618</td>\n",
              "    </tr>\n",
              "    <tr>\n",
              "      <th>...</th>\n",
              "      <td>...</td>\n",
              "      <td>...</td>\n",
              "    </tr>\n",
              "    <tr>\n",
              "      <th>586926</th>\n",
              "      <td>3</td>\n",
              "      <td>26.921618</td>\n",
              "    </tr>\n",
              "    <tr>\n",
              "      <th>1757866</th>\n",
              "      <td>14</td>\n",
              "      <td>30.988432</td>\n",
              "    </tr>\n",
              "    <tr>\n",
              "      <th>211580</th>\n",
              "      <td>2</td>\n",
              "      <td>27.939208</td>\n",
              "    </tr>\n",
              "    <tr>\n",
              "      <th>90944</th>\n",
              "      <td>2</td>\n",
              "      <td>12.688517</td>\n",
              "    </tr>\n",
              "    <tr>\n",
              "      <th>745291</th>\n",
              "      <td>20</td>\n",
              "      <td>25.789809</td>\n",
              "    </tr>\n",
              "  </tbody>\n",
              "</table>\n",
              "<p>632984 rows × 2 columns</p>\n",
              "</div>"
            ],
            "text/plain": [
              "         Actual  Predicted\n",
              "284683        2  28.166680\n",
              "1219255      34  30.928944\n",
              "399622        7  14.971995\n",
              "1388856       4  12.688517\n",
              "1582979      13  26.921618\n",
              "...         ...        ...\n",
              "586926        3  26.921618\n",
              "1757866      14  30.988432\n",
              "211580        2  27.939208\n",
              "90944         2  12.688517\n",
              "745291       20  25.789809\n",
              "\n",
              "[632984 rows x 2 columns]"
            ]
          },
          "metadata": {
            "tags": []
          },
          "execution_count": 55
        }
      ]
    },
    {
      "cell_type": "code",
      "metadata": {
        "id": "KjmvG7ruiHbH",
        "colab_type": "code",
        "outputId": "13189a9d-65fa-4c60-8184-b9650ad16609",
        "colab": {
          "base_uri": "https://localhost:8080/",
          "height": 68
        }
      },
      "source": [
        "from sklearn import metrics\n",
        "\n",
        "print('Mean Absolute Error:', metrics.mean_absolute_error(y_test, y_pred))\n",
        "print('Mean Squared Error:', metrics.mean_squared_error(y_test, y_pred))\n",
        "print('Root Mean Squared Error:', np.sqrt(metrics.mean_squared_error(y_test, y_pred)))"
      ],
      "execution_count": 0,
      "outputs": [
        {
          "output_type": "stream",
          "text": [
            "Mean Absolute Error: 16.239564983192004\n",
            "Mean Squared Error: 411.4642491927575\n",
            "Root Mean Squared Error: 20.28458156316658\n"
          ],
          "name": "stdout"
        }
      ]
    },
    {
      "cell_type": "code",
      "metadata": {
        "id": "miZ1_haJiQ7x",
        "colab_type": "code",
        "colab": {}
      },
      "source": [
        ""
      ],
      "execution_count": 0,
      "outputs": []
    }
  ]
}